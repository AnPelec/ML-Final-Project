{
 "cells": [
  {
   "cell_type": "code",
   "execution_count": 20,
   "metadata": {},
   "outputs": [],
   "source": [
    "import numpy as np\n",
    "import pandas as pd\n",
    "import matplotlib.pyplot as plt\n",
    "import seaborn as sns\n",
    "pd.set_option(\"display.max_colwidth\", 200)"
   ]
  },
  {
   "cell_type": "code",
   "execution_count": 93,
   "metadata": {},
   "outputs": [],
   "source": [
    "df = pd.read_csv('data_elonmusk.csv',encoding = \"ISO-8859-1\")"
   ]
  },
  {
   "cell_type": "code",
   "execution_count": 94,
   "metadata": {},
   "outputs": [
    {
     "data": {
      "text/html": [
       "<div>\n",
       "<style scoped>\n",
       "    .dataframe tbody tr th:only-of-type {\n",
       "        vertical-align: middle;\n",
       "    }\n",
       "\n",
       "    .dataframe tbody tr th {\n",
       "        vertical-align: top;\n",
       "    }\n",
       "\n",
       "    .dataframe thead th {\n",
       "        text-align: right;\n",
       "    }\n",
       "</style>\n",
       "<table border=\"1\" class=\"dataframe\">\n",
       "  <thead>\n",
       "    <tr style=\"text-align: right;\">\n",
       "      <th></th>\n",
       "      <th>row ID</th>\n",
       "      <th>Tweet</th>\n",
       "      <th>Time</th>\n",
       "      <th>Retweet from</th>\n",
       "      <th>User</th>\n",
       "    </tr>\n",
       "  </thead>\n",
       "  <tbody>\n",
       "    <tr>\n",
       "      <th>3213</th>\n",
       "      <td>Row3213</td>\n",
       "      <td>@YOUSRC Amos's article was fair, but his editor chose a more sensational headline &amp; used quotes even though I didn't actually say that.</td>\n",
       "      <td>2012-11-20 08:52:03</td>\n",
       "      <td>NaN</td>\n",
       "      <td>elonmusk</td>\n",
       "    </tr>\n",
       "    <tr>\n",
       "      <th>3214</th>\n",
       "      <td>Row3214</td>\n",
       "      <td>These articles in Space News describe why Ariane 6 vs 5: http://t.co/IaeYXXK9 and http://t.co/ghs3FG8w</td>\n",
       "      <td>2012-11-20 08:38:31</td>\n",
       "      <td>NaN</td>\n",
       "      <td>elonmusk</td>\n",
       "    </tr>\n",
       "    <tr>\n",
       "      <th>3215</th>\n",
       "      <td>Row3215</td>\n",
       "      <td>Was misquoted by BBC as saying Europe's rocket has no chance. Just said the [Franco-German] Ariane 5 has no chance, so go with Ariane 6.</td>\n",
       "      <td>2012-11-20 08:30:44</td>\n",
       "      <td>NaN</td>\n",
       "      <td>elonmusk</td>\n",
       "    </tr>\n",
       "    <tr>\n",
       "      <th>3216</th>\n",
       "      <td>Row3216</td>\n",
       "      <td>Just returned from a trip to London and Oxford, where I met with many interesting people. I really like Britain!</td>\n",
       "      <td>2012-11-19 08:59:46</td>\n",
       "      <td>NaN</td>\n",
       "      <td>elonmusk</td>\n",
       "    </tr>\n",
       "    <tr>\n",
       "      <th>3217</th>\n",
       "      <td>Row3217</td>\n",
       "      <td>RT @Jon_Favreau: My Model S just arrived and I went electric like Dylan! #FF @TeslaMotors @elonmusk</td>\n",
       "      <td>2012-11-16 17:59:47</td>\n",
       "      <td>Jon_Favreau</td>\n",
       "      <td>elonmusk</td>\n",
       "    </tr>\n",
       "  </tbody>\n",
       "</table>\n",
       "</div>"
      ],
      "text/plain": [
       "       row ID  \\\n",
       "3213  Row3213   \n",
       "3214  Row3214   \n",
       "3215  Row3215   \n",
       "3216  Row3216   \n",
       "3217  Row3217   \n",
       "\n",
       "                                                                                                                                         Tweet  \\\n",
       "3213   @YOUSRC Amos's article was fair, but his editor chose a more sensational headline & used quotes even though I didn't actually say that.   \n",
       "3214                                    These articles in Space News describe why Ariane 6 vs 5: http://t.co/IaeYXXK9 and http://t.co/ghs3FG8w   \n",
       "3215  Was misquoted by BBC as saying Europe's rocket has no chance. Just said the [Franco-German] Ariane 5 has no chance, so go with Ariane 6.   \n",
       "3216                          Just returned from a trip to London and Oxford, where I met with many interesting people. I really like Britain!   \n",
       "3217                                       RT @Jon_Favreau: My Model S just arrived and I went electric like Dylan! #FF @TeslaMotors @elonmusk   \n",
       "\n",
       "                     Time Retweet from      User  \n",
       "3213  2012-11-20 08:52:03          NaN  elonmusk  \n",
       "3214  2012-11-20 08:38:31          NaN  elonmusk  \n",
       "3215  2012-11-20 08:30:44          NaN  elonmusk  \n",
       "3216  2012-11-19 08:59:46          NaN  elonmusk  \n",
       "3217  2012-11-16 17:59:47  Jon_Favreau  elonmusk  "
      ]
     },
     "execution_count": 94,
     "metadata": {},
     "output_type": "execute_result"
    }
   ],
   "source": [
    "df.tail()"
   ]
  },
  {
   "cell_type": "code",
   "execution_count": 52,
   "metadata": {},
   "outputs": [
    {
     "data": {
      "text/plain": [
       "(1989, 27)"
      ]
     },
     "execution_count": 52,
     "metadata": {},
     "output_type": "execute_result"
    }
   ],
   "source": [
    "df.shape"
   ]
  },
  {
   "cell_type": "code",
   "execution_count": 95,
   "metadata": {},
   "outputs": [
    {
     "data": {
      "text/plain": [
       "3218"
      ]
     },
     "execution_count": 95,
     "metadata": {},
     "output_type": "execute_result"
    }
   ],
   "source": [
    "#fix nans\n",
    "documents = []\n",
    "for row in range(df.shape[0]):\n",
    "    for col in range(1,2):\n",
    "        if type(df.iloc[row,col])!=str:\n",
    "            print(df.iloc[row,col])\n",
    "            documents.append(\" \")\n",
    "        else:\n",
    "            documents.append(df.iloc[row,col])\n",
    "len(documents)"
   ]
  },
  {
   "cell_type": "code",
   "execution_count": 96,
   "metadata": {},
   "outputs": [],
   "source": [
    "news_df = pd.DataFrame({'document':documents})\n",
    "\n",
    "# removing everything except alphabets`\n",
    "news_df['clean_doc'] = news_df['document'].str.replace(\"[^a-zA-Z#]\", \" \")\n",
    "\n",
    "\n",
    "# removing short words\n",
    "news_df['clean_doc'] = news_df['clean_doc'].apply(lambda x: ' '.join([w for w in x.split() if len(w)>3]))\n",
    "\n",
    "# make all text lowercase\n",
    "news_df['headline_text'] = news_df['clean_doc'].apply(lambda x: x.lower())\n",
    "news_df[\"index\"] = [i for i in range(len(documents))]\n",
    "del news_df['document']\n",
    "del news_df['clean_doc']\n",
    "documents = news_df"
   ]
  },
  {
   "cell_type": "code",
   "execution_count": 97,
   "metadata": {},
   "outputs": [
    {
     "data": {
      "text/html": [
       "<div>\n",
       "<style scoped>\n",
       "    .dataframe tbody tr th:only-of-type {\n",
       "        vertical-align: middle;\n",
       "    }\n",
       "\n",
       "    .dataframe tbody tr th {\n",
       "        vertical-align: top;\n",
       "    }\n",
       "\n",
       "    .dataframe thead th {\n",
       "        text-align: right;\n",
       "    }\n",
       "</style>\n",
       "<table border=\"1\" class=\"dataframe\">\n",
       "  <thead>\n",
       "    <tr style=\"text-align: right;\">\n",
       "      <th></th>\n",
       "      <th>headline_text</th>\n",
       "      <th>index</th>\n",
       "    </tr>\n",
       "  </thead>\n",
       "  <tbody>\n",
       "    <tr>\n",
       "      <th>0</th>\n",
       "      <td>meltingice assuming acceleration comfortable direction will feel like mild moder https fpjmegrhfc</td>\n",
       "      <td>0</td>\n",
       "    </tr>\n",
       "    <tr>\n",
       "      <th>1</th>\n",
       "      <td>spacex capable transporting satellites orbit crew cargo space station completing missions moon</td>\n",
       "      <td>1</td>\n",
       "    </tr>\n",
       "    <tr>\n",
       "      <th>2</th>\n",
       "      <td>bigajm</td>\n",
       "      <td>2</td>\n",
       "    </tr>\n",
       "    <tr>\n",
       "      <th>3</th>\n",
       "      <td>part https muhm</td>\n",
       "      <td>3</td>\n",
       "    </tr>\n",
       "    <tr>\n",
       "      <th>4</th>\n",
       "      <td>most places earth under mins anywhere under cost seat should https dgyddgttyd</td>\n",
       "      <td>4</td>\n",
       "    </tr>\n",
       "  </tbody>\n",
       "</table>\n",
       "</div>"
      ],
      "text/plain": [
       "                                                                                       headline_text  \\\n",
       "0  meltingice assuming acceleration comfortable direction will feel like mild moder https fpjmegrhfc   \n",
       "1     spacex capable transporting satellites orbit crew cargo space station completing missions moon   \n",
       "2                                                                                             bigajm   \n",
       "3                                                                                    part https muhm   \n",
       "4                      most places earth under mins anywhere under cost seat should https dgyddgttyd   \n",
       "\n",
       "   index  \n",
       "0      0  \n",
       "1      1  \n",
       "2      2  \n",
       "3      3  \n",
       "4      4  "
      ]
     },
     "execution_count": 97,
     "metadata": {},
     "output_type": "execute_result"
    }
   ],
   "source": [
    "documents[0:5]"
   ]
  },
  {
   "cell_type": "code",
   "execution_count": 98,
   "metadata": {},
   "outputs": [
    {
     "name": "stdout",
     "output_type": "stream",
     "text": [
      "[nltk_data] Downloading package wordnet to\n",
      "[nltk_data]     C:\\Users\\caboonie\\AppData\\Roaming\\nltk_data...\n",
      "[nltk_data]   Package wordnet is already up-to-date!\n"
     ]
    },
    {
     "data": {
      "text/plain": [
       "True"
      ]
     },
     "execution_count": 98,
     "metadata": {},
     "output_type": "execute_result"
    }
   ],
   "source": [
    "import gensim\n",
    "from gensim.utils import simple_preprocess\n",
    "from gensim.parsing.preprocessing import STOPWORDS\n",
    "from nltk.stem import WordNetLemmatizer, SnowballStemmer\n",
    "from nltk.stem.porter import *\n",
    "from nltk import PorterStemmer\n",
    "#from nltk.stem.porter import stemmer\n",
    "import numpy as np\n",
    "np.random.seed(2018)\n",
    "import nltk\n",
    "nltk.download('wordnet')"
   ]
  },
  {
   "cell_type": "code",
   "execution_count": 99,
   "metadata": {},
   "outputs": [],
   "source": [
    "def lemmatize_stemming(text):\n",
    "    return PorterStemmer().stem(WordNetLemmatizer().lemmatize(text, pos='v'))\n",
    "def preprocess(text):\n",
    "    result = []\n",
    "    for token in gensim.utils.simple_preprocess(text):\n",
    "        if token not in gensim.parsing.preprocessing.STOPWORDS and len(token) > 3:\n",
    "            result.append(lemmatize_stemming(token))\n",
    "    return result"
   ]
  },
  {
   "cell_type": "code",
   "execution_count": 100,
   "metadata": {},
   "outputs": [
    {
     "name": "stdout",
     "output_type": "stream",
     "text": [
      "original document: \n",
      "['heart', 'goes', 'people', 'central', 'texas', 'home', 'spacex', 'resources', 'disposal', 'help']\n",
      "\n",
      "\n",
      " tokenized and lemmatized document: \n",
      "['heart', 'go', 'peopl', 'central', 'texa', 'home', 'spacex', 'resourc', 'dispos', 'help']\n"
     ]
    }
   ],
   "source": [
    "doc_sample = documents[documents['index'] == 3000].values[0][0]\n",
    "print('original document: ')\n",
    "words = []\n",
    "for word in doc_sample.split(' '):\n",
    "    words.append(word)\n",
    "print(words)\n",
    "print('\\n\\n tokenized and lemmatized document: ')\n",
    "print(preprocess(doc_sample))"
   ]
  },
  {
   "cell_type": "code",
   "execution_count": 101,
   "metadata": {},
   "outputs": [
    {
     "data": {
      "text/plain": [
       "0                    [meltingic, assum, acceler, comfort, direct, feel, like, mild, moder, http, fpjmegrhfc]\n",
       "1          [spacex, capabl, transport, satellit, orbit, crew, cargo, space, station, complet, mission, moon]\n",
       "2                                                                                                   [bigajm]\n",
       "3                                                                                               [http, muhm]\n",
       "4                                                          [place, earth, min, cost, seat, http, dgyddgttyd]\n",
       "5    [spacex, support, creation, perman, self, sustain, human, presenc, mar, http, kctblpbsg, http, hksrocg]\n",
       "6                                                                                         [earth, min, http]\n",
       "7                                       [mar, citi, opposit, earth, dawn, dusk, blue, mar, http, xhczidgqnb]\n",
       "8                                                                                  [moon, base, alpha, http]\n",
       "9                                                             [announc, special, today, talk, http, plxtbji]\n",
       "Name: headline_text, dtype: object"
      ]
     },
     "execution_count": 101,
     "metadata": {},
     "output_type": "execute_result"
    }
   ],
   "source": [
    "processed_docs = documents['headline_text'].map(preprocess)\n",
    "processed_docs[:10]"
   ]
  },
  {
   "cell_type": "code",
   "execution_count": 102,
   "metadata": {},
   "outputs": [
    {
     "name": "stdout",
     "output_type": "stream",
     "text": [
      "0 acceler\n",
      "1 assum\n",
      "2 comfort\n",
      "3 direct\n",
      "4 feel\n",
      "5 fpjmegrhfc\n",
      "6 http\n",
      "7 like\n",
      "8 meltingic\n",
      "9 mild\n",
      "10 moder\n"
     ]
    }
   ],
   "source": [
    "dictionary = gensim.corpora.Dictionary(processed_docs)\n",
    "count = 0\n",
    "for k, v in dictionary.iteritems():\n",
    "    print(k, v)\n",
    "    count += 1\n",
    "    if count > 10:\n",
    "        break"
   ]
  },
  {
   "cell_type": "code",
   "execution_count": 103,
   "metadata": {},
   "outputs": [],
   "source": [
    "dictionary.filter_extremes(no_below=15, no_above=0.5, keep_n=100000)"
   ]
  },
  {
   "cell_type": "code",
   "execution_count": 104,
   "metadata": {},
   "outputs": [
    {
     "data": {
      "text/plain": [
       "[(11, 1), (53, 1), (111, 1), (226, 1), (250, 1)]"
      ]
     },
     "execution_count": 104,
     "metadata": {},
     "output_type": "execute_result"
    }
   ],
   "source": [
    "bow_corpus = [dictionary.doc2bow(doc) for doc in processed_docs]\n",
    "bow_corpus[3000]"
   ]
  },
  {
   "cell_type": "code",
   "execution_count": 105,
   "metadata": {},
   "outputs": [
    {
     "name": "stdout",
     "output_type": "stream",
     "text": [
      "Word 11 (\"spacex\") appears 1 time.\n",
      "Word 53 (\"peopl\") appears 1 time.\n",
      "Word 111 (\"go\") appears 1 time.\n",
      "Word 226 (\"help\") appears 1 time.\n",
      "Word 250 (\"home\") appears 1 time.\n"
     ]
    }
   ],
   "source": [
    "bow_doc_4310 = bow_corpus[3000]\n",
    "for i in range(len(bow_doc_4310)):\n",
    "    print(\"Word {} (\\\"{}\\\") appears {} time.\".format(bow_doc_4310[i][0], \n",
    "                                               dictionary[bow_doc_4310[i][0]], \n",
    "bow_doc_4310[i][1]))"
   ]
  },
  {
   "cell_type": "code",
   "execution_count": 106,
   "metadata": {},
   "outputs": [
    {
     "name": "stdout",
     "output_type": "stream",
     "text": [
      "[(0, 0.6547866057704743),\n",
      " (1, 0.6402459154717929),\n",
      " (2, 0.11654199638516236),\n",
      " (3, 0.3843925489702265)]\n"
     ]
    }
   ],
   "source": [
    "from gensim import corpora, models\n",
    "tfidf = models.TfidfModel(bow_corpus)\n",
    "corpus_tfidf = tfidf[bow_corpus]\n",
    "from pprint import pprint\n",
    "for doc in corpus_tfidf:\n",
    "    pprint(doc)\n",
    "    break"
   ]
  },
  {
   "cell_type": "code",
   "execution_count": 107,
   "metadata": {},
   "outputs": [],
   "source": [
    "#LSA?\n",
    "lda_model = gensim.models.LsiModel(bow_corpus, num_topics=10, id2word=dictionary)"
   ]
  },
  {
   "cell_type": "code",
   "execution_count": 108,
   "metadata": {},
   "outputs": [],
   "source": [
    "lda_model = gensim.models.LdaMulticore(bow_corpus, num_topics=10, id2word=dictionary, passes=2, workers=2)"
   ]
  },
  {
   "cell_type": "code",
   "execution_count": 109,
   "metadata": {},
   "outputs": [
    {
     "name": "stdout",
     "output_type": "stream",
     "text": [
      "Topic: 0 \n",
      "Words: 0.165*\"http\" + 0.033*\"tesla\" + 0.030*\"like\" + 0.022*\"spacex\" + 0.018*\"dragon\" + 0.017*\"articl\" + 0.017*\"look\" + 0.017*\"space\" + 0.016*\"model\" + 0.016*\"station\"\n",
      "Topic: 1 \n",
      "Words: 0.231*\"http\" + 0.059*\"spacex\" + 0.035*\"launch\" + 0.024*\"rocket\" + 0.021*\"falcon\" + 0.021*\"land\" + 0.017*\"right\" + 0.016*\"tesla\" + 0.015*\"space\" + 0.013*\"watch\"\n",
      "Topic: 2 \n",
      "Words: 0.063*\"http\" + 0.036*\"work\" + 0.030*\"yeah\" + 0.028*\"hyperloop\" + 0.025*\"tesla\" + 0.024*\"teslamotor\" + 0.022*\"exactli\" + 0.020*\"falcon\" + 0.018*\"bore\" + 0.017*\"thank\"\n",
      "Topic: 3 \n",
      "Words: 0.061*\"time\" + 0.060*\"http\" + 0.025*\"mayb\" + 0.023*\"great\" + 0.021*\"like\" + 0.020*\"tunnel\" + 0.020*\"go\" + 0.018*\"land\" + 0.018*\"cours\" + 0.017*\"long\"\n",
      "Topic: 4 \n",
      "Words: 0.092*\"http\" + 0.050*\"tesla\" + 0.040*\"spacex\" + 0.035*\"love\" + 0.022*\"falcon\" + 0.020*\"high\" + 0.017*\"test\" + 0.016*\"sure\" + 0.016*\"autopilot\" + 0.015*\"month\"\n",
      "Topic: 5 \n",
      "Words: 0.143*\"http\" + 0.054*\"good\" + 0.048*\"launch\" + 0.021*\"chang\" + 0.018*\"falcon\" + 0.018*\"mar\" + 0.017*\"tesla\" + 0.017*\"dragon\" + 0.016*\"climat\" + 0.014*\"like\"\n",
      "Topic: 6 \n",
      "Words: 0.040*\"good\" + 0.029*\"point\" + 0.026*\"http\" + 0.025*\"soon\" + 0.024*\"come\" + 0.024*\"tesla\" + 0.019*\"softwar\" + 0.019*\"improv\" + 0.018*\"best\" + 0.018*\"autopilot\"\n",
      "Topic: 7 \n",
      "Words: 0.099*\"http\" + 0.071*\"model\" + 0.043*\"tesla\" + 0.034*\"teslamotor\" + 0.032*\"rocket\" + 0.030*\"thank\" + 0.026*\"test\" + 0.021*\"elonmusk\" + 0.017*\"order\" + 0.017*\"peopl\"\n",
      "Topic: 8 \n",
      "Words: 0.096*\"tesla\" + 0.035*\"year\" + 0.032*\"model\" + 0.031*\"http\" + 0.022*\"probabl\" + 0.021*\"plan\" + 0.020*\"better\" + 0.016*\"product\" + 0.016*\"need\" + 0.014*\"servic\"\n",
      "Topic: 9 \n",
      "Words: 0.097*\"http\" + 0.049*\"teslamotor\" + 0.039*\"week\" + 0.035*\"car\" + 0.029*\"like\" + 0.027*\"tesla\" + 0.026*\"year\" + 0.023*\"say\" + 0.018*\"true\" + 0.017*\"model\"\n"
     ]
    }
   ],
   "source": [
    "for idx, topic in lda_model.print_topics(-1):\n",
    "    print('Topic: {} \\nWords: {}'.format(idx, topic))"
   ]
  },
  {
   "cell_type": "code",
   "execution_count": 110,
   "metadata": {},
   "outputs": [
    {
     "data": {
      "text/plain": [
       "(3218,)"
      ]
     },
     "execution_count": 110,
     "metadata": {},
     "output_type": "execute_result"
    }
   ],
   "source": [
    "#number of documents\n",
    "lda_model[bow_corpus[354]]\n",
    "processed_docs.shape"
   ]
  },
  {
   "cell_type": "code",
   "execution_count": 111,
   "metadata": {},
   "outputs": [],
   "source": [
    "#Now let's average out those scores over the surrounding 1000 articles scores to see how average scores change over time\n",
    "n = processed_docs.shape[0]\n",
    "averages = []\n",
    "i=0\n",
    "start = 2012\n",
    "end = 2017\n",
    "dates = []\n",
    "while(i<n):\n",
    "    array = np.zeros((10,1))\n",
    "    k=0\n",
    "    pred = lda_model[bow_corpus[i]]\n",
    "    for j in range(10):\n",
    "        if j in [tup[0] for tup in pred]:\n",
    "            array[j,:] = pred[k][1]\n",
    "            k+=1\n",
    "            \n",
    "    running_sum = array\n",
    "    i+=1\n",
    "    count = 0\n",
    "    while (i)%500 != 0 and i<n:\n",
    "        #print(i)\n",
    "        array = np.zeros((10,1))\n",
    "        k=0\n",
    "        pred = lda_model[bow_corpus[i]]\n",
    "        for j in range(10):\n",
    "            if j in [tup[0] for tup in pred]:\n",
    "                try:\n",
    "                    array[j,:] = pred[k][1]\n",
    "                    k+=1\n",
    "                except:\n",
    "                    print(i,array,j,k,pred)\n",
    "\n",
    "        running_sum = running_sum + array\n",
    "        i+=1\n",
    "        count+=1\n",
    "    averages.append(running_sum/count)\n",
    "    dates.append(start + (end-start)*i/n)"
   ]
  },
  {
   "cell_type": "code",
   "execution_count": 112,
   "metadata": {},
   "outputs": [
    {
     "data": {
      "text/plain": [
       "(10, 7)"
      ]
     },
     "execution_count": 112,
     "metadata": {},
     "output_type": "execute_result"
    }
   ],
   "source": [
    "averages = np.hstack(average for average in averages)\n",
    "averages.shape"
   ]
  },
  {
   "cell_type": "code",
   "execution_count": 1,
   "metadata": {},
   "outputs": [
    {
     "ename": "NameError",
     "evalue": "name 'dates' is not defined",
     "output_type": "error",
     "traceback": [
      "\u001b[1;31m---------------------------------------------------------------------------\u001b[0m",
      "\u001b[1;31mNameError\u001b[0m                                 Traceback (most recent call last)",
      "\u001b[1;32m<ipython-input-1-b5a7cb1bd7ba>\u001b[0m in \u001b[0;36m<module>\u001b[1;34m()\u001b[0m\n\u001b[0;32m      1\u001b[0m \u001b[1;32mimport\u001b[0m \u001b[0mmatplotlib\u001b[0m\u001b[1;33m.\u001b[0m\u001b[0mpyplot\u001b[0m \u001b[1;32mas\u001b[0m \u001b[0mplt\u001b[0m\u001b[1;33m\u001b[0m\u001b[0m\n\u001b[1;32m----> 2\u001b[1;33m \u001b[0mplt\u001b[0m\u001b[1;33m.\u001b[0m\u001b[0mplot\u001b[0m\u001b[1;33m(\u001b[0m\u001b[0mdates\u001b[0m\u001b[1;33m,\u001b[0m\u001b[0maverages\u001b[0m\u001b[1;33m[\u001b[0m\u001b[1;36m9\u001b[0m\u001b[1;33m:\u001b[0m\u001b[1;36m10\u001b[0m\u001b[1;33m,\u001b[0m\u001b[1;33m:\u001b[0m\u001b[1;33m]\u001b[0m\u001b[1;33m.\u001b[0m\u001b[0mT\u001b[0m\u001b[1;33m)\u001b[0m\u001b[1;33m\u001b[0m\u001b[0m\n\u001b[0m\u001b[0;32m      3\u001b[0m \u001b[0mplt\u001b[0m\u001b[1;33m.\u001b[0m\u001b[0mlegend\u001b[0m\u001b[1;33m(\u001b[0m\u001b[1;33m[\u001b[0m\u001b[1;34m\"Topic \"\u001b[0m\u001b[1;33m+\u001b[0m\u001b[0mstr\u001b[0m\u001b[1;33m(\u001b[0m\u001b[0mi\u001b[0m\u001b[1;33m)\u001b[0m \u001b[1;32mfor\u001b[0m \u001b[0mi\u001b[0m \u001b[1;32min\u001b[0m \u001b[0mrange\u001b[0m\u001b[1;33m(\u001b[0m\u001b[0maverages\u001b[0m\u001b[1;33m.\u001b[0m\u001b[0mshape\u001b[0m\u001b[1;33m[\u001b[0m\u001b[1;36m0\u001b[0m\u001b[1;33m]\u001b[0m\u001b[1;33m)\u001b[0m\u001b[1;33m]\u001b[0m\u001b[1;33m)\u001b[0m\u001b[1;33m\u001b[0m\u001b[0m\n",
      "\u001b[1;31mNameError\u001b[0m: name 'dates' is not defined"
     ]
    }
   ],
   "source": [
    "import matplotlib.pyplot as plt\n",
    "plt.plot(dates,averages[9:10,:].T)\n",
    "plt.legend([\"Topic \"+str(i) for i in range(averages.shape[0])])"
   ]
  },
  {
   "cell_type": "code",
   "execution_count": 114,
   "metadata": {},
   "outputs": [
    {
     "data": {
      "text/plain": [
       "[<matplotlib.lines.Line2D at 0x1f81c738da0>,\n",
       " <matplotlib.lines.Line2D at 0x1f81c738f28>,\n",
       " <matplotlib.lines.Line2D at 0x1f81c72a0b8>,\n",
       " <matplotlib.lines.Line2D at 0x1f81c72a208>,\n",
       " <matplotlib.lines.Line2D at 0x1f81c72a358>,\n",
       " <matplotlib.lines.Line2D at 0x1f81c72a4a8>,\n",
       " <matplotlib.lines.Line2D at 0x1f81c72a5f8>,\n",
       " <matplotlib.lines.Line2D at 0x1f81c72a748>,\n",
       " <matplotlib.lines.Line2D at 0x1f81c72a898>,\n",
       " <matplotlib.lines.Line2D at 0x1f81c72a9e8>]"
      ]
     },
     "execution_count": 114,
     "metadata": {},
     "output_type": "execute_result"
    },
    {
     "data": {
      "image/png": "[encoded data removed]",
      "text/plain": [
       "<matplotlib.figure.Figure at 0x1f81841c5f8>"
      ]
     },
     "metadata": {},
     "output_type": "display_data"
    }
   ],
   "source": [
    "import matplotlib.pyplot as plt\n",
    "plt.plot(dates,averages.T)"
   ]
  },
  {
   "cell_type": "code",
   "execution_count": null,
   "metadata": {},
   "outputs": [],
   "source": []
  }
 ],
 "metadata": {
  "kernelspec": {
   "display_name": "Python 3",
   "language": "python",
   "name": "python3"
  },
  "language_info": {
   "codemirror_mode": {
    "name": "ipython",
    "version": 3
   },
   "file_extension": ".py",
   "mimetype": "text/x-python",
   "name": "python",
   "nbconvert_exporter": "python",
   "pygments_lexer": "ipython3",
   "version": "3.6.0"
  }
 },
 "nbformat": 4,
 "nbformat_minor": 2
}
