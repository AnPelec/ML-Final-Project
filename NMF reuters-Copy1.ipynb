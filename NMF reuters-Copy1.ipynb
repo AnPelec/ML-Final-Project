{
 "cells": [
  {
   "cell_type": "code",
   "execution_count": 1,
   "metadata": {},
   "outputs": [],
   "source": [
    "import re\n",
    "import numpy as np\n",
    "import pandas as pd\n",
    "import seaborn as sns\n",
    "import matplotlib.pyplot as plt\n",
    "\n",
    "from nltk.corpus import stopwords\n",
    "from nltk.tokenize import word_tokenize\n",
    "\n",
    "from sklearn.decomposition import NMF;\n",
    "from sklearn.preprocessing import normalize;\n",
    "from sklearn.feature_extraction.text import TfidfVectorizer;"
   ]
  },
  {
   "cell_type": "markdown",
   "metadata": {},
   "source": [
    "#### Reading the input data"
   ]
  },
  {
   "cell_type": "code",
   "execution_count": 2,
   "metadata": {},
   "outputs": [],
   "source": [
    "df = pd.read_csv('data_elonmusk.csv',encoding = \"ISO-8859-1\")"
   ]
  },
  {
   "cell_type": "code",
   "execution_count": 3,
   "metadata": {},
   "outputs": [
    {
     "data": {
      "text/html": [
       "<div>\n",
       "<style scoped>\n",
       "    .dataframe tbody tr th:only-of-type {\n",
       "        vertical-align: middle;\n",
       "    }\n",
       "\n",
       "    .dataframe tbody tr th {\n",
       "        vertical-align: top;\n",
       "    }\n",
       "\n",
       "    .dataframe thead th {\n",
       "        text-align: right;\n",
       "    }\n",
       "</style>\n",
       "<table border=\"1\" class=\"dataframe\">\n",
       "  <thead>\n",
       "    <tr style=\"text-align: right;\">\n",
       "      <th></th>\n",
       "      <th>row ID</th>\n",
       "      <th>Tweet</th>\n",
       "      <th>Time</th>\n",
       "      <th>Retweet from</th>\n",
       "      <th>User</th>\n",
       "    </tr>\n",
       "  </thead>\n",
       "  <tbody>\n",
       "    <tr>\n",
       "      <th>0</th>\n",
       "      <td>Row0</td>\n",
       "      <td>@MeltingIce Assuming max acceleration of 2 to ...</td>\n",
       "      <td>2017-09-29 17:39:19</td>\n",
       "      <td>NaN</td>\n",
       "      <td>elonmusk</td>\n",
       "    </tr>\n",
       "    <tr>\n",
       "      <th>1</th>\n",
       "      <td>Row1</td>\n",
       "      <td>RT @SpaceX: BFR is capable of transporting sat...</td>\n",
       "      <td>2017-09-29 10:44:54</td>\n",
       "      <td>SpaceX</td>\n",
       "      <td>elonmusk</td>\n",
       "    </tr>\n",
       "    <tr>\n",
       "      <th>2</th>\n",
       "      <td>Row2</td>\n",
       "      <td>@bigajm Yup :)</td>\n",
       "      <td>2017-09-29 10:39:57</td>\n",
       "      <td>NaN</td>\n",
       "      <td>elonmusk</td>\n",
       "    </tr>\n",
       "    <tr>\n",
       "      <th>3</th>\n",
       "      <td>Row3</td>\n",
       "      <td>Part 2 https://t.co/8Fvu57muhM</td>\n",
       "      <td>2017-09-29 09:56:12</td>\n",
       "      <td>NaN</td>\n",
       "      <td>elonmusk</td>\n",
       "    </tr>\n",
       "    <tr>\n",
       "      <th>4</th>\n",
       "      <td>Row4</td>\n",
       "      <td>Fly to most places on Earth in under 30 mins a...</td>\n",
       "      <td>2017-09-29 09:19:21</td>\n",
       "      <td>NaN</td>\n",
       "      <td>elonmusk</td>\n",
       "    </tr>\n",
       "  </tbody>\n",
       "</table>\n",
       "</div>"
      ],
      "text/plain": [
       "  row ID                                              Tweet  \\\n",
       "0   Row0  @MeltingIce Assuming max acceleration of 2 to ...   \n",
       "1   Row1  RT @SpaceX: BFR is capable of transporting sat...   \n",
       "2   Row2                                     @bigajm Yup :)   \n",
       "3   Row3                     Part 2 https://t.co/8Fvu57muhM   \n",
       "4   Row4  Fly to most places on Earth in under 30 mins a...   \n",
       "\n",
       "                  Time Retweet from      User  \n",
       "0  2017-09-29 17:39:19          NaN  elonmusk  \n",
       "1  2017-09-29 10:44:54       SpaceX  elonmusk  \n",
       "2  2017-09-29 10:39:57          NaN  elonmusk  \n",
       "3  2017-09-29 09:56:12          NaN  elonmusk  \n",
       "4  2017-09-29 09:19:21          NaN  elonmusk  "
      ]
     },
     "execution_count": 3,
     "metadata": {},
     "output_type": "execute_result"
    }
   ],
   "source": [
    "df.head()"
   ]
  },
  {
   "cell_type": "code",
   "execution_count": 4,
   "metadata": {},
   "outputs": [
    {
     "data": {
      "text/html": [
       "<div>\n",
       "<style scoped>\n",
       "    .dataframe tbody tr th:only-of-type {\n",
       "        vertical-align: middle;\n",
       "    }\n",
       "\n",
       "    .dataframe tbody tr th {\n",
       "        vertical-align: top;\n",
       "    }\n",
       "\n",
       "    .dataframe thead th {\n",
       "        text-align: right;\n",
       "    }\n",
       "</style>\n",
       "<table border=\"1\" class=\"dataframe\">\n",
       "  <thead>\n",
       "    <tr style=\"text-align: right;\">\n",
       "      <th></th>\n",
       "      <th>row ID</th>\n",
       "      <th>Tweet</th>\n",
       "      <th>Time</th>\n",
       "      <th>Retweet from</th>\n",
       "      <th>User</th>\n",
       "    </tr>\n",
       "  </thead>\n",
       "  <tbody>\n",
       "    <tr>\n",
       "      <th>3213</th>\n",
       "      <td>Row3213</td>\n",
       "      <td>@YOUSRC Amos's article was fair, but his edito...</td>\n",
       "      <td>2012-11-20 08:52:03</td>\n",
       "      <td>NaN</td>\n",
       "      <td>elonmusk</td>\n",
       "    </tr>\n",
       "    <tr>\n",
       "      <th>3214</th>\n",
       "      <td>Row3214</td>\n",
       "      <td>These articles in Space News describe why Aria...</td>\n",
       "      <td>2012-11-20 08:38:31</td>\n",
       "      <td>NaN</td>\n",
       "      <td>elonmusk</td>\n",
       "    </tr>\n",
       "    <tr>\n",
       "      <th>3215</th>\n",
       "      <td>Row3215</td>\n",
       "      <td>Was misquoted by BBC as saying Europe's rocket...</td>\n",
       "      <td>2012-11-20 08:30:44</td>\n",
       "      <td>NaN</td>\n",
       "      <td>elonmusk</td>\n",
       "    </tr>\n",
       "    <tr>\n",
       "      <th>3216</th>\n",
       "      <td>Row3216</td>\n",
       "      <td>Just returned from a trip to London and Oxford...</td>\n",
       "      <td>2012-11-19 08:59:46</td>\n",
       "      <td>NaN</td>\n",
       "      <td>elonmusk</td>\n",
       "    </tr>\n",
       "    <tr>\n",
       "      <th>3217</th>\n",
       "      <td>Row3217</td>\n",
       "      <td>RT @Jon_Favreau: My Model S just arrived and I...</td>\n",
       "      <td>2012-11-16 17:59:47</td>\n",
       "      <td>Jon_Favreau</td>\n",
       "      <td>elonmusk</td>\n",
       "    </tr>\n",
       "  </tbody>\n",
       "</table>\n",
       "</div>"
      ],
      "text/plain": [
       "       row ID                                              Tweet  \\\n",
       "3213  Row3213  @YOUSRC Amos's article was fair, but his edito...   \n",
       "3214  Row3214  These articles in Space News describe why Aria...   \n",
       "3215  Row3215  Was misquoted by BBC as saying Europe's rocket...   \n",
       "3216  Row3216  Just returned from a trip to London and Oxford...   \n",
       "3217  Row3217  RT @Jon_Favreau: My Model S just arrived and I...   \n",
       "\n",
       "                     Time Retweet from      User  \n",
       "3213  2012-11-20 08:52:03          NaN  elonmusk  \n",
       "3214  2012-11-20 08:38:31          NaN  elonmusk  \n",
       "3215  2012-11-20 08:30:44          NaN  elonmusk  \n",
       "3216  2012-11-19 08:59:46          NaN  elonmusk  \n",
       "3217  2012-11-16 17:59:47  Jon_Favreau  elonmusk  "
      ]
     },
     "execution_count": 4,
     "metadata": {},
     "output_type": "execute_result"
    }
   ],
   "source": [
    "df.tail()"
   ]
  },
  {
   "cell_type": "code",
   "execution_count": 5,
   "metadata": {},
   "outputs": [
    {
     "data": {
      "text/plain": [
       "(3218, 5)"
      ]
     },
     "execution_count": 5,
     "metadata": {},
     "output_type": "execute_result"
    }
   ],
   "source": [
    "df.shape"
   ]
  },
  {
   "cell_type": "code",
   "execution_count": 6,
   "metadata": {},
   "outputs": [],
   "source": [
    "number_samples, number_columns = df.shape #number of dates by number of columns\n",
    "number_articles = number_columns-2"
   ]
  },
  {
   "cell_type": "markdown",
   "metadata": {},
   "source": [
    "#### Group by Year"
   ]
  },
  {
   "cell_type": "code",
   "execution_count": 7,
   "metadata": {},
   "outputs": [],
   "source": [
    "def get_current_year(date):\n",
    "    return int(date[:4])"
   ]
  },
  {
   "cell_type": "markdown",
   "metadata": {},
   "source": [
    "#### Isolating words with spaces and converting to lowercase"
   ]
  },
  {
   "cell_type": "code",
   "execution_count": 8,
   "metadata": {},
   "outputs": [],
   "source": [
    "for i in range(1):\n",
    "    col = \"Tweet\" #\"Top\" + str(i)\n",
    "    df[col] = df[col].apply(lambda x:\" \" if type(x)!=str else x)\n",
    "    df[col] = df[col].apply(lambda x: re.sub('\\W+', ' ', str(x)).lower().strip())"
   ]
  },
  {
   "cell_type": "markdown",
   "metadata": {},
   "source": [
    "#### Removing stopwords and very small words"
   ]
  },
  {
   "cell_type": "code",
   "execution_count": 9,
   "metadata": {},
   "outputs": [],
   "source": [
    "stop_words = stopwords.words('english')\n",
    "\n",
    "for i in range(1):\n",
    "    col = \"Tweet\"\n",
    "    df[col] = df[col].apply(lambda x: ' '.join([w for w in x.split() if (len(w) > 3) and (len(w) <= 11) and w not in [\"https\",\"http\",\"yes\"] and (w not in stop_words)]))"
   ]
  },
  {
   "cell_type": "markdown",
   "metadata": {},
   "source": [
    "#### Concatenate all documents in one series"
   ]
  },
  {
   "cell_type": "code",
   "execution_count": 10,
   "metadata": {},
   "outputs": [],
   "source": [
    "all_columns = []\n",
    "for i in range(1):\n",
    "    col = \"Tweet\"\n",
    "    all_columns.append(df.iloc[0:1][col])\n",
    "documents = df.iloc[0:1]['Tweet'].append(all_columns, ignore_index=True)\n",
    "\n",
    "for row in range(1, number_samples):\n",
    "    all_columns = []\n",
    "    for i in range(1):\n",
    "        col = \"Tweet\"\n",
    "        all_columns.append(df.iloc[row:row+1][col])\n",
    "    documents = documents.append(all_columns, ignore_index=True)"
   ]
  },
  {
   "cell_type": "code",
   "execution_count": 11,
   "metadata": {},
   "outputs": [],
   "source": [
    "documents = df[\"Tweet\"]"
   ]
  },
  {
   "cell_type": "markdown",
   "metadata": {},
   "source": [
    "#### Apply vectorizer"
   ]
  },
  {
   "cell_type": "code",
   "execution_count": 12,
   "metadata": {},
   "outputs": [],
   "source": [
    "vectorizer = TfidfVectorizer(max_features=10000)\n",
    "X = vectorizer.fit_transform(documents)"
   ]
  },
  {
   "cell_type": "code",
   "execution_count": 13,
   "metadata": {},
   "outputs": [
    {
     "data": {
      "text/plain": [
       "list"
      ]
     },
     "execution_count": 13,
     "metadata": {},
     "output_type": "execute_result"
    }
   ],
   "source": [
    "type(list(vectorizer.vocabulary_)) #maps terms to indices"
   ]
  },
  {
   "cell_type": "code",
   "execution_count": 14,
   "metadata": {},
   "outputs": [],
   "source": [
    "terms = list(vectorizer.vocabulary_)"
   ]
  },
  {
   "cell_type": "code",
   "execution_count": 15,
   "metadata": {},
   "outputs": [
    {
     "data": {
      "text/plain": [
       "(3218,)"
      ]
     },
     "execution_count": 15,
     "metadata": {},
     "output_type": "execute_result"
    }
   ],
   "source": [
    "documents.shape"
   ]
  },
  {
   "cell_type": "markdown",
   "metadata": {},
   "source": [
    "#### Function that prints the top words for each topic"
   ]
  },
  {
   "cell_type": "code",
   "execution_count": 16,
   "metadata": {},
   "outputs": [],
   "source": [
    "def print_top_words(model, feature_names, n_top_words):\n",
    "    topics = []\n",
    "    for topic_idx, topic in enumerate(model.components_):\n",
    "        message = \"Topic #%d: \" % topic_idx\n",
    "        message += \" \".join([feature_names[i]\n",
    "                             for i in topic.argsort()[:-n_top_words - 1:-1]])\n",
    "        topics.append([feature_names[i]\n",
    "                             for i in topic.argsort()[:-n_top_words - 1:-1]])\n",
    "        print(message)\n",
    "    print()\n",
    "    return topics"
   ]
  },
  {
   "cell_type": "markdown",
   "metadata": {},
   "source": [
    "#### Fit and present topics"
   ]
  },
  {
   "cell_type": "code",
   "execution_count": 67,
   "metadata": {},
   "outputs": [
    {
     "name": "stdout",
     "output_type": "stream",
     "text": [
      "Topic #0: spacex launch falcon dragon landing rocket first stage tomorrow live\n",
      "Topic #1: model elonmusk like ever best production review first version part\n",
      "Topic #2: good point chance looks piece rocket right idea pretty look\n",
      "Topic #3: thanks cool spacex jon_favreau great bill alyssa jovanik21 think ordering\n",
      "Topic #4: yeah great probably danahull right know read rrosenbl hell makes\n",
      "Topic #5: coming soon update year next software week vicentes later speed\n",
      "Topic #6: tesla autopilot cars solar time people solarcity battery driving next\n",
      "Topic #7: course love still droneship never year many stage stevetdent landed\n",
      "Topic #8: teslamotors cool future elonmusk solar working world roof welcome year\n",
      "Topic #9: exactly looking john_gardi love rebel_sal dreweathers scojjac zlorena70 lorengrush keithwarren\n",
      "\n"
     ]
    }
   ],
   "source": [
    "num_topics = 10\n",
    "model = NMF(n_components=num_topics)\n",
    "nmf = model.fit(X)\n",
    "\n",
    "tfidf_feature_names = vectorizer.get_feature_names()\n",
    "topics = print_top_words(nmf, tfidf_feature_names, 10)"
   ]
  },
  {
   "cell_type": "markdown",
   "metadata": {},
   "source": [
    "#### Find the matrix with the topics per document"
   ]
  },
  {
   "cell_type": "code",
   "execution_count": 58,
   "metadata": {},
   "outputs": [],
   "source": [
    "H = nmf.fit_transform(X)"
   ]
  },
  {
   "cell_type": "code",
   "execution_count": 59,
   "metadata": {},
   "outputs": [
    {
     "data": {
      "text/plain": [
       "(3218, 7436)"
      ]
     },
     "execution_count": 59,
     "metadata": {},
     "output_type": "execute_result"
    }
   ],
   "source": [
    "X.shape"
   ]
  },
  {
   "cell_type": "code",
   "execution_count": 60,
   "metadata": {},
   "outputs": [
    {
     "data": {
      "text/plain": [
       "array([16.52520393, 26.6782335 , 23.62638686, 15.73602926, 14.18567858,\n",
       "       16.92763073, 37.69938613, 10.88618198, 30.26985292, 10.42024752,\n",
       "       20.76634162, 22.83709935, 16.72129779, 25.43800235, 16.3558596 ,\n",
       "       18.66314319, 16.6597721 , 10.57235366, 32.66197332, 24.05923862])"
      ]
     },
     "execution_count": 60,
     "metadata": {},
     "output_type": "execute_result"
    }
   ],
   "source": [
    "H.sum(axis=0)"
   ]
  },
  {
   "cell_type": "code",
   "execution_count": 61,
   "metadata": {},
   "outputs": [
    {
     "data": {
      "text/plain": [
       "array([0.00513524, 0.00829031, 0.00734195, 0.00489   , 0.00440823,\n",
       "       0.0052603 , 0.01171516, 0.0033829 , 0.00940642, 0.00323811,\n",
       "       0.00645318, 0.00709667, 0.00519618, 0.00790491, 0.00508262,\n",
       "       0.00579961, 0.00517706, 0.00328538, 0.01014977, 0.00747646])"
      ]
     },
     "execution_count": 61,
     "metadata": {},
     "output_type": "execute_result"
    }
   ],
   "source": [
    "H.mean(axis=0)"
   ]
  },
  {
   "cell_type": "code",
   "execution_count": 62,
   "metadata": {},
   "outputs": [],
   "source": [
    "H = H.T"
   ]
  },
  {
   "cell_type": "code",
   "execution_count": 63,
   "metadata": {},
   "outputs": [
    {
     "data": {
      "text/plain": [
       "(20, 16)"
      ]
     },
     "execution_count": 63,
     "metadata": {},
     "output_type": "execute_result"
    }
   ],
   "source": [
    "#Now let's sum out those scores over the surrounding 1000 articles scores to see how average scores change over time\n",
    "topic_number, document_number = H.shape\n",
    "averages = []\n",
    "i=0\n",
    "start = 2012\n",
    "end = 2017.7\n",
    "dates = []\n",
    "while(i < document_number):\n",
    "    running_sum = H[:, i:i+1]\n",
    "    i+=1\n",
    "    count = 0\n",
    "    while (i)%200 != 0:\n",
    "        running_sum = running_sum + H[:,i:i+1]\n",
    "        i+=1\n",
    "        count+=1\n",
    "    averages.append(running_sum/count)\n",
    "    dates.append(start + (end-start) * i/document_number)\n",
    "averages = np.hstack(average for average in averages)\n",
    "averages.shape"
   ]
  },
  {
   "cell_type": "code",
   "execution_count": 65,
   "metadata": {},
   "outputs": [
    {
     "data": {
      "text/plain": [
       "<matplotlib.legend.Legend at 0x2aa1c021128>"
      ]
     },
     "execution_count": 65,
     "metadata": {},
     "output_type": "execute_result"
    },
    {
     "data": {
      "image/png": "[encoded data removed]",
      "text/plain": [
       "<matplotlib.figure.Figure at 0x2aa1bfd6d30>"
      ]
     },
     "metadata": {},
     "output_type": "display_data"
    }
   ],
   "source": [
    "import matplotlib.pyplot as plt\n",
    "plt.plot(dates[:-1],averages[1,:].T)\n",
    "plt.plot(dates[:-1],averages[6,:].T)\n",
    "plt.legend([\"Topic \"+str(i) for i in range(averages.shape[0])])"
   ]
  },
  {
   "cell_type": "code",
   "execution_count": 27,
   "metadata": {},
   "outputs": [
    {
     "data": {
      "text/plain": [
       "(5, 3218)"
      ]
     },
     "execution_count": 27,
     "metadata": {},
     "output_type": "execute_result"
    }
   ],
   "source": [
    "H.shape"
   ]
  },
  {
   "cell_type": "code",
   "execution_count": 28,
   "metadata": {},
   "outputs": [
    {
     "data": {
      "text/plain": [
       "(3218, 5)"
      ]
     },
     "execution_count": 28,
     "metadata": {},
     "output_type": "execute_result"
    }
   ],
   "source": [
    "df.shape"
   ]
  },
  {
   "cell_type": "code",
   "execution_count": 25,
   "metadata": {},
   "outputs": [],
   "source": [
    "from pandas import Series\n",
    "for i in range(5):\n",
    "    df['topic '+str(i)] = Series(H[i,:], index=df.index)"
   ]
  },
  {
   "cell_type": "code",
   "execution_count": 26,
   "metadata": {},
   "outputs": [],
   "source": [
    "df['month'] = Series([(int(x.split('-')[1])-1)//2 for x in df['Time']], index=df.index)\n",
    "df['year'] = Series([int(x.split('-')[0]) for x in df['Time']], index=df.index)"
   ]
  },
  {
   "cell_type": "code",
   "execution_count": 27,
   "metadata": {},
   "outputs": [
    {
     "data": {
      "text/html": [
       "<div>\n",
       "<style scoped>\n",
       "    .dataframe tbody tr th:only-of-type {\n",
       "        vertical-align: middle;\n",
       "    }\n",
       "\n",
       "    .dataframe tbody tr th {\n",
       "        vertical-align: top;\n",
       "    }\n",
       "\n",
       "    .dataframe thead th {\n",
       "        text-align: right;\n",
       "    }\n",
       "</style>\n",
       "<table border=\"1\" class=\"dataframe\">\n",
       "  <thead>\n",
       "    <tr style=\"text-align: right;\">\n",
       "      <th></th>\n",
       "      <th>row ID</th>\n",
       "      <th>Tweet</th>\n",
       "      <th>Time</th>\n",
       "      <th>Retweet from</th>\n",
       "      <th>User</th>\n",
       "      <th>topic 0</th>\n",
       "      <th>topic 1</th>\n",
       "      <th>topic 2</th>\n",
       "      <th>topic 3</th>\n",
       "      <th>topic 4</th>\n",
       "      <th>month</th>\n",
       "      <th>year</th>\n",
       "    </tr>\n",
       "  </thead>\n",
       "  <tbody>\n",
       "    <tr>\n",
       "      <th>0</th>\n",
       "      <td>Row0</td>\n",
       "      <td>meltingice assuming comfortable direction feel...</td>\n",
       "      <td>2017-09-29 17:39:19</td>\n",
       "      <td>NaN</td>\n",
       "      <td>elonmusk</td>\n",
       "      <td>0.000979</td>\n",
       "      <td>0.012317</td>\n",
       "      <td>0.004997</td>\n",
       "      <td>0.000544</td>\n",
       "      <td>0.000128</td>\n",
       "      <td>4</td>\n",
       "      <td>2017</td>\n",
       "    </tr>\n",
       "    <tr>\n",
       "      <th>1</th>\n",
       "      <td>Row1</td>\n",
       "      <td>spacex capable satellites orbit crew cargo com...</td>\n",
       "      <td>2017-09-29 10:44:54</td>\n",
       "      <td>SpaceX</td>\n",
       "      <td>elonmusk</td>\n",
       "      <td>0.071505</td>\n",
       "      <td>0.000000</td>\n",
       "      <td>0.005393</td>\n",
       "      <td>0.003489</td>\n",
       "      <td>0.000000</td>\n",
       "      <td>4</td>\n",
       "      <td>2017</td>\n",
       "    </tr>\n",
       "    <tr>\n",
       "      <th>2</th>\n",
       "      <td>Row2</td>\n",
       "      <td>bigajm</td>\n",
       "      <td>2017-09-29 10:39:57</td>\n",
       "      <td>NaN</td>\n",
       "      <td>elonmusk</td>\n",
       "      <td>0.000000</td>\n",
       "      <td>0.000000</td>\n",
       "      <td>0.000000</td>\n",
       "      <td>0.000000</td>\n",
       "      <td>0.000000</td>\n",
       "      <td>4</td>\n",
       "      <td>2017</td>\n",
       "    </tr>\n",
       "    <tr>\n",
       "      <th>3</th>\n",
       "      <td>Row3</td>\n",
       "      <td>part 8fvu57muhm</td>\n",
       "      <td>2017-09-29 09:56:12</td>\n",
       "      <td>NaN</td>\n",
       "      <td>elonmusk</td>\n",
       "      <td>0.000000</td>\n",
       "      <td>0.012461</td>\n",
       "      <td>0.000000</td>\n",
       "      <td>0.001610</td>\n",
       "      <td>0.000000</td>\n",
       "      <td>4</td>\n",
       "      <td>2017</td>\n",
       "    </tr>\n",
       "    <tr>\n",
       "      <th>4</th>\n",
       "      <td>Row4</td>\n",
       "      <td>places earth mins anywhere cost seat dgyddgttyd</td>\n",
       "      <td>2017-09-29 09:19:21</td>\n",
       "      <td>NaN</td>\n",
       "      <td>elonmusk</td>\n",
       "      <td>0.007307</td>\n",
       "      <td>0.005631</td>\n",
       "      <td>0.000872</td>\n",
       "      <td>0.000000</td>\n",
       "      <td>0.000000</td>\n",
       "      <td>4</td>\n",
       "      <td>2017</td>\n",
       "    </tr>\n",
       "  </tbody>\n",
       "</table>\n",
       "</div>"
      ],
      "text/plain": [
       "  row ID                                              Tweet  \\\n",
       "0   Row0  meltingice assuming comfortable direction feel...   \n",
       "1   Row1  spacex capable satellites orbit crew cargo com...   \n",
       "2   Row2                                             bigajm   \n",
       "3   Row3                                    part 8fvu57muhm   \n",
       "4   Row4    places earth mins anywhere cost seat dgyddgttyd   \n",
       "\n",
       "                  Time Retweet from      User   topic 0   topic 1   topic 2  \\\n",
       "0  2017-09-29 17:39:19          NaN  elonmusk  0.000979  0.012317  0.004997   \n",
       "1  2017-09-29 10:44:54       SpaceX  elonmusk  0.071505  0.000000  0.005393   \n",
       "2  2017-09-29 10:39:57          NaN  elonmusk  0.000000  0.000000  0.000000   \n",
       "3  2017-09-29 09:56:12          NaN  elonmusk  0.000000  0.012461  0.000000   \n",
       "4  2017-09-29 09:19:21          NaN  elonmusk  0.007307  0.005631  0.000872   \n",
       "\n",
       "    topic 3   topic 4  month  year  \n",
       "0  0.000544  0.000128      4  2017  \n",
       "1  0.003489  0.000000      4  2017  \n",
       "2  0.000000  0.000000      4  2017  \n",
       "3  0.001610  0.000000      4  2017  \n",
       "4  0.000000  0.000000      4  2017  "
      ]
     },
     "execution_count": 27,
     "metadata": {},
     "output_type": "execute_result"
    }
   ],
   "source": [
    "df.head()"
   ]
  },
  {
   "cell_type": "code",
   "execution_count": 28,
   "metadata": {},
   "outputs": [],
   "source": [
    "averages1 = df.groupby([\"year\",\"month\"])['topic 1'].mean().reset_index()[\"topic 1\"].tolist()\n",
    "averages0 = df.groupby([\"year\",\"month\"])['topic 0'].mean().reset_index()[\"topic 0\"].tolist()\n",
    "sums1 = df.groupby([\"year\",\"month\"])['topic 1'].sum().reset_index()[\"topic 1\"].tolist()\n",
    "sums0 = df.groupby([\"year\",\"month\"])['topic 0'].sum().reset_index()[\"topic 0\"].tolist()"
   ]
  },
  {
   "cell_type": "code",
   "execution_count": 25,
   "metadata": {},
   "outputs": [
    {
     "data": {
      "text/plain": [
       "0     0.022229\n",
       "1     0.040527\n",
       "2     0.025226\n",
       "3     0.026662\n",
       "4     0.024768\n",
       "5     0.017858\n",
       "6     0.028975\n",
       "7     0.037938\n",
       "8     0.022311\n",
       "9     0.018073\n",
       "10    0.025538\n",
       "11    0.024019\n",
       "12    0.032058\n",
       "13    0.011944\n",
       "14    0.022189\n",
       "15    0.017430\n",
       "16    0.035377\n",
       "17    0.035433\n",
       "18    0.015002\n",
       "19    0.025150\n",
       "20    0.026664\n",
       "21    0.020377\n",
       "22    0.026229\n",
       "23    0.028365\n",
       "24    0.029309\n",
       "25    0.015533\n",
       "26    0.030636\n",
       "27    0.016988\n",
       "28    0.020209\n",
       "29    0.013921\n",
       "Name: topic 1, dtype: float64"
      ]
     },
     "execution_count": 25,
     "metadata": {},
     "output_type": "execute_result"
    }
   ],
   "source": [
    "df.groupby([\"year\",\"month\"])['topic 1'].mean().reset_index()[\"topic 1\"]"
   ]
  },
  {
   "cell_type": "code",
   "execution_count": 29,
   "metadata": {},
   "outputs": [],
   "source": [
    "topic1 = df.groupby([\"year\",\"month\"])['topic 1'].sum().reset_index()\n",
    "topic0 = df.groupby([\"year\",\"month\"])['topic 0'].sum().reset_index()"
   ]
  },
  {
   "cell_type": "code",
   "execution_count": 150,
   "metadata": {},
   "outputs": [
    {
     "data": {
      "text/plain": [
       "[0.4567258247984701,\n",
       " 0.42335817420252525,\n",
       " 1.6620377061673923,\n",
       " 0.9012113838516999]"
      ]
     },
     "execution_count": 150,
     "metadata": {},
     "output_type": "execute_result"
    }
   ],
   "source": [
    "averages0[0:4]"
   ]
  },
  {
   "cell_type": "code",
   "execution_count": 30,
   "metadata": {},
   "outputs": [
    {
     "data": {
      "text/plain": [
       "30"
      ]
     },
     "execution_count": 30,
     "metadata": {},
     "output_type": "execute_result"
    }
   ],
   "source": [
    "len(averages1)"
   ]
  },
  {
   "cell_type": "code",
   "execution_count": 31,
   "metadata": {},
   "outputs": [],
   "source": [
    "dates = []\n",
    "for i in range(len(topic1)):\n",
    "    dates.append(int(topic1.iloc[i,0])+int(topic1.iloc[i,1])/6)"
   ]
  },
  {
   "cell_type": "code",
   "execution_count": 32,
   "metadata": {},
   "outputs": [
    {
     "data": {
      "text/plain": [
       "[2012.8333333333333, 2013.0, 2013.1666666666667]"
      ]
     },
     "execution_count": 32,
     "metadata": {},
     "output_type": "execute_result"
    }
   ],
   "source": [
    "dates[0:3]"
   ]
  },
  {
   "cell_type": "code",
   "execution_count": 33,
   "metadata": {},
   "outputs": [
    {
     "data": {
      "text/plain": [
       "Text(0,0.5,'Relevance of topic')"
      ]
     },
     "execution_count": 33,
     "metadata": {},
     "output_type": "execute_result"
    },
    {
     "data": {
      "image/png": "[encoded data removed]",
      "text/plain": [
       "<matplotlib.figure.Figure at 0x2aa18b4fe48>"
      ]
     },
     "metadata": {},
     "output_type": "display_data"
    }
   ],
   "source": [
    "import matplotlib\n",
    "matplotlib.rcParams.update({'font.size': 16})\n",
    "\n",
    "plt.figure(figsize=(8,4))\n",
    "dates.reverse()\n",
    "plt.plot(dates,sums0)\n",
    "\n",
    "plt.plot(dates,sums1)\n",
    "plt.legend([\"Topic 0\",\"Topic 1\"])\n",
    "plt.yticks([])\n",
    "plt.xticks([2013+i/2 for i in range(10)])\n",
    "plt.xlabel('Year')\n",
    "plt.ylabel('Relevance of topic')"
   ]
  },
  {
   "cell_type": "code",
   "execution_count": 238,
   "metadata": {},
   "outputs": [
    {
     "data": {
      "text/plain": [
       "[1295958.9743589743,\n",
       " 2542900.0,\n",
       " 10483948.717948718,\n",
       " 9760184.615384616,\n",
       " 10657335.897435898,\n",
       " 13444900.0,\n",
       " 9937248.717948718,\n",
       " 9797733.333333334,\n",
       " 8106730.769230769,\n",
       " 5783600.0,\n",
       " 5546525.641025641,\n",
       " 6457823.076923077,\n",
       " 5845466.666666667,\n",
       " 5210556.41025641,\n",
       " 5259579.487179487,\n",
       " 3794807.6923076925,\n",
       " 4479641.025641026,\n",
       " 4642789.743589744,\n",
       " 3645420.512820513,\n",
       " 4887646.153846154,\n",
       " 6037212.820512821,\n",
       " 4545707.692307692,\n",
       " 4838856.41025641,\n",
       " 3069423.076923077,\n",
       " 4651546.153846154,\n",
       " 4724128.205128205,\n",
       " 5522305.128205128,\n",
       " 6370917.948717949,\n",
       " 9129964.102564102,\n",
       " 5972271.794871795,\n",
       " 6953977.777777778]"
      ]
     },
     "execution_count": 238,
     "metadata": {},
     "output_type": "execute_result"
    }
   ],
   "source": [
    "averages"
   ]
  },
  {
   "cell_type": "code",
   "execution_count": 109,
   "metadata": {},
   "outputs": [
    {
     "data": {
      "text/html": [
       "<div>\n",
       "<style scoped>\n",
       "    .dataframe tbody tr th:only-of-type {\n",
       "        vertical-align: middle;\n",
       "    }\n",
       "\n",
       "    .dataframe tbody tr th {\n",
       "        vertical-align: top;\n",
       "    }\n",
       "\n",
       "    .dataframe thead th {\n",
       "        text-align: right;\n",
       "    }\n",
       "</style>\n",
       "<table border=\"1\" class=\"dataframe\">\n",
       "  <thead>\n",
       "    <tr style=\"text-align: right;\">\n",
       "      <th></th>\n",
       "      <th>Date</th>\n",
       "      <th>Label</th>\n",
       "      <th>Top1</th>\n",
       "      <th>Top2</th>\n",
       "      <th>Top3</th>\n",
       "      <th>Top4</th>\n",
       "      <th>Top5</th>\n",
       "      <th>Top6</th>\n",
       "      <th>Top7</th>\n",
       "      <th>Top8</th>\n",
       "      <th>...</th>\n",
       "      <th>Top16</th>\n",
       "      <th>Top17</th>\n",
       "      <th>Top18</th>\n",
       "      <th>Top19</th>\n",
       "      <th>Top20</th>\n",
       "      <th>Top21</th>\n",
       "      <th>Top22</th>\n",
       "      <th>Top23</th>\n",
       "      <th>Top24</th>\n",
       "      <th>Top25</th>\n",
       "    </tr>\n",
       "  </thead>\n",
       "  <tbody>\n",
       "    <tr>\n",
       "      <th>1984</th>\n",
       "      <td>2016-06-27</td>\n",
       "      <td>0</td>\n",
       "      <td>barclays rbs shares suspended trading tanking</td>\n",
       "      <td>pope says church ask forgiveness gays past tre...</td>\n",
       "      <td>poland shocked xenophobic abuse poles</td>\n",
       "      <td>second referendum cabinet agrees</td>\n",
       "      <td>scotland welcome join merkel ally says</td>\n",
       "      <td>sterling dips friday year low amid brexit unce...</td>\n",
       "      <td>negative news south african president allowed ...</td>\n",
       "      <td>surge hate crimes following brexit vote</td>\n",
       "      <td>...</td>\n",
       "      <td>german lawyers probe erdogan alleged war crimes</td>\n",
       "      <td>boris johnson says continue intensify cooperat...</td>\n",
       "      <td>richard branson calling government hold second...</td>\n",
       "      <td>turkey sorry downing russian jet</td>\n",
       "      <td>edward snowden lawyer vows new push pardon obama</td>\n",
       "      <td>brexit opinion poll reveals majority want seco...</td>\n",
       "      <td>conservative leave campaigner leave campaign p...</td>\n",
       "      <td>economists predict recession weakening pound f...</td>\n",
       "      <td>new superstate plan france germany creating eu...</td>\n",
       "      <td>pakistani clerics declare transgender marriage...</td>\n",
       "    </tr>\n",
       "    <tr>\n",
       "      <th>1985</th>\n",
       "      <td>2016-06-28</td>\n",
       "      <td>1</td>\n",
       "      <td>500 scientists australia want save great barri...</td>\n",
       "      <td>personal details 112 000 french police officer...</td>\n",
       "      <td>amp cuts united kingdom sovereign credit ratin...</td>\n",
       "      <td>huge helium deposit found africa</td>\n",
       "      <td>ceo south african state broadcaster quits shor...</td>\n",
       "      <td>brexit cost investors trillion worst one day d...</td>\n",
       "      <td>hong kong democracy activists call return brit...</td>\n",
       "      <td>brexit iceland president says join triangle no...</td>\n",
       "      <td>...</td>\n",
       "      <td>canada mexico pledge power clean energy 2025</td>\n",
       "      <td>increasing evidence australia torturing refuge...</td>\n",
       "      <td>richard branson founder virgin group said tues...</td>\n",
       "      <td>000 old skull borneo reveals surprise scientis...</td>\n",
       "      <td>palestinians stone western wall worshipers pol...</td>\n",
       "      <td>jean claude juncker asks farage</td>\n",
       "      <td>romanians remainians offering new home britons...</td>\n",
       "      <td>brexit gibraltar talks scotland stay</td>\n",
       "      <td>suicide bombers strike lebanon</td>\n",
       "      <td>mexico security forces routinely use sexual to...</td>\n",
       "    </tr>\n",
       "    <tr>\n",
       "      <th>1986</th>\n",
       "      <td>2016-06-29</td>\n",
       "      <td>1</td>\n",
       "      <td>explosion airport istanbul</td>\n",
       "      <td>yemeni former president terrorism offspring wa...</td>\n",
       "      <td>must accept freedom movement access market</td>\n",
       "      <td>devastated scientists late captive breed mamma...</td>\n",
       "      <td>british labor party leader jeremy corbyn loses...</td>\n",
       "      <td>muslim shop firebombed people inside</td>\n",
       "      <td>mexican authorities sexually torture women prison</td>\n",
       "      <td>shares pound continue recover</td>\n",
       "      <td>...</td>\n",
       "      <td>escape tunnel dug hand found holocaust massacr...</td>\n",
       "      <td>land beijing sinking much four inches per year...</td>\n",
       "      <td>car bomb anti islamic attack mosque perth aust...</td>\n",
       "      <td>emaciated lions taiz zoo trapped blood soaked ...</td>\n",
       "      <td>rupert murdoch describes brexit wonderful medi...</td>\n",
       "      <td>killed yemen suicide attacks</td>\n",
       "      <td>google found disastrous symantec norton vulner...</td>\n",
       "      <td>extremist violence rise germany domestic intel...</td>\n",
       "      <td>bbc news labour mps pass corbyn confidence motion</td>\n",
       "      <td>tiny new zealand town many jobs launches drive...</td>\n",
       "    </tr>\n",
       "    <tr>\n",
       "      <th>1987</th>\n",
       "      <td>2016-06-30</td>\n",
       "      <td>1</td>\n",
       "      <td>jamaica proposes marijuana dispensers tourists...</td>\n",
       "      <td>stephen hawking says pollution stupidity still...</td>\n",
       "      <td>boris johnson says run tory party leadership</td>\n",
       "      <td>six gay men ivory coast abused forced flee hom...</td>\n",
       "      <td>switzerland denies citizenship muslim immigran...</td>\n",
       "      <td>palestinian terrorist stabs israeli teen girl ...</td>\n",
       "      <td>puerto rico default billion debt friday</td>\n",
       "      <td>republic ireland fans awarded medal sportsmans...</td>\n",
       "      <td>...</td>\n",
       "      <td>googles free wifi indian railway stations bett...</td>\n",
       "      <td>mounting evidence suggests hobbits wiped moder...</td>\n",
       "      <td>men carried tuesday terror attack istanbul ata...</td>\n",
       "      <td>calls suspend saudi arabia human rights counci...</td>\n",
       "      <td>100 nobel laureates call greenpeace anti gmo o...</td>\n",
       "      <td>british pedophile sentenced years trafficking ...</td>\n",
       "      <td>permitted 200 offshore fracks gulf mexico 2010...</td>\n",
       "      <td>swimming ridicule french beach police carry gu...</td>\n",
       "      <td>uefa says minutes silence istanbul victims eur...</td>\n",
       "      <td>law enforcement sources gun used paris terrori...</td>\n",
       "    </tr>\n",
       "    <tr>\n",
       "      <th>1988</th>\n",
       "      <td>2016-07-01</td>\n",
       "      <td>1</td>\n",
       "      <td>117 year old woman mexico city finally receive...</td>\n",
       "      <td>imf chief backs athens permanent olympic host</td>\n",
       "      <td>president france says brexit donald trump</td>\n",
       "      <td>british man must give police hours notice sex ...</td>\n",
       "      <td>100 nobel laureates urge greenpeace stop oppos...</td>\n",
       "      <td>brazil huge spike number police killings rio a...</td>\n",
       "      <td>austria highest court annuls presidential elec...</td>\n",
       "      <td>facebook wins privacy case track belgian wants...</td>\n",
       "      <td>...</td>\n",
       "      <td>united states placed myanmar uzbekistan sudan ...</td>\n",
       "      <td>amp revises european union credit rating</td>\n",
       "      <td>india gets billion loan world bank solar mission</td>\n",
       "      <td>sailors detained iran spoke much interrogation...</td>\n",
       "      <td>mass fish kill vietnam solved taiwan steelmake...</td>\n",
       "      <td>philippines president rodrigo duterte urges pe...</td>\n",
       "      <td>spain arrests three pakistanis accused promoti...</td>\n",
       "      <td>venezuela anger food shortages still mounting ...</td>\n",
       "      <td>hindu temple worker killed three men motorcycl...</td>\n",
       "      <td>ozone layer hole seems healing amp team shows ...</td>\n",
       "    </tr>\n",
       "  </tbody>\n",
       "</table>\n",
       "<p>5 rows × 27 columns</p>\n",
       "</div>"
      ],
      "text/plain": [
       "            Date  Label                                               Top1  \\\n",
       "1984  2016-06-27      0      barclays rbs shares suspended trading tanking   \n",
       "1985  2016-06-28      1  500 scientists australia want save great barri...   \n",
       "1986  2016-06-29      1                         explosion airport istanbul   \n",
       "1987  2016-06-30      1  jamaica proposes marijuana dispensers tourists...   \n",
       "1988  2016-07-01      1  117 year old woman mexico city finally receive...   \n",
       "\n",
       "                                                   Top2  \\\n",
       "1984  pope says church ask forgiveness gays past tre...   \n",
       "1985  personal details 112 000 french police officer...   \n",
       "1986  yemeni former president terrorism offspring wa...   \n",
       "1987  stephen hawking says pollution stupidity still...   \n",
       "1988      imf chief backs athens permanent olympic host   \n",
       "\n",
       "                                                   Top3  \\\n",
       "1984              poland shocked xenophobic abuse poles   \n",
       "1985  amp cuts united kingdom sovereign credit ratin...   \n",
       "1986         must accept freedom movement access market   \n",
       "1987       boris johnson says run tory party leadership   \n",
       "1988          president france says brexit donald trump   \n",
       "\n",
       "                                                   Top4  \\\n",
       "1984                   second referendum cabinet agrees   \n",
       "1985                   huge helium deposit found africa   \n",
       "1986  devastated scientists late captive breed mamma...   \n",
       "1987  six gay men ivory coast abused forced flee hom...   \n",
       "1988  british man must give police hours notice sex ...   \n",
       "\n",
       "                                                   Top5  \\\n",
       "1984             scotland welcome join merkel ally says   \n",
       "1985  ceo south african state broadcaster quits shor...   \n",
       "1986  british labor party leader jeremy corbyn loses...   \n",
       "1987  switzerland denies citizenship muslim immigran...   \n",
       "1988  100 nobel laureates urge greenpeace stop oppos...   \n",
       "\n",
       "                                                   Top6  \\\n",
       "1984  sterling dips friday year low amid brexit unce...   \n",
       "1985  brexit cost investors trillion worst one day d...   \n",
       "1986               muslim shop firebombed people inside   \n",
       "1987  palestinian terrorist stabs israeli teen girl ...   \n",
       "1988  brazil huge spike number police killings rio a...   \n",
       "\n",
       "                                                   Top7  \\\n",
       "1984  negative news south african president allowed ...   \n",
       "1985  hong kong democracy activists call return brit...   \n",
       "1986  mexican authorities sexually torture women prison   \n",
       "1987            puerto rico default billion debt friday   \n",
       "1988  austria highest court annuls presidential elec...   \n",
       "\n",
       "                                                   Top8  \\\n",
       "1984            surge hate crimes following brexit vote   \n",
       "1985  brexit iceland president says join triangle no...   \n",
       "1986                      shares pound continue recover   \n",
       "1987  republic ireland fans awarded medal sportsmans...   \n",
       "1988  facebook wins privacy case track belgian wants...   \n",
       "\n",
       "                            ...                          \\\n",
       "1984                        ...                           \n",
       "1985                        ...                           \n",
       "1986                        ...                           \n",
       "1987                        ...                           \n",
       "1988                        ...                           \n",
       "\n",
       "                                                  Top16  \\\n",
       "1984    german lawyers probe erdogan alleged war crimes   \n",
       "1985       canada mexico pledge power clean energy 2025   \n",
       "1986  escape tunnel dug hand found holocaust massacr...   \n",
       "1987  googles free wifi indian railway stations bett...   \n",
       "1988  united states placed myanmar uzbekistan sudan ...   \n",
       "\n",
       "                                                  Top17  \\\n",
       "1984  boris johnson says continue intensify cooperat...   \n",
       "1985  increasing evidence australia torturing refuge...   \n",
       "1986  land beijing sinking much four inches per year...   \n",
       "1987  mounting evidence suggests hobbits wiped moder...   \n",
       "1988           amp revises european union credit rating   \n",
       "\n",
       "                                                  Top18  \\\n",
       "1984  richard branson calling government hold second...   \n",
       "1985  richard branson founder virgin group said tues...   \n",
       "1986  car bomb anti islamic attack mosque perth aust...   \n",
       "1987  men carried tuesday terror attack istanbul ata...   \n",
       "1988   india gets billion loan world bank solar mission   \n",
       "\n",
       "                                                  Top19  \\\n",
       "1984                   turkey sorry downing russian jet   \n",
       "1985  000 old skull borneo reveals surprise scientis...   \n",
       "1986  emaciated lions taiz zoo trapped blood soaked ...   \n",
       "1987  calls suspend saudi arabia human rights counci...   \n",
       "1988  sailors detained iran spoke much interrogation...   \n",
       "\n",
       "                                                  Top20  \\\n",
       "1984   edward snowden lawyer vows new push pardon obama   \n",
       "1985  palestinians stone western wall worshipers pol...   \n",
       "1986  rupert murdoch describes brexit wonderful medi...   \n",
       "1987  100 nobel laureates call greenpeace anti gmo o...   \n",
       "1988  mass fish kill vietnam solved taiwan steelmake...   \n",
       "\n",
       "                                                  Top21  \\\n",
       "1984  brexit opinion poll reveals majority want seco...   \n",
       "1985                    jean claude juncker asks farage   \n",
       "1986                       killed yemen suicide attacks   \n",
       "1987  british pedophile sentenced years trafficking ...   \n",
       "1988  philippines president rodrigo duterte urges pe...   \n",
       "\n",
       "                                                  Top22  \\\n",
       "1984  conservative leave campaigner leave campaign p...   \n",
       "1985  romanians remainians offering new home britons...   \n",
       "1986  google found disastrous symantec norton vulner...   \n",
       "1987  permitted 200 offshore fracks gulf mexico 2010...   \n",
       "1988  spain arrests three pakistanis accused promoti...   \n",
       "\n",
       "                                                  Top23  \\\n",
       "1984  economists predict recession weakening pound f...   \n",
       "1985               brexit gibraltar talks scotland stay   \n",
       "1986  extremist violence rise germany domestic intel...   \n",
       "1987  swimming ridicule french beach police carry gu...   \n",
       "1988  venezuela anger food shortages still mounting ...   \n",
       "\n",
       "                                                  Top24  \\\n",
       "1984  new superstate plan france germany creating eu...   \n",
       "1985                     suicide bombers strike lebanon   \n",
       "1986  bbc news labour mps pass corbyn confidence motion   \n",
       "1987  uefa says minutes silence istanbul victims eur...   \n",
       "1988  hindu temple worker killed three men motorcycl...   \n",
       "\n",
       "                                                  Top25  \n",
       "1984  pakistani clerics declare transgender marriage...  \n",
       "1985  mexico security forces routinely use sexual to...  \n",
       "1986  tiny new zealand town many jobs launches drive...  \n",
       "1987  law enforcement sources gun used paris terrori...  \n",
       "1988  ozone layer hole seems healing amp team shows ...  \n",
       "\n",
       "[5 rows x 27 columns]"
      ]
     },
     "execution_count": 109,
     "metadata": {},
     "output_type": "execute_result"
    }
   ],
   "source": [
    "df.tail()"
   ]
  },
  {
   "cell_type": "code",
   "execution_count": 34,
   "metadata": {},
   "outputs": [],
   "source": [
    "df2 = pd.read_csv('TSLA.csv',encoding = \"ISO-8859-1\")"
   ]
  },
  {
   "cell_type": "code",
   "execution_count": 35,
   "metadata": {},
   "outputs": [
    {
     "data": {
      "text/html": [
       "<div>\n",
       "<style scoped>\n",
       "    .dataframe tbody tr th:only-of-type {\n",
       "        vertical-align: middle;\n",
       "    }\n",
       "\n",
       "    .dataframe tbody tr th {\n",
       "        vertical-align: top;\n",
       "    }\n",
       "\n",
       "    .dataframe thead th {\n",
       "        text-align: right;\n",
       "    }\n",
       "</style>\n",
       "<table border=\"1\" class=\"dataframe\">\n",
       "  <thead>\n",
       "    <tr style=\"text-align: right;\">\n",
       "      <th></th>\n",
       "      <th>Date</th>\n",
       "      <th>Open</th>\n",
       "      <th>High</th>\n",
       "      <th>Low</th>\n",
       "      <th>Close</th>\n",
       "      <th>Adj Close</th>\n",
       "      <th>Volume</th>\n",
       "    </tr>\n",
       "  </thead>\n",
       "  <tbody>\n",
       "    <tr>\n",
       "      <th>0</th>\n",
       "      <td>2012-12-11</td>\n",
       "      <td>34.599998</td>\n",
       "      <td>35.500000</td>\n",
       "      <td>34.459999</td>\n",
       "      <td>35.279999</td>\n",
       "      <td>35.279999</td>\n",
       "      <td>1572600</td>\n",
       "    </tr>\n",
       "    <tr>\n",
       "      <th>1</th>\n",
       "      <td>2012-12-12</td>\n",
       "      <td>35.209999</td>\n",
       "      <td>35.799999</td>\n",
       "      <td>34.950001</td>\n",
       "      <td>35.259998</td>\n",
       "      <td>35.259998</td>\n",
       "      <td>2063800</td>\n",
       "    </tr>\n",
       "    <tr>\n",
       "      <th>2</th>\n",
       "      <td>2012-12-13</td>\n",
       "      <td>35.259998</td>\n",
       "      <td>35.299999</td>\n",
       "      <td>32.750000</td>\n",
       "      <td>33.610001</td>\n",
       "      <td>33.610001</td>\n",
       "      <td>2151300</td>\n",
       "    </tr>\n",
       "    <tr>\n",
       "      <th>3</th>\n",
       "      <td>2012-12-14</td>\n",
       "      <td>33.779999</td>\n",
       "      <td>34.400002</td>\n",
       "      <td>33.590000</td>\n",
       "      <td>33.810001</td>\n",
       "      <td>33.810001</td>\n",
       "      <td>1023000</td>\n",
       "    </tr>\n",
       "    <tr>\n",
       "      <th>4</th>\n",
       "      <td>2012-12-17</td>\n",
       "      <td>33.770000</td>\n",
       "      <td>34.500000</td>\n",
       "      <td>33.750000</td>\n",
       "      <td>34.400002</td>\n",
       "      <td>34.400002</td>\n",
       "      <td>824900</td>\n",
       "    </tr>\n",
       "  </tbody>\n",
       "</table>\n",
       "</div>"
      ],
      "text/plain": [
       "         Date       Open       High        Low      Close  Adj Close   Volume\n",
       "0  2012-12-11  34.599998  35.500000  34.459999  35.279999  35.279999  1572600\n",
       "1  2012-12-12  35.209999  35.799999  34.950001  35.259998  35.259998  2063800\n",
       "2  2012-12-13  35.259998  35.299999  32.750000  33.610001  33.610001  2151300\n",
       "3  2012-12-14  33.779999  34.400002  33.590000  33.810001  33.810001  1023000\n",
       "4  2012-12-17  33.770000  34.500000  33.750000  34.400002  34.400002   824900"
      ]
     },
     "execution_count": 35,
     "metadata": {},
     "output_type": "execute_result"
    }
   ],
   "source": [
    "df2.head()"
   ]
  },
  {
   "cell_type": "code",
   "execution_count": 36,
   "metadata": {},
   "outputs": [
    {
     "data": {
      "text/plain": [
       "(1210, 7)"
      ]
     },
     "execution_count": 36,
     "metadata": {},
     "output_type": "execute_result"
    }
   ],
   "source": [
    "df2.shape"
   ]
  },
  {
   "cell_type": "code",
   "execution_count": 37,
   "metadata": {},
   "outputs": [
    {
     "data": {
      "text/plain": [
       "1572600"
      ]
     },
     "execution_count": 37,
     "metadata": {},
     "output_type": "execute_result"
    }
   ],
   "source": [
    "df2.iloc[0,6]"
   ]
  },
  {
   "cell_type": "code",
   "execution_count": 38,
   "metadata": {},
   "outputs": [
    {
     "data": {
      "text/plain": [
       "20"
      ]
     },
     "execution_count": 38,
     "metadata": {},
     "output_type": "execute_result"
    }
   ],
   "source": [
    "1210//59"
   ]
  },
  {
   "cell_type": "code",
   "execution_count": 42,
   "metadata": {},
   "outputs": [],
   "source": [
    "#Now let's sum out those scores over the surrounding 1000 articles scores to see how average scores change over time\n",
    "document_number, topic_number = df2.shape\n",
    "stock_averages = []\n",
    "vol_averages = []\n",
    "i=0\n",
    "start = 2012.78\n",
    "end = 2017.66\n",
    "dates_stock = []\n",
    "while(i < document_number):\n",
    "    running_sum = df2.iloc[i,4]\n",
    "    running_sum_vol = df2.iloc[i,6]\n",
    "    i+=1\n",
    "    count = 0\n",
    "    while (i)%(1210//29) != 0 and i < document_number:\n",
    "        #print(i)\n",
    "        running_sum = running_sum + df2.iloc[i,4]\n",
    "        running_sum_vol += df2.iloc[i,6]\n",
    "        i+=1\n",
    "        count+=1\n",
    "    stock_averages.append(running_sum/count)\n",
    "    vol_averages.append(running_sum_vol/count)\n",
    "    dates_stock.append(start + (end-start) * i/document_number)\n",
    "#averages = np.hstack(average for average in averages)\n",
    "#averages.shape"
   ]
  },
  {
   "cell_type": "code",
   "execution_count": 43,
   "metadata": {},
   "outputs": [
    {
     "data": {
      "text/plain": [
       "30"
      ]
     },
     "execution_count": 43,
     "metadata": {},
     "output_type": "execute_result"
    }
   ],
   "source": [
    "len(dates_stock)"
   ]
  },
  {
   "cell_type": "code",
   "execution_count": 44,
   "metadata": {},
   "outputs": [
    {
     "data": {
      "text/plain": [
       "[2012.9453553719009, 2013.1107107438017, 2013.2760661157024]"
      ]
     },
     "execution_count": 44,
     "metadata": {},
     "output_type": "execute_result"
    }
   ],
   "source": [
    "dates_stock[0:3]"
   ]
  },
  {
   "cell_type": "code",
   "execution_count": 45,
   "metadata": {},
   "outputs": [
    {
     "data": {
      "text/plain": [
       "[2013.1666666666667, 2013.0, 2012.8333333333333]"
      ]
     },
     "execution_count": 45,
     "metadata": {},
     "output_type": "execute_result"
    }
   ],
   "source": [
    "dates[-3:]"
   ]
  },
  {
   "cell_type": "code",
   "execution_count": 44,
   "metadata": {},
   "outputs": [
    {
     "data": {
      "text/plain": [
       "5"
      ]
     },
     "execution_count": 44,
     "metadata": {},
     "output_type": "execute_result"
    }
   ],
   "source": [
    "len(averages)"
   ]
  },
  {
   "cell_type": "code",
   "execution_count": 45,
   "metadata": {},
   "outputs": [
    {
     "data": {
      "text/plain": [
       "[36.241500025, 38.89250005, 73.83024985]"
      ]
     },
     "execution_count": 45,
     "metadata": {},
     "output_type": "execute_result"
    }
   ],
   "source": [
    "stock_averages[:3]"
   ]
  },
  {
   "cell_type": "code",
   "execution_count": 46,
   "metadata": {},
   "outputs": [
    {
     "data": {
      "text/plain": [
       "30"
      ]
     },
     "execution_count": 46,
     "metadata": {},
     "output_type": "execute_result"
    }
   ],
   "source": [
    "len(dates)"
   ]
  },
  {
   "cell_type": "code",
   "execution_count": 46,
   "metadata": {},
   "outputs": [
    {
     "data": {
      "text/plain": [
       "Text(0,0.5,'Relevance of topic')"
      ]
     },
     "execution_count": 46,
     "metadata": {},
     "output_type": "execute_result"
    },
    {
     "data": {
      "image/png": "[encoded data removed]",
      "text/plain": [
       "<matplotlib.figure.Figure at 0x2aa18b7da90>"
      ]
     },
     "metadata": {},
     "output_type": "display_data"
    }
   ],
   "source": [
    "import matplotlib\n",
    "matplotlib.rcParams.update({'font.size': 16})\n",
    "\n",
    "plt.figure(figsize=(15,10))\n",
    "#plt.plot(dates,averages0)\n",
    "#dates.reverse()\n",
    "plt.plot(dates,averages1)\n",
    "plt.plot(dates_stock,stock_averages)\n",
    "plt.legend([\"Topic 1\",\"Stock\"])#,\"Topic 1\"])\n",
    "plt.yticks([])\n",
    "plt.xticks([2013+i/2 for i in range(10)])\n",
    "plt.xlabel('Year')\n",
    "plt.ylabel('Relevance of topic')"
   ]
  },
  {
   "cell_type": "code",
   "execution_count": 139,
   "metadata": {},
   "outputs": [],
   "source": [
    "dates.reverse()"
   ]
  },
  {
   "cell_type": "code",
   "execution_count": 47,
   "metadata": {},
   "outputs": [
    {
     "data": {
      "image/png": "[encoded data removed]",
      "text/plain": [
       "<matplotlib.figure.Figure at 0x2aa1c10f4e0>"
      ]
     },
     "metadata": {},
     "output_type": "display_data"
    }
   ],
   "source": [
    "from mpl_toolkits.axes_grid1 import host_subplot\n",
    "import mpl_toolkits.axisartist as AA\n",
    "import matplotlib.pyplot as plt\n",
    "\n",
    "host = host_subplot(111, axes_class=AA.Axes)\n",
    "plt.subplots_adjust(right=0.75)\n",
    "\n",
    "par1 = host.twinx()\n",
    "par2 = host.twinx()\n",
    "offset = 60\n",
    "new_fixed_axis = par1.get_grid_helper().new_fixed_axis\n",
    "par1.axis[\"right\"] = new_fixed_axis(loc=\"right\", axes=par1,\n",
    "                                        offset=(offset, 0))\n",
    "\n",
    "#par2.axis[\"right\"].toggle(all=True)\n",
    "\n",
    "host.set_xlim(2012, 2018)\n",
    "host.set_ylim(-0.0, 10)\n",
    "\n",
    "host.set_xlabel(\"Time\")\n",
    "host.set_ylabel(\"Topic Relevance\")\n",
    "host.set_yticks([])\n",
    "par1.set_ylabel(\"Stock Price($)\")\n",
    "#par2.set_ylabel(\"Stock Close\")\n",
    "\n",
    "p1, = host.plot(dates,sums1, label=\"Topic Relevance\")\n",
    "p2, = par1.plot(dates_stock, vol_averages, label=\"Stock Price\")\n",
    "#p3, = par2.plot([0, 1, 2], [50, 30, 15], label=\"Velocity\")\n",
    "\n",
    "par1.set_ylim(0, 20000000)\n",
    "#par2.set_ylim(1, 65)\n",
    "\n",
    "host.legend()\n",
    "\n",
    "host.axis[\"left\"].label.set_color(p1.get_color())\n",
    "par1.axis[\"right\"].label.set_color(p2.get_color())\n",
    "par2.axis[\"right\"].label.set_color(p2.get_color())\n",
    "\n",
    "plt.draw()\n",
    "plt.show()\n",
    "\n",
    "#plt.savefig(\"Test\")"
   ]
  },
  {
   "cell_type": "code",
   "execution_count": 71,
   "metadata": {},
   "outputs": [
    {
     "ename": "AttributeError",
     "evalue": "module 'seaborn' has no attribute 'unset'",
     "output_type": "error",
     "traceback": [
      "\u001b[1;31m---------------------------------------------------------------------------\u001b[0m",
      "\u001b[1;31mAttributeError\u001b[0m                            Traceback (most recent call last)",
      "\u001b[1;32m<ipython-input-71-8c99fa97dd46>\u001b[0m in \u001b[0;36m<module>\u001b[1;34m()\u001b[0m\n\u001b[0;32m      1\u001b[0m \u001b[1;32mimport\u001b[0m \u001b[0mseaborn\u001b[0m \u001b[1;32mas\u001b[0m \u001b[0msns\u001b[0m\u001b[1;33m\u001b[0m\u001b[0m\n\u001b[1;32m----> 2\u001b[1;33m \u001b[0msns\u001b[0m\u001b[1;33m.\u001b[0m\u001b[0munset\u001b[0m\u001b[1;33m(\u001b[0m\u001b[1;33m)\u001b[0m\u001b[1;33m\u001b[0m\u001b[0m\n\u001b[0m",
      "\u001b[1;31mAttributeError\u001b[0m: module 'seaborn' has no attribute 'unset'"
     ]
    }
   ],
   "source": [
    "import seaborn as sns\n",
    "sns.set()"
   ]
  },
  {
   "cell_type": "code",
   "execution_count": 74,
   "metadata": {},
   "outputs": [],
   "source": [
    "sns.reset_orig()"
   ]
  },
  {
   "cell_type": "code",
   "execution_count": 66,
   "metadata": {},
   "outputs": [
    {
     "data": {
      "text/plain": [
       "30"
      ]
     },
     "execution_count": 66,
     "metadata": {},
     "output_type": "execute_result"
    }
   ],
   "source": [
    "len(sums1)"
   ]
  },
  {
   "cell_type": "code",
   "execution_count": 71,
   "metadata": {},
   "outputs": [
    {
     "data": {
      "text/plain": [
       "[2012.9896694214876, 2013.149338842975, 2013.3090082644628]"
      ]
     },
     "execution_count": 71,
     "metadata": {},
     "output_type": "execute_result"
    }
   ],
   "source": [
    "dates_stock[0:3]"
   ]
  },
  {
   "cell_type": "code",
   "execution_count": 72,
   "metadata": {},
   "outputs": [
    {
     "data": {
      "text/plain": [
       "[2012.8333333333333, 2013.0, 2013.1666666666667]"
      ]
     },
     "execution_count": 72,
     "metadata": {},
     "output_type": "execute_result"
    }
   ],
   "source": [
    "dates[0:3]"
   ]
  },
  {
   "cell_type": "code",
   "execution_count": 77,
   "metadata": {
    "scrolled": true
   },
   "outputs": [
    {
     "ename": "ValueError",
     "evalue": "continuous is not supported",
     "output_type": "error",
     "traceback": [
      "\u001b[1;31m---------------------------------------------------------------------------\u001b[0m",
      "\u001b[1;31mValueError\u001b[0m                                Traceback (most recent call last)",
      "\u001b[1;32m<ipython-input-77-04c4bc71c668>\u001b[0m in \u001b[0;36m<module>\u001b[1;34m()\u001b[0m\n\u001b[0;32m      1\u001b[0m \u001b[1;32mimport\u001b[0m \u001b[0msklearn\u001b[0m\u001b[1;33m\u001b[0m\u001b[0m\n\u001b[1;32m----> 2\u001b[1;33m \u001b[0msklearn\u001b[0m\u001b[1;33m.\u001b[0m\u001b[0mmetrics\u001b[0m\u001b[1;33m.\u001b[0m\u001b[0mmatthews_corrcoef\u001b[0m\u001b[1;33m(\u001b[0m\u001b[0msums1\u001b[0m\u001b[1;33m,\u001b[0m\u001b[0mvol_averages\u001b[0m\u001b[1;33m)\u001b[0m\u001b[1;33m\u001b[0m\u001b[0m\n\u001b[0m",
      "\u001b[1;32mc:\\python36\\lib\\site-packages\\sklearn\\metrics\\classification.py\u001b[0m in \u001b[0;36mmatthews_corrcoef\u001b[1;34m(y_true, y_pred, sample_weight)\u001b[0m\n\u001b[0;32m    519\u001b[0m     \u001b[1;33m-\u001b[0m\u001b[1;36m0.33\u001b[0m\u001b[1;33m...\u001b[0m\u001b[1;33m\u001b[0m\u001b[0m\n\u001b[0;32m    520\u001b[0m     \"\"\"\n\u001b[1;32m--> 521\u001b[1;33m     \u001b[0my_type\u001b[0m\u001b[1;33m,\u001b[0m \u001b[0my_true\u001b[0m\u001b[1;33m,\u001b[0m \u001b[0my_pred\u001b[0m \u001b[1;33m=\u001b[0m \u001b[0m_check_targets\u001b[0m\u001b[1;33m(\u001b[0m\u001b[0my_true\u001b[0m\u001b[1;33m,\u001b[0m \u001b[0my_pred\u001b[0m\u001b[1;33m)\u001b[0m\u001b[1;33m\u001b[0m\u001b[0m\n\u001b[0m\u001b[0;32m    522\u001b[0m     \u001b[1;32mif\u001b[0m \u001b[0my_type\u001b[0m \u001b[1;32mnot\u001b[0m \u001b[1;32min\u001b[0m \u001b[1;33m{\u001b[0m\u001b[1;34m\"binary\"\u001b[0m\u001b[1;33m,\u001b[0m \u001b[1;34m\"multiclass\"\u001b[0m\u001b[1;33m}\u001b[0m\u001b[1;33m:\u001b[0m\u001b[1;33m\u001b[0m\u001b[0m\n\u001b[0;32m    523\u001b[0m         \u001b[1;32mraise\u001b[0m \u001b[0mValueError\u001b[0m\u001b[1;33m(\u001b[0m\u001b[1;34m\"%s is not supported\"\u001b[0m \u001b[1;33m%\u001b[0m \u001b[0my_type\u001b[0m\u001b[1;33m)\u001b[0m\u001b[1;33m\u001b[0m\u001b[0m\n",
      "\u001b[1;32mc:\\python36\\lib\\site-packages\\sklearn\\metrics\\classification.py\u001b[0m in \u001b[0;36m_check_targets\u001b[1;34m(y_true, y_pred)\u001b[0m\n\u001b[0;32m     86\u001b[0m     \u001b[1;31m# No metrics support \"multiclass-multioutput\" format\u001b[0m\u001b[1;33m\u001b[0m\u001b[1;33m\u001b[0m\u001b[0m\n\u001b[0;32m     87\u001b[0m     \u001b[1;32mif\u001b[0m \u001b[1;33m(\u001b[0m\u001b[0my_type\u001b[0m \u001b[1;32mnot\u001b[0m \u001b[1;32min\u001b[0m \u001b[1;33m[\u001b[0m\u001b[1;34m\"binary\"\u001b[0m\u001b[1;33m,\u001b[0m \u001b[1;34m\"multiclass\"\u001b[0m\u001b[1;33m,\u001b[0m \u001b[1;34m\"multilabel-indicator\"\u001b[0m\u001b[1;33m]\u001b[0m\u001b[1;33m)\u001b[0m\u001b[1;33m:\u001b[0m\u001b[1;33m\u001b[0m\u001b[0m\n\u001b[1;32m---> 88\u001b[1;33m         \u001b[1;32mraise\u001b[0m \u001b[0mValueError\u001b[0m\u001b[1;33m(\u001b[0m\u001b[1;34m\"{0} is not supported\"\u001b[0m\u001b[1;33m.\u001b[0m\u001b[0mformat\u001b[0m\u001b[1;33m(\u001b[0m\u001b[0my_type\u001b[0m\u001b[1;33m)\u001b[0m\u001b[1;33m)\u001b[0m\u001b[1;33m\u001b[0m\u001b[0m\n\u001b[0m\u001b[0;32m     89\u001b[0m \u001b[1;33m\u001b[0m\u001b[0m\n\u001b[0;32m     90\u001b[0m     \u001b[1;32mif\u001b[0m \u001b[0my_type\u001b[0m \u001b[1;32min\u001b[0m \u001b[1;33m[\u001b[0m\u001b[1;34m\"binary\"\u001b[0m\u001b[1;33m,\u001b[0m \u001b[1;34m\"multiclass\"\u001b[0m\u001b[1;33m]\u001b[0m\u001b[1;33m:\u001b[0m\u001b[1;33m\u001b[0m\u001b[0m\n",
      "\u001b[1;31mValueError\u001b[0m: continuous is not supported"
     ]
    }
   ],
   "source": [
    "import sklearn\n",
    "sklearn.metrics.matthews_corrcoef(sums1,vol_averages)"
   ]
  },
  {
   "cell_type": "code",
   "execution_count": 58,
   "metadata": {},
   "outputs": [
    {
     "data": {
      "text/plain": [
       "2017.6666666666667"
      ]
     },
     "execution_count": 58,
     "metadata": {},
     "output_type": "execute_result"
    }
   ],
   "source": [
    "dates[0]"
   ]
  },
  {
   "cell_type": "code",
   "execution_count": 51,
   "metadata": {},
   "outputs": [
    {
     "data": {
      "text/plain": [
       "(-0.35613561768053065, 0.05340658866493092)"
      ]
     },
     "execution_count": 51,
     "metadata": {},
     "output_type": "execute_result"
    }
   ],
   "source": [
    "import scipy\n",
    "#averages1.reverse()\n",
    "#sums1.reverse()\n",
    "scipy.stats.pearsonr(sums1, stock_averages)"
   ]
  },
  {
   "cell_type": "code",
   "execution_count": null,
   "metadata": {},
   "outputs": [],
   "source": [
    "0.19\n",
    "0.35"
   ]
  },
  {
   "cell_type": "code",
   "execution_count": 158,
   "metadata": {},
   "outputs": [
    {
     "data": {
      "text/plain": [
       "([0.7660006722503134],\n",
       " array([[0.01300647, 0.01196752, 0.00784163, 0.01237752, 0.01485295,\n",
       "         0.00945776, 0.00744132, 0.00954538, 0.01679506, 0.00858012,\n",
       "         0.0178776 , 0.02289208, 0.02130063, 0.02146768, 0.00664609,\n",
       "         0.01112206]]))"
      ]
     },
     "execution_count": 158,
     "metadata": {},
     "output_type": "execute_result"
    }
   ],
   "source": [
    "sums1[:1],averages[:1]"
   ]
  },
  {
   "cell_type": "code",
   "execution_count": 178,
   "metadata": {},
   "outputs": [],
   "source": [
    "a = np.array([sums1[:-1],averages1[:-1],vol_averages,stock_averages])"
   ]
  },
  {
   "cell_type": "code",
   "execution_count": 179,
   "metadata": {},
   "outputs": [
    {
     "data": {
      "text/plain": [
       "(4, 58)"
      ]
     },
     "execution_count": 179,
     "metadata": {},
     "output_type": "execute_result"
    }
   ],
   "source": [
    "a.shape"
   ]
  },
  {
   "cell_type": "code",
   "execution_count": 173,
   "metadata": {},
   "outputs": [],
   "source": [
    "b = pd.DataFrame(sums1[:-1],columns = [\"Tweet Sums\"])"
   ]
  },
  {
   "cell_type": "code",
   "execution_count": 174,
   "metadata": {},
   "outputs": [
    {
     "data": {
      "text/html": [
       "<div>\n",
       "<style scoped>\n",
       "    .dataframe tbody tr th:only-of-type {\n",
       "        vertical-align: middle;\n",
       "    }\n",
       "\n",
       "    .dataframe tbody tr th {\n",
       "        vertical-align: top;\n",
       "    }\n",
       "\n",
       "    .dataframe thead th {\n",
       "        text-align: right;\n",
       "    }\n",
       "</style>\n",
       "<table border=\"1\" class=\"dataframe\">\n",
       "  <thead>\n",
       "    <tr style=\"text-align: right;\">\n",
       "      <th></th>\n",
       "      <th>Tweet Sums</th>\n",
       "    </tr>\n",
       "  </thead>\n",
       "  <tbody>\n",
       "    <tr>\n",
       "      <th>0</th>\n",
       "      <td>0.766001</td>\n",
       "    </tr>\n",
       "    <tr>\n",
       "      <th>1</th>\n",
       "      <td>2.080991</td>\n",
       "    </tr>\n",
       "    <tr>\n",
       "      <th>2</th>\n",
       "      <td>3.418485</td>\n",
       "    </tr>\n",
       "    <tr>\n",
       "      <th>3</th>\n",
       "      <td>3.289381</td>\n",
       "    </tr>\n",
       "    <tr>\n",
       "      <th>4</th>\n",
       "      <td>2.591187</td>\n",
       "    </tr>\n",
       "  </tbody>\n",
       "</table>\n",
       "</div>"
      ],
      "text/plain": [
       "   Tweet Sums\n",
       "0    0.766001\n",
       "1    2.080991\n",
       "2    3.418485\n",
       "3    3.289381\n",
       "4    2.591187"
      ]
     },
     "execution_count": 174,
     "metadata": {},
     "output_type": "execute_result"
    }
   ],
   "source": [
    "b.head()"
   ]
  },
  {
   "cell_type": "code",
   "execution_count": 177,
   "metadata": {},
   "outputs": [],
   "source": [
    "b['Tweet Averages'] = Series(averages1[:-1], index=b.index)"
   ]
  },
  {
   "cell_type": "code",
   "execution_count": 180,
   "metadata": {},
   "outputs": [],
   "source": [
    "b['Volume Averages'] = Series(vol_averages, index=b.index)"
   ]
  },
  {
   "cell_type": "code",
   "execution_count": 181,
   "metadata": {},
   "outputs": [],
   "source": [
    "b['Stock Averages'] = Series(stock_averages, index=b.index)"
   ]
  },
  {
   "cell_type": "code",
   "execution_count": 182,
   "metadata": {},
   "outputs": [
    {
     "data": {
      "text/html": [
       "<div>\n",
       "<style scoped>\n",
       "    .dataframe tbody tr th:only-of-type {\n",
       "        vertical-align: middle;\n",
       "    }\n",
       "\n",
       "    .dataframe tbody tr th {\n",
       "        vertical-align: top;\n",
       "    }\n",
       "\n",
       "    .dataframe thead th {\n",
       "        text-align: right;\n",
       "    }\n",
       "</style>\n",
       "<table border=\"1\" class=\"dataframe\">\n",
       "  <thead>\n",
       "    <tr style=\"text-align: right;\">\n",
       "      <th></th>\n",
       "      <th>Tweet Sums</th>\n",
       "      <th>Tweet Averages</th>\n",
       "      <th>Volume Averages</th>\n",
       "      <th>Stock Averages</th>\n",
       "    </tr>\n",
       "  </thead>\n",
       "  <tbody>\n",
       "    <tr>\n",
       "      <th>0</th>\n",
       "      <td>0.766001</td>\n",
       "      <td>0.013927</td>\n",
       "      <td>1070325.0</td>\n",
       "      <td>35.9180</td>\n",
       "    </tr>\n",
       "    <tr>\n",
       "      <th>1</th>\n",
       "      <td>2.080991</td>\n",
       "      <td>0.015080</td>\n",
       "      <td>1677100.0</td>\n",
       "      <td>38.4860</td>\n",
       "    </tr>\n",
       "    <tr>\n",
       "      <th>2</th>\n",
       "      <td>3.418485</td>\n",
       "      <td>0.025511</td>\n",
       "      <td>2275480.0</td>\n",
       "      <td>38.8975</td>\n",
       "    </tr>\n",
       "    <tr>\n",
       "      <th>3</th>\n",
       "      <td>3.289381</td>\n",
       "      <td>0.015299</td>\n",
       "      <td>2983570.0</td>\n",
       "      <td>41.3335</td>\n",
       "    </tr>\n",
       "    <tr>\n",
       "      <th>4</th>\n",
       "      <td>2.591187</td>\n",
       "      <td>0.019780</td>\n",
       "      <td>7282370.0</td>\n",
       "      <td>57.9800</td>\n",
       "    </tr>\n",
       "  </tbody>\n",
       "</table>\n",
       "</div>"
      ],
      "text/plain": [
       "   Tweet Sums  Tweet Averages  Volume Averages  Stock Averages\n",
       "0    0.766001        0.013927        1070325.0         35.9180\n",
       "1    2.080991        0.015080        1677100.0         38.4860\n",
       "2    3.418485        0.025511        2275480.0         38.8975\n",
       "3    3.289381        0.015299        2983570.0         41.3335\n",
       "4    2.591187        0.019780        7282370.0         57.9800"
      ]
     },
     "execution_count": 182,
     "metadata": {},
     "output_type": "execute_result"
    }
   ],
   "source": [
    "b.head()"
   ]
  },
  {
   "cell_type": "code",
   "execution_count": 184,
   "metadata": {},
   "outputs": [],
   "source": [
    "b.to_csv(\"Musk_Twitter_Topic_Stocks.csv\")"
   ]
  },
  {
   "cell_type": "code",
   "execution_count": null,
   "metadata": {},
   "outputs": [],
   "source": []
  }
 ],
 "metadata": {
  "kernelspec": {
   "display_name": "Python 3",
   "language": "python",
   "name": "python3"
  },
  "language_info": {
   "codemirror_mode": {
    "name": "ipython",
    "version": 3
   },
   "file_extension": ".py",
   "mimetype": "text/x-python",
   "name": "python",
   "nbconvert_exporter": "python",
   "pygments_lexer": "ipython3",
   "version": "3.6.0"
  }
 },
 "nbformat": 4,
 "nbformat_minor": 2
}
