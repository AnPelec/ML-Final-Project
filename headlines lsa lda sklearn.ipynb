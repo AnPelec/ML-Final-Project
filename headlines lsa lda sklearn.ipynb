{
 "cells": [
  {
   "cell_type": "code",
   "execution_count": 1,
   "metadata": {},
   "outputs": [],
   "source": [
    "import numpy as np\n",
    "import pandas as pd\n",
    "import matplotlib.pyplot as plt\n",
    "import seaborn as sns\n",
    "pd.set_option(\"display.max_colwidth\", 200)"
   ]
  },
  {
   "cell_type": "code",
   "execution_count": 2,
   "metadata": {},
   "outputs": [],
   "source": [
    "df = pd.read_csv('Combined_News_DJIA.csv')"
   ]
  },
  {
   "cell_type": "code",
   "execution_count": 3,
   "metadata": {},
   "outputs": [
    {
     "data": {
      "text/html": [
       "<div>\n",
       "<style scoped>\n",
       "    .dataframe tbody tr th:only-of-type {\n",
       "        vertical-align: middle;\n",
       "    }\n",
       "\n",
       "    .dataframe tbody tr th {\n",
       "        vertical-align: top;\n",
       "    }\n",
       "\n",
       "    .dataframe thead th {\n",
       "        text-align: right;\n",
       "    }\n",
       "</style>\n",
       "<table border=\"1\" class=\"dataframe\">\n",
       "  <thead>\n",
       "    <tr style=\"text-align: right;\">\n",
       "      <th></th>\n",
       "      <th>Date</th>\n",
       "      <th>Label</th>\n",
       "      <th>Top1</th>\n",
       "      <th>Top2</th>\n",
       "      <th>Top3</th>\n",
       "      <th>Top4</th>\n",
       "      <th>Top5</th>\n",
       "      <th>Top6</th>\n",
       "      <th>Top7</th>\n",
       "      <th>Top8</th>\n",
       "      <th>...</th>\n",
       "      <th>Top16</th>\n",
       "      <th>Top17</th>\n",
       "      <th>Top18</th>\n",
       "      <th>Top19</th>\n",
       "      <th>Top20</th>\n",
       "      <th>Top21</th>\n",
       "      <th>Top22</th>\n",
       "      <th>Top23</th>\n",
       "      <th>Top24</th>\n",
       "      <th>Top25</th>\n",
       "    </tr>\n",
       "  </thead>\n",
       "  <tbody>\n",
       "    <tr>\n",
       "      <th>1984</th>\n",
       "      <td>2016-06-27</td>\n",
       "      <td>0</td>\n",
       "      <td>Barclays and RBS shares suspended from trading after tanking more than 8%</td>\n",
       "      <td>Pope says Church should ask forgiveness from gays for past treatment</td>\n",
       "      <td>Poland 'shocked' by xenophobic abuse of Poles in UK</td>\n",
       "      <td>There will be no second referendum, cabinet agrees</td>\n",
       "      <td>Scotland welcome to join EU, Merkel ally says</td>\n",
       "      <td>Sterling dips below Friday's 31-year low amid Brexit uncertainty</td>\n",
       "      <td>No negative news about South African President allowed on state broadcaster.</td>\n",
       "      <td>Surge in Hate Crimes in the U.K. Following U.K.s Brexit Vote</td>\n",
       "      <td>...</td>\n",
       "      <td>German lawyers to probe Erdogan over alleged war crimes</td>\n",
       "      <td>Boris Johnson says the UK will continue to \"intensify\" cooperation with the EU and tells his fellow Leave supporters they must accept the 52-48 referendum win was \"not entirely overwhelming\".</td>\n",
       "      <td>Richard Branson is calling on the UK government to hold a second EU referendum to prevent 'irreversible damage' to the country.</td>\n",
       "      <td>Turkey 'sorry for downing Russian jet'</td>\n",
       "      <td>Edward Snowden lawyer vows new push for pardon from Obama</td>\n",
       "      <td>Brexit opinion poll reveals majority don't want second EU referendum: \"half (48%) of British adults say that they are happy with the result, with two in five (43%) saying they are unhappy with the...</td>\n",
       "      <td>Conservative MP Leave Campaigner: \"The leave campaign don't have a post-Brexit plan...\"</td>\n",
       "      <td>Economists predict UK recession, further weakening of Pound following Brexit.</td>\n",
       "      <td>New EU 'superstate plan by France, Germany: Creating a European superstate limiting the powers of individual members following Britains referendum decision to leave the EU</td>\n",
       "      <td>Pakistani clerics declare transgender marriages legal under Islamic law</td>\n",
       "    </tr>\n",
       "    <tr>\n",
       "      <th>1985</th>\n",
       "      <td>2016-06-28</td>\n",
       "      <td>1</td>\n",
       "      <td>2,500 Scientists To Australia: If You Want To Save The Great Barrier Reef, Stop Supporting Coal</td>\n",
       "      <td>The personal details of 112,000 French police officers have been uploaded to Google Drive in a security breach just a fortnight after two officers were murdered at their home by a jihadist.</td>\n",
       "      <td>S&amp;amp;P cuts United Kingdom sovereign credit rating to 'AA' from 'AAA'</td>\n",
       "      <td>Huge helium deposit found in Africa</td>\n",
       "      <td>CEO of the South African state broadcaster quits shortly after negative news about president is banned.</td>\n",
       "      <td>Brexit cost investors $2 trillion, the worst one day drop ever</td>\n",
       "      <td>Hong Kong democracy activists call for return to British rule as first step to independence</td>\n",
       "      <td>Brexit: Iceland president says UK can join 'triangle' of non-EU countries</td>\n",
       "      <td>...</td>\n",
       "      <td>US, Canada and Mexico pledge 50% of power from clean energy by 2025</td>\n",
       "      <td>There is increasing evidence that Australia is torturing refugees, medical experts claim</td>\n",
       "      <td>Richard Branson, the founder of Virgin Group, said Tuesday that the company has lost about a third of its value since the U.K. voted to leave the European Union last week.</td>\n",
       "      <td>37,000-yr-old skull from Borneo reveals surprise for scientists - Study of the \"Deep Skull\" - oldest modern human discovered in SE Asia - reveals this ancient person was not related to Indigenous ...</td>\n",
       "      <td>Palestinians stone Western Wall worshipers; police shut Temple Mount to non-Muslims</td>\n",
       "      <td>Jean-Claude Juncker asks Farage: Why are you here?</td>\n",
       "      <td>\"Romanians for Remainians\" offering a new home to the 48% of Britons who voted to stay in the EU | Bucharest newspaper's app connects loving Romanian families with needy Brits, allowing people to ...</td>\n",
       "      <td>Brexit: Gibraltar in talks with Scotland to stay in EU</td>\n",
       "      <td>8 Suicide Bombers Strike Lebanon</td>\n",
       "      <td>Mexico's security forces routinely use 'sexual torture' against women: Rights group Amnesty International has compiled testimonies of sexual violence used as torture by Mexican security forces. De...</td>\n",
       "    </tr>\n",
       "    <tr>\n",
       "      <th>1986</th>\n",
       "      <td>2016-06-29</td>\n",
       "      <td>1</td>\n",
       "      <td>Explosion At Airport In Istanbul</td>\n",
       "      <td>Yemeni former president: Terrorism is the offspring of Wahhabism of Al Saud regime</td>\n",
       "      <td>UK must accept freedom of movement to access EU Market</td>\n",
       "      <td>Devastated: scientists too late to captive breed mammal lost to climate change - Australian conservationists spent 5 months obtaining permissions &amp;amp; planning for a captive breeding program. But...</td>\n",
       "      <td>British Labor Party leader Jeremy Corbyn loses a no-confidence vote but refuses to resign</td>\n",
       "      <td>A Muslim Shop in the UK Was Just Firebombed While People Were Inside</td>\n",
       "      <td>Mexican Authorities Sexually Torture Women in Prison</td>\n",
       "      <td>UK shares and pound continue to recover</td>\n",
       "      <td>...</td>\n",
       "      <td>Escape Tunnel, Dug by Hand, Is Found at Holocaust Massacre Site</td>\n",
       "      <td>The land under Beijing is sinking by as much as four inches per year because of the overconsumption of groundwater, according to new research.</td>\n",
       "      <td>Car bomb and Anti-Islamic attack on Mosque in Perth, Australia</td>\n",
       "      <td>Emaciated lions in Taiz Zoo are trapped in blood-soaked cages and left to starve for months due to the Yemeni civil war</td>\n",
       "      <td>Rupert Murdoch describes Brexit as 'wonderful'. The media mogul likened leaving the EU to a prison break and shared his view of Donald Trump as a very able man.</td>\n",
       "      <td>More than 40 killed in Yemen suicide attacks</td>\n",
       "      <td>Google Found Disastrous Symantec and Norton Vulnerabilities That Are 'As Bad As It Gets</td>\n",
       "      <td>Extremist violence on the rise in Germany: Domestic intelligence agency says far-right, far-left and Islamist radical groups gaining membership in country</td>\n",
       "      <td>BBC News: Labour MPs pass Corbyn no-confidence motion</td>\n",
       "      <td>Tiny New Zealand town with 'too many jobs' launches drive to recruit outsiders</td>\n",
       "    </tr>\n",
       "    <tr>\n",
       "      <th>1987</th>\n",
       "      <td>2016-06-30</td>\n",
       "      <td>1</td>\n",
       "      <td>Jamaica proposes marijuana dispensers for tourists at airports following legalisation: The kiosks and desks would give people a license to purchase up to 2 ounces of the drug to use during their stay</td>\n",
       "      <td>Stephen Hawking says pollution and 'stupidity' still biggest threats to mankind: we have certainly not become less greedy or less stupid in our treatment of the environment over the past decade</td>\n",
       "      <td>Boris Johnson says he will not run for Tory party leadership</td>\n",
       "      <td>Six gay men in Ivory Coast were abused and forced to flee their homes after they were pictured signing a condolence book for victims of the recent attack on a gay nightclub in Florida</td>\n",
       "      <td>Switzerland denies citizenship to Muslim immigrant girls who refused to swim with boys: report</td>\n",
       "      <td>Palestinian terrorist stabs israeli teen girl to death in her bedroom</td>\n",
       "      <td>Puerto Rico will default on $1 billion of debt on Friday</td>\n",
       "      <td>Republic of Ireland fans to be awarded medal for sportsmanship by Paris mayor.</td>\n",
       "      <td>...</td>\n",
       "      <td>Googles free wifi at Indian railway stations is better than most of the countrys paid services</td>\n",
       "      <td>Mounting evidence suggests 'hobbits' were wiped out by modern humans' ancestors 50,000 years ago.</td>\n",
       "      <td>The men who carried out Tuesday's terror attack at Istanbul's Ataturk Airport were from Russia, Uzbekistan and Kyrgyzstan, a Turkish offical said.</td>\n",
       "      <td>Calls to suspend Saudi Arabia from UN Human Rights Council because of military aggresion in Yemen</td>\n",
       "      <td>More Than 100 Nobel Laureates Call Out Greenpeace For Anti-GMO Obstruction In Developing World</td>\n",
       "      <td>British pedophile sentenced to 85 years in US for trafficking child abuse images: Domminich Shaw, a kingpin of sexual violence against children, sent dozens of images online and discussed plans to...</td>\n",
       "      <td>US permitted 1,200 offshore fracks in Gulf of Mexico between 2010 and 2014 and allowed 72 billion gallons of chemical discharge in 2014.</td>\n",
       "      <td>We will be swimming in ridicule - French beach police to carry guns while in swimming trunks: Police lifeguards on Frances busiest beaches will carry guns and bullet-proof vests for the first time...</td>\n",
       "      <td>UEFA says no minutes of silence for Istanbul victims at Euro 2016 because 'Turkey have already been eliminated'</td>\n",
       "      <td>Law Enforcement Sources: Gun Used in Paris Terrorist Attacks Came from Phoenix</td>\n",
       "    </tr>\n",
       "    <tr>\n",
       "      <th>1988</th>\n",
       "      <td>2016-07-01</td>\n",
       "      <td>1</td>\n",
       "      <td>A 117-year-old woman in Mexico City finally received her birth certificate, and died a few hours later. Trinidad Alvarez Lira had waited years for proof that she had been born in 1898.</td>\n",
       "      <td>IMF chief backs Athens as permanent Olympic host</td>\n",
       "      <td>The president of France says if Brexit won, so can Donald Trump</td>\n",
       "      <td>British Man Who Must Give Police 24 Hours' Notice of Sex Threatens Hunger Strike: The man is the subject of a sexual risk order despite having never been convicted of a crime.</td>\n",
       "      <td>100+ Nobel laureates urge Greenpeace to stop opposing GMOs</td>\n",
       "      <td>Brazil: Huge spike in number of police killings in Rio ahead of Olympics</td>\n",
       "      <td>Austria's highest court annuls presidential election narrowly lost by right-wing candidate.</td>\n",
       "      <td>Facebook wins privacy case, can track any Belgian it wants: Doesn't matter if Internet users are logged into Facebook or not</td>\n",
       "      <td>...</td>\n",
       "      <td>The United States has placed Myanmar, Uzbekistan, Sudan and Haiti on its list of worst human trafficking offenders.</td>\n",
       "      <td>S&amp;amp;P revises European Union credit rating to 'AA' from 'AA+'</td>\n",
       "      <td>India gets $1 billion loan from World Bank for solar mission</td>\n",
       "      <td>U.S. sailors detained by Iran spoke too much under interrogation: Navy</td>\n",
       "      <td>Mass fish kill in Vietnam solved as Taiwan steelmaker accepts responsibility for pollution</td>\n",
       "      <td>Philippines president Rodrigo Duterte urges people to kill drug addicts | Duterte, 71, won power in a landslide after a campaign dominated by threats to kill tens of thousands in a war on crime</td>\n",
       "      <td>Spain arrests three Pakistanis accused of promoting militancy</td>\n",
       "      <td>Venezuela, where anger over food shortages is still mounting, continued to be roiled this week by angry protests and break-ins of grocery stores and businesses that have left five dead, at least 3...</td>\n",
       "      <td>A Hindu temple worker has been killed by three men on a motorcycle, local police have said. More than 40 people have been killed in attacks blamed on Islamist militants in Bangladesh since Februar...</td>\n",
       "      <td>Ozone layer hole seems to be healing - US &amp;amp; UK team shows it's shrunk &amp;amp; may slowly recover. \"If you had to have an ozone hole anywhere in the world, it'd be Antarctica because its not teem...</td>\n",
       "    </tr>\n",
       "  </tbody>\n",
       "</table>\n",
       "<p>5 rows × 27 columns</p>\n",
       "</div>"
      ],
      "text/plain": [
       "            Date  Label  \\\n",
       "1984  2016-06-27      0   \n",
       "1985  2016-06-28      1   \n",
       "1986  2016-06-29      1   \n",
       "1987  2016-06-30      1   \n",
       "1988  2016-07-01      1   \n",
       "\n",
       "                                                                                                                                                                                                         Top1  \\\n",
       "1984                                                                                                                                Barclays and RBS shares suspended from trading after tanking more than 8%   \n",
       "1985                                                                                                          2,500 Scientists To Australia: If You Want To Save The Great Barrier Reef, Stop Supporting Coal   \n",
       "1986                                                                                                                                                                         Explosion At Airport In Istanbul   \n",
       "1987  Jamaica proposes marijuana dispensers for tourists at airports following legalisation: The kiosks and desks would give people a license to purchase up to 2 ounces of the drug to use during their stay   \n",
       "1988                 A 117-year-old woman in Mexico City finally received her birth certificate, and died a few hours later. Trinidad Alvarez Lira had waited years for proof that she had been born in 1898.   \n",
       "\n",
       "                                                                                                                                                                                                   Top2  \\\n",
       "1984                                                                                                                               Pope says Church should ask forgiveness from gays for past treatment   \n",
       "1985      The personal details of 112,000 French police officers have been uploaded to Google Drive in a security breach just a fortnight after two officers were murdered at their home by a jihadist.   \n",
       "1986                                                                                                                 Yemeni former president: Terrorism is the offspring of Wahhabism of Al Saud regime   \n",
       "1987  Stephen Hawking says pollution and 'stupidity' still biggest threats to mankind: we have certainly not become less greedy or less stupid in our treatment of the environment over the past decade   \n",
       "1988                                                                                                                                                   IMF chief backs Athens as permanent Olympic host   \n",
       "\n",
       "                                                                        Top3  \\\n",
       "1984                     Poland 'shocked' by xenophobic abuse of Poles in UK   \n",
       "1985  S&amp;P cuts United Kingdom sovereign credit rating to 'AA' from 'AAA'   \n",
       "1986                  UK must accept freedom of movement to access EU Market   \n",
       "1987            Boris Johnson says he will not run for Tory party leadership   \n",
       "1988         The president of France says if Brexit won, so can Donald Trump   \n",
       "\n",
       "                                                                                                                                                                                                         Top4  \\\n",
       "1984                                                                                                                                                       There will be no second referendum, cabinet agrees   \n",
       "1985                                                                                                                                                                      Huge helium deposit found in Africa   \n",
       "1986  Devastated: scientists too late to captive breed mammal lost to climate change - Australian conservationists spent 5 months obtaining permissions &amp; planning for a captive breeding program. But...   \n",
       "1987                  Six gay men in Ivory Coast were abused and forced to flee their homes after they were pictured signing a condolence book for victims of the recent attack on a gay nightclub in Florida   \n",
       "1988                          British Man Who Must Give Police 24 Hours' Notice of Sex Threatens Hunger Strike: The man is the subject of a sexual risk order despite having never been convicted of a crime.   \n",
       "\n",
       "                                                                                                         Top5  \\\n",
       "1984                                                            Scotland welcome to join EU, Merkel ally says   \n",
       "1985  CEO of the South African state broadcaster quits shortly after negative news about president is banned.   \n",
       "1986                British Labor Party leader Jeremy Corbyn loses a no-confidence vote but refuses to resign   \n",
       "1987           Switzerland denies citizenship to Muslim immigrant girls who refused to swim with boys: report   \n",
       "1988                                               100+ Nobel laureates urge Greenpeace to stop opposing GMOs   \n",
       "\n",
       "                                                                          Top6  \\\n",
       "1984          Sterling dips below Friday's 31-year low amid Brexit uncertainty   \n",
       "1985            Brexit cost investors $2 trillion, the worst one day drop ever   \n",
       "1986      A Muslim Shop in the UK Was Just Firebombed While People Were Inside   \n",
       "1987     Palestinian terrorist stabs israeli teen girl to death in her bedroom   \n",
       "1988  Brazil: Huge spike in number of police killings in Rio ahead of Olympics   \n",
       "\n",
       "                                                                                             Top7  \\\n",
       "1984                 No negative news about South African President allowed on state broadcaster.   \n",
       "1985  Hong Kong democracy activists call for return to British rule as first step to independence   \n",
       "1986                                         Mexican Authorities Sexually Torture Women in Prison   \n",
       "1987                                     Puerto Rico will default on $1 billion of debt on Friday   \n",
       "1988  Austria's highest court annuls presidential election narrowly lost by right-wing candidate.   \n",
       "\n",
       "                                                                                                                              Top8  \\\n",
       "1984                                                                  Surge in Hate Crimes in the U.K. Following U.K.s Brexit Vote   \n",
       "1985                                                     Brexit: Iceland president says UK can join 'triangle' of non-EU countries   \n",
       "1986                                                                                       UK shares and pound continue to recover   \n",
       "1987                                                Republic of Ireland fans to be awarded medal for sportsmanship by Paris mayor.   \n",
       "1988  Facebook wins privacy case, can track any Belgian it wants: Doesn't matter if Internet users are logged into Facebook or not   \n",
       "\n",
       "                                                                                                       ...                                                                                                     \\\n",
       "1984                                                                                                   ...                                                                                                      \n",
       "1985                                                                                                   ...                                                                                                      \n",
       "1986                                                                                                   ...                                                                                                      \n",
       "1987                                                                                                   ...                                                                                                      \n",
       "1988                                                                                                   ...                                                                                                      \n",
       "\n",
       "                                                                                                                    Top16  \\\n",
       "1984                                                              German lawyers to probe Erdogan over alleged war crimes   \n",
       "1985                                                  US, Canada and Mexico pledge 50% of power from clean energy by 2025   \n",
       "1986                                                      Escape Tunnel, Dug by Hand, Is Found at Holocaust Massacre Site   \n",
       "1987                       Googles free wifi at Indian railway stations is better than most of the countrys paid services   \n",
       "1988  The United States has placed Myanmar, Uzbekistan, Sudan and Haiti on its list of worst human trafficking offenders.   \n",
       "\n",
       "                                                                                                                                                                                                Top17  \\\n",
       "1984  Boris Johnson says the UK will continue to \"intensify\" cooperation with the EU and tells his fellow Leave supporters they must accept the 52-48 referendum win was \"not entirely overwhelming\".   \n",
       "1985                                                                                                         There is increasing evidence that Australia is torturing refugees, medical experts claim   \n",
       "1986                                                   The land under Beijing is sinking by as much as four inches per year because of the overconsumption of groundwater, according to new research.   \n",
       "1987                                                                                                Mounting evidence suggests 'hobbits' were wiped out by modern humans' ancestors 50,000 years ago.   \n",
       "1988                                                                                                                                  S&amp;P revises European Union credit rating to 'AA' from 'AA+'   \n",
       "\n",
       "                                                                                                                                                                            Top18  \\\n",
       "1984                                              Richard Branson is calling on the UK government to hold a second EU referendum to prevent 'irreversible damage' to the country.   \n",
       "1985  Richard Branson, the founder of Virgin Group, said Tuesday that the company has lost about a third of its value since the U.K. voted to leave the European Union last week.   \n",
       "1986                                                                                                               Car bomb and Anti-Islamic attack on Mosque in Perth, Australia   \n",
       "1987                           The men who carried out Tuesday's terror attack at Istanbul's Ataturk Airport were from Russia, Uzbekistan and Kyrgyzstan, a Turkish offical said.   \n",
       "1988                                                                                                                 India gets $1 billion loan from World Bank for solar mission   \n",
       "\n",
       "                                                                                                                                                                                                        Top19  \\\n",
       "1984                                                                                                                                                                   Turkey 'sorry for downing Russian jet'   \n",
       "1985  37,000-yr-old skull from Borneo reveals surprise for scientists - Study of the \"Deep Skull\" - oldest modern human discovered in SE Asia - reveals this ancient person was not related to Indigenous ...   \n",
       "1986                                                                                  Emaciated lions in Taiz Zoo are trapped in blood-soaked cages and left to starve for months due to the Yemeni civil war   \n",
       "1987                                                                                                        Calls to suspend Saudi Arabia from UN Human Rights Council because of military aggresion in Yemen   \n",
       "1988                                                                                                                                   U.S. sailors detained by Iran spoke too much under interrogation: Navy   \n",
       "\n",
       "                                                                                                                                                                 Top20  \\\n",
       "1984                                                                                                         Edward Snowden lawyer vows new push for pardon from Obama   \n",
       "1985                                                                               Palestinians stone Western Wall worshipers; police shut Temple Mount to non-Muslims   \n",
       "1986  Rupert Murdoch describes Brexit as 'wonderful'. The media mogul likened leaving the EU to a prison break and shared his view of Donald Trump as a very able man.   \n",
       "1987                                                                    More Than 100 Nobel Laureates Call Out Greenpeace For Anti-GMO Obstruction In Developing World   \n",
       "1988                                                                        Mass fish kill in Vietnam solved as Taiwan steelmaker accepts responsibility for pollution   \n",
       "\n",
       "                                                                                                                                                                                                        Top21  \\\n",
       "1984  Brexit opinion poll reveals majority don't want second EU referendum: \"half (48%) of British adults say that they are happy with the result, with two in five (43%) saying they are unhappy with the...   \n",
       "1985                                                                                                                                                       Jean-Claude Juncker asks Farage: Why are you here?   \n",
       "1986                                                                                                                                                             More than 40 killed in Yemen suicide attacks   \n",
       "1987  British pedophile sentenced to 85 years in US for trafficking child abuse images: Domminich Shaw, a kingpin of sexual violence against children, sent dozens of images online and discussed plans to...   \n",
       "1988        Philippines president Rodrigo Duterte urges people to kill drug addicts | Duterte, 71, won power in a landslide after a campaign dominated by threats to kill tens of thousands in a war on crime   \n",
       "\n",
       "                                                                                                                                                                                                        Top22  \\\n",
       "1984                                                                                                                  Conservative MP Leave Campaigner: \"The leave campaign don't have a post-Brexit plan...\"   \n",
       "1985  \"Romanians for Remainians\" offering a new home to the 48% of Britons who voted to stay in the EU | Bucharest newspaper's app connects loving Romanian families with needy Brits, allowing people to ...   \n",
       "1986                                                                                                                  Google Found Disastrous Symantec and Norton Vulnerabilities That Are 'As Bad As It Gets   \n",
       "1987                                                                 US permitted 1,200 offshore fracks in Gulf of Mexico between 2010 and 2014 and allowed 72 billion gallons of chemical discharge in 2014.   \n",
       "1988                                                                                                                                            Spain arrests three Pakistanis accused of promoting militancy   \n",
       "\n",
       "                                                                                                                                                                                                        Top23  \\\n",
       "1984                                                                                                                            Economists predict UK recession, further weakening of Pound following Brexit.   \n",
       "1985                                                                                                                                                   Brexit: Gibraltar in talks with Scotland to stay in EU   \n",
       "1986                                               Extremist violence on the rise in Germany: Domestic intelligence agency says far-right, far-left and Islamist radical groups gaining membership in country   \n",
       "1987  We will be swimming in ridicule - French beach police to carry guns while in swimming trunks: Police lifeguards on Frances busiest beaches will carry guns and bullet-proof vests for the first time...   \n",
       "1988  Venezuela, where anger over food shortages is still mounting, continued to be roiled this week by angry protests and break-ins of grocery stores and businesses that have left five dead, at least 3...   \n",
       "\n",
       "                                                                                                                                                                                                        Top24  \\\n",
       "1984                              New EU 'superstate plan by France, Germany: Creating a European superstate limiting the powers of individual members following Britains referendum decision to leave the EU   \n",
       "1985                                                                                                                                                                         8 Suicide Bombers Strike Lebanon   \n",
       "1986                                                                                                                                                    BBC News: Labour MPs pass Corbyn no-confidence motion   \n",
       "1987                                                                                          UEFA says no minutes of silence for Istanbul victims at Euro 2016 because 'Turkey have already been eliminated'   \n",
       "1988  A Hindu temple worker has been killed by three men on a motorcycle, local police have said. More than 40 people have been killed in attacks blamed on Islamist militants in Bangladesh since Februar...   \n",
       "\n",
       "                                                                                                                                                                                                        Top25  \n",
       "1984                                                                                                                                  Pakistani clerics declare transgender marriages legal under Islamic law  \n",
       "1985  Mexico's security forces routinely use 'sexual torture' against women: Rights group Amnesty International has compiled testimonies of sexual violence used as torture by Mexican security forces. De...  \n",
       "1986                                                                                                                           Tiny New Zealand town with 'too many jobs' launches drive to recruit outsiders  \n",
       "1987                                                                                                                           Law Enforcement Sources: Gun Used in Paris Terrorist Attacks Came from Phoenix  \n",
       "1988  Ozone layer hole seems to be healing - US &amp; UK team shows it's shrunk &amp; may slowly recover. \"If you had to have an ozone hole anywhere in the world, it'd be Antarctica because its not teem...  \n",
       "\n",
       "[5 rows x 27 columns]"
      ]
     },
     "execution_count": 3,
     "metadata": {},
     "output_type": "execute_result"
    }
   ],
   "source": [
    "df.tail()"
   ]
  },
  {
   "cell_type": "code",
   "execution_count": 4,
   "metadata": {},
   "outputs": [
    {
     "data": {
      "text/plain": [
       "(1989, 27)"
      ]
     },
     "execution_count": 4,
     "metadata": {},
     "output_type": "execute_result"
    }
   ],
   "source": [
    "df.shape"
   ]
  },
  {
   "cell_type": "code",
   "execution_count": null,
   "metadata": {},
   "outputs": [],
   "source": []
  },
  {
   "cell_type": "code",
   "execution_count": 22,
   "metadata": {},
   "outputs": [
    {
     "name": "stdout",
     "output_type": "stream",
     "text": [
      "nan\n",
      "nan\n",
      "nan\n",
      "nan\n",
      "nan\n",
      "nan\n",
      "nan\n"
     ]
    },
    {
     "data": {
      "text/plain": [
       "49725"
      ]
     },
     "execution_count": 22,
     "metadata": {},
     "output_type": "execute_result"
    }
   ],
   "source": [
    "#fix nans\n",
    "documents = []\n",
    "for row in range(df.shape[0]):\n",
    "    for col in range(2,27):\n",
    "        if type(df.iloc[row,col])!=str:\n",
    "            print(df.iloc[row,col])\n",
    "            documents.append(\" \")\n",
    "        else:\n",
    "            documents.append(df.iloc[row,col])\n",
    "len(documents)"
   ]
  },
  {
   "cell_type": "code",
   "execution_count": 23,
   "metadata": {},
   "outputs": [
    {
     "name": "stdout",
     "output_type": "stream",
     "text": [
      "b\"Georgia 'downs two Russian warplanes' as countries move to brink of war\"\n"
     ]
    }
   ],
   "source": [
    "print(documents[0])"
   ]
  },
  {
   "cell_type": "code",
   "execution_count": 7,
   "metadata": {},
   "outputs": [
    {
     "name": "stdout",
     "output_type": "stream",
     "text": [
      "Loaded Stories 62912\n"
     ]
    }
   ],
   "source": [
    "import pickle\n",
    "stories = pickle.load(open('cnn_dataset.pkl', 'rb'))\n",
    "print('Loaded Stories %d' % len(stories))"
   ]
  },
  {
   "cell_type": "code",
   "execution_count": 8,
   "metadata": {},
   "outputs": [],
   "source": [
    "documents = [\" \".join(x['highlights']) for x in stories]"
   ]
  },
  {
   "cell_type": "code",
   "execution_count": 24,
   "metadata": {},
   "outputs": [
    {
     "data": {
      "text/plain": [
       "49725"
      ]
     },
     "execution_count": 24,
     "metadata": {},
     "output_type": "execute_result"
    }
   ],
   "source": [
    "len(documents)"
   ]
  },
  {
   "cell_type": "code",
   "execution_count": 120,
   "metadata": {},
   "outputs": [],
   "source": [
    "news_df = pd.DataFrame({'document':documents})\n",
    "\n",
    "# removing everything except alphabets`\n",
    "news_df['clean_doc'] = news_df['document'].str.replace(\"[^a-zA-Z#]\", \" \")\n",
    "\n",
    "\n",
    "# removing short words\n",
    "news_df['clean_doc'] = news_df['clean_doc'].apply(lambda x: ' '.join([w for w in x.split() if len(w)>=4]))\n",
    "\n",
    "# make all text lowercase\n",
    "news_df['clean_doc'] = news_df['clean_doc'].apply(lambda x: x.lower())"
   ]
  },
  {
   "cell_type": "code",
   "execution_count": 121,
   "metadata": {},
   "outputs": [
    {
     "data": {
      "text/html": [
       "<div>\n",
       "<style scoped>\n",
       "    .dataframe tbody tr th:only-of-type {\n",
       "        vertical-align: middle;\n",
       "    }\n",
       "\n",
       "    .dataframe tbody tr th {\n",
       "        vertical-align: top;\n",
       "    }\n",
       "\n",
       "    .dataframe thead th {\n",
       "        text-align: right;\n",
       "    }\n",
       "</style>\n",
       "<table border=\"1\" class=\"dataframe\">\n",
       "  <thead>\n",
       "    <tr style=\"text-align: right;\">\n",
       "      <th></th>\n",
       "      <th>document</th>\n",
       "      <th>clean_doc</th>\n",
       "    </tr>\n",
       "  </thead>\n",
       "  <tbody>\n",
       "    <tr>\n",
       "      <th>0</th>\n",
       "      <td>b\"Georgia 'downs two Russian warplanes' as countries move to brink of war\"</td>\n",
       "      <td>georgia downs russian warplanes countries move brink</td>\n",
       "    </tr>\n",
       "    <tr>\n",
       "      <th>1</th>\n",
       "      <td>b'BREAKING: Musharraf to be impeached.'</td>\n",
       "      <td>breaking musharraf impeached</td>\n",
       "    </tr>\n",
       "    <tr>\n",
       "      <th>2</th>\n",
       "      <td>b'Russia Today: Columns of troops roll into South Ossetia; footage from fighting (YouTube)'</td>\n",
       "      <td>russia today columns troops roll into south ossetia footage from fighting youtube</td>\n",
       "    </tr>\n",
       "    <tr>\n",
       "      <th>3</th>\n",
       "      <td>b'Russian tanks are moving towards the capital of South Ossetia, which has reportedly been completely destroyed by Georgian artillery fire'</td>\n",
       "      <td>russian tanks moving towards capital south ossetia which reportedly been completely destroyed georgian artillery fire</td>\n",
       "    </tr>\n",
       "    <tr>\n",
       "      <th>4</th>\n",
       "      <td>b\"Afghan children raped with 'impunity,' U.N. official says - this is sick, a three year old was raped and they do nothing\"</td>\n",
       "      <td>afghan children raped with impunity official says this sick three year raped they nothing</td>\n",
       "    </tr>\n",
       "  </tbody>\n",
       "</table>\n",
       "</div>"
      ],
      "text/plain": [
       "                                                                                                                                      document  \\\n",
       "0                                                                   b\"Georgia 'downs two Russian warplanes' as countries move to brink of war\"   \n",
       "1                                                                                                      b'BREAKING: Musharraf to be impeached.'   \n",
       "2                                                  b'Russia Today: Columns of troops roll into South Ossetia; footage from fighting (YouTube)'   \n",
       "3  b'Russian tanks are moving towards the capital of South Ossetia, which has reportedly been completely destroyed by Georgian artillery fire'   \n",
       "4                  b\"Afghan children raped with 'impunity,' U.N. official says - this is sick, a three year old was raped and they do nothing\"   \n",
       "\n",
       "                                                                                                               clean_doc  \n",
       "0                                                                   georgia downs russian warplanes countries move brink  \n",
       "1                                                                                           breaking musharraf impeached  \n",
       "2                                      russia today columns troops roll into south ossetia footage from fighting youtube  \n",
       "3  russian tanks moving towards capital south ossetia which reportedly been completely destroyed georgian artillery fire  \n",
       "4                              afghan children raped with impunity official says this sick three year raped they nothing  "
      ]
     },
     "execution_count": 121,
     "metadata": {},
     "output_type": "execute_result"
    }
   ],
   "source": [
    "news_df.head()"
   ]
  },
  {
   "cell_type": "code",
   "execution_count": 122,
   "metadata": {},
   "outputs": [
    {
     "data": {
      "text/plain": [
       "49725"
      ]
     },
     "execution_count": 122,
     "metadata": {},
     "output_type": "execute_result"
    }
   ],
   "source": [
    "len(news_df)"
   ]
  },
  {
   "cell_type": "code",
   "execution_count": 123,
   "metadata": {},
   "outputs": [],
   "source": [
    "from nltk.corpus import stopwords\n",
    "stop_words = stopwords.words('english')\n",
    "\n",
    "# tokenization\n",
    "tokenized_doc = news_df['clean_doc'].apply(lambda x: x.split())\n",
    "\n",
    "# remove stop-words\n",
    "tokenized_doc = tokenized_doc.apply(lambda x: [item for item in x if item not in stop_words])\n",
    "\n",
    "# de-tokenization\n",
    "detokenized_doc = []\n",
    "for i in range(len(news_df)):\n",
    "    t = ' '.join(tokenized_doc[i])\n",
    "    detokenized_doc.append(t)\n",
    "\n",
    "news_df['clean_doc'] = detokenized_doc"
   ]
  },
  {
   "cell_type": "code",
   "execution_count": 124,
   "metadata": {},
   "outputs": [],
   "source": [
    "from nltk.stem import WordNetLemmatizer, SnowballStemmer\n",
    "from nltk.tokenize import word_tokenize\n",
    "class StemTokenizer(object):\n",
    "    def __init__(self):\n",
    "        self.stemmer = SnowballStemmer(\"english\")\n",
    "    def __call__(self,doc):\n",
    "        return [self.stemmer.stem(t) for t in word_tokenize(doc)]"
   ]
  },
  {
   "cell_type": "code",
   "execution_count": 125,
   "metadata": {},
   "outputs": [
    {
     "data": {
      "text/plain": [
       "(49725, 10000)"
      ]
     },
     "execution_count": 125,
     "metadata": {},
     "output_type": "execute_result"
    }
   ],
   "source": [
    "from sklearn.feature_extraction.text import TfidfVectorizer\n",
    "\n",
    "vectorizer = TfidfVectorizer(#stop_words='english', \n",
    "#tokenizer=StemTokenizer(),\n",
    "max_features= 10000, # keep top 10000 terms \n",
    "max_df = 0.5, \n",
    "smooth_idf=True)\n",
    "\n",
    "X = vectorizer.fit_transform(news_df['clean_doc'])\n",
    "\n",
    "X.shape # check shape of the document-term matrix"
   ]
  },
  {
   "cell_type": "code",
   "execution_count": 126,
   "metadata": {},
   "outputs": [
    {
     "data": {
      "text/plain": [
       "10"
      ]
     },
     "execution_count": 126,
     "metadata": {},
     "output_type": "execute_result"
    }
   ],
   "source": [
    "from sklearn.decomposition import TruncatedSVD\n",
    "\n",
    "# SVD represent documents and terms in vectors \n",
    "svd_model = TruncatedSVD(n_components=10, algorithm='randomized', n_iter=100, random_state=122)\n",
    "\n",
    "svd_model.fit(X)\n",
    "\n",
    "len(svd_model.components_)"
   ]
  },
  {
   "cell_type": "code",
   "execution_count": 127,
   "metadata": {},
   "outputs": [
    {
     "name": "stdout",
     "output_type": "stream",
     "text": [
      "Topic 0: says israel korea north china russia world iran police people\n",
      "Topic 1: korea north south korean nuclear jong china test missile japan\n",
      "Topic 2: israel gaza israeli palestinian korea hamas north iran palestinians west\n",
      "Topic 3: russia says ukraine iran putin russian syria nuclear israel military\n",
      "Topic 4: china world israel japan chinese first nuclear iran india bank\n",
      "Topic 5: iran world nuclear says first saudi minister news arabia years\n",
      "Topic 6: world russia first ukraine israel gaza bank putin says government\n",
      "Topic 7: says minister china prime government rights human report snowden must\n",
      "Topic 8: police israel russia government protesters anti court protest arrested officers\n",
      "Topic 9: police world says killed news attack protesters people iran pakistan\n"
     ]
    }
   ],
   "source": [
    "terms = vectorizer.get_feature_names()\n",
    "\n",
    "for i, comp in enumerate(svd_model.components_):\n",
    "    terms_comp = zip(terms, comp)\n",
    "    #print(terms_comp)\n",
    "    sorted_terms = sorted(terms_comp, key= lambda x:x[1], reverse=True)[:10]\n",
    "    print(\"Topic \"+str(i)+\": \"+ \" \".join([t[0] for t in sorted_terms]))\n",
    "    for t in sorted_terms:\n",
    "        pass\n",
    "        #print(t[0])\n",
    "        #print(\" \")"
   ]
  },
  {
   "cell_type": "code",
   "execution_count": 128,
   "metadata": {},
   "outputs": [
    {
     "data": {
      "text/plain": [
       "(10, 49725)"
      ]
     },
     "execution_count": 128,
     "metadata": {},
     "output_type": "execute_result"
    }
   ],
   "source": [
    "#Get params and see which topics are high for specific articles, \n",
    "comps = svd_model.components_\n",
    "\n",
    "n,d = X.shape #Featurized articles\n",
    "topic_scores = np.hstack([comps@X[i:i+1,:].T for i in range(n)])\n",
    "topic_scores.shape"
   ]
  },
  {
   "cell_type": "code",
   "execution_count": 129,
   "metadata": {},
   "outputs": [],
   "source": [
    "#Now let's average out those scores over the surrounding 1000 articles scores to see how average scores change over time\n",
    "d,n = topic_scores.shape\n",
    "averages = []\n",
    "i=0\n",
    "start = 2008\n",
    "end = 2016\n",
    "dates = []\n",
    "while(i<n):\n",
    "    running_sum = topic_scores[:,i:i+1]\n",
    "    i+=1\n",
    "    count = 0\n",
    "    while (i)%1000 != 0:\n",
    "        running_sum = running_sum + topic_scores[:,i:i+1]\n",
    "        i+=1\n",
    "        count+=1\n",
    "    averages.append(running_sum/count)\n",
    "    dates.append(start + (end-start)*i/n)\n",
    "    "
   ]
  },
  {
   "cell_type": "code",
   "execution_count": 130,
   "metadata": {},
   "outputs": [
    {
     "data": {
      "text/plain": [
       "(10, 49)"
      ]
     },
     "execution_count": 130,
     "metadata": {},
     "output_type": "execute_result"
    }
   ],
   "source": [
    "averages = np.hstack(average for average in averages)\n",
    "averages.shape"
   ]
  },
  {
   "cell_type": "code",
   "execution_count": 131,
   "metadata": {},
   "outputs": [
    {
     "data": {
      "text/plain": [
       "[]"
      ]
     },
     "execution_count": 131,
     "metadata": {},
     "output_type": "execute_result"
    },
    {
     "data": {
      "image/png": "[encoded data removed]",
      "text/plain": [
       "<matplotlib.figure.Figure at 0x1c9d729f978>"
      ]
     },
     "metadata": {},
     "output_type": "display_data"
    }
   ],
   "source": [
    "import matplotlib.pyplot as plt\n",
    "fig,ax = plt.subplots(1)\n",
    "ax.plot(dates[:-1],averages[0:5,:].T)\n",
    "ax.legend([\"Topic \"+str(i) for i in range(averages.shape[0])])\n",
    "ax.set_xlabel(\"Year\")\n",
    "ax.set_ylabel(\"Topic Relevance\")\n",
    "ax.set_yticklabels([])"
   ]
  },
  {
   "cell_type": "code",
   "execution_count": 132,
   "metadata": {},
   "outputs": [
    {
     "data": {
      "text/plain": [
       "[<matplotlib.lines.Line2D at 0x1c9d4a6f1d0>,\n",
       " <matplotlib.lines.Line2D at 0x1c9d4a74be0>,\n",
       " <matplotlib.lines.Line2D at 0x1c9d4a74400>,\n",
       " <matplotlib.lines.Line2D at 0x1c9d4a85860>,\n",
       " <matplotlib.lines.Line2D at 0x1c9d4a8b9e8>,\n",
       " <matplotlib.lines.Line2D at 0x1c9d4a89cf8>,\n",
       " <matplotlib.lines.Line2D at 0x1c9d4a89278>,\n",
       " <matplotlib.lines.Line2D at 0x1c9d4a895f8>,\n",
       " <matplotlib.lines.Line2D at 0x1c9d90d5ba8>,\n",
       " <matplotlib.lines.Line2D at 0x1c9d90d5588>]"
      ]
     },
     "execution_count": 132,
     "metadata": {},
     "output_type": "execute_result"
    },
    {
     "data": {
      "image/png": "[encoded data removed]",
      "text/plain": [
       "<matplotlib.figure.Figure at 0x1c9d7297198>"
      ]
     },
     "metadata": {},
     "output_type": "display_data"
    }
   ],
   "source": [
    "plt.plot(dates[:-1],averages.T)"
   ]
  },
  {
   "cell_type": "code",
   "execution_count": 36,
   "metadata": {},
   "outputs": [],
   "source": [
    "from sklearn.decomposition import LatentDirichletAllocation\n",
    "from sklearn.datasets import make_multilabel_classification\n",
    "lda = LatentDirichletAllocation(n_components=10, random_state=0)"
   ]
  },
  {
   "cell_type": "code",
   "execution_count": 66,
   "metadata": {},
   "outputs": [
    {
     "name": "stderr",
     "output_type": "stream",
     "text": [
      "c:\\python36\\lib\\site-packages\\sklearn\\decomposition\\online_lda.py:536: DeprecationWarning: The default value for 'learning_method' will be changed from 'online' to 'batch' in the release 0.20. This warning was introduced in 0.18.\n",
      "  DeprecationWarning)\n"
     ]
    },
    {
     "data": {
      "text/plain": [
       "LatentDirichletAllocation(batch_size=128, doc_topic_prior=None,\n",
       "             evaluate_every=-1, learning_decay=0.7, learning_method=None,\n",
       "             learning_offset=10.0, max_doc_update_iter=100, max_iter=10,\n",
       "             mean_change_tol=0.001, n_components=10, n_jobs=1,\n",
       "             n_topics=None, perp_tol=0.1, random_state=0,\n",
       "             topic_word_prior=None, total_samples=1000000.0, verbose=0)"
      ]
     },
     "execution_count": 66,
     "metadata": {},
     "output_type": "execute_result"
    }
   ],
   "source": [
    "lda.fit(X) "
   ]
  },
  {
   "cell_type": "code",
   "execution_count": 67,
   "metadata": {},
   "outputs": [
    {
     "name": "stdout",
     "output_type": "stream",
     "text": [
      "Topic 0: little course vicentes went bonnienorman talk later\n",
      "Topic 1: article mins awesome articles arrived https great\n",
      "Topic 2: short https hyperloop powered http wrong love\n",
      "Topic 3: yeah sure change climate https great definitely\n",
      "Topic 4: cool house improvements https minor regarding games\n",
      "Topic 5: work westcoastbill transport mass univ direct spaceship\n",
      "Topic 6: http https tesla spacex launch model falcon\n",
      "Topic 7: exactly need hopefully true tregner thomas https\n",
      "Topic 8: interesting elonmusk https problem view faster jovanik\n",
      "Topic 9: http https long really boring wired gets\n"
     ]
    }
   ],
   "source": [
    "terms = vectorizer.get_feature_names()\n",
    "\n",
    "for i, comp in enumerate(lda.components_):\n",
    "    terms_comp = zip(terms, comp)\n",
    "    #print(terms_comp)\n",
    "    sorted_terms = sorted(terms_comp, key= lambda x:x[1], reverse=True)[:7]\n",
    "    print(\"Topic \"+str(i)+\": \"+ \" \".join([t[0] for t in sorted_terms]))\n",
    "    for t in sorted_terms:\n",
    "        pass\n",
    "        #print(t[0])\n",
    "        #print(\" \")"
   ]
  },
  {
   "cell_type": "code",
   "execution_count": 68,
   "metadata": {},
   "outputs": [
    {
     "data": {
      "text/plain": [
       "(10, 3218)"
      ]
     },
     "execution_count": 68,
     "metadata": {},
     "output_type": "execute_result"
    }
   ],
   "source": [
    "#Get params and see which topics are high for specific articles, \n",
    "comps = lda.components_\n",
    "\n",
    "n,d = X.shape #Featurized articles\n",
    "topic_scores = np.hstack([comps@X[i:i+1,:].T for i in range(n)])\n",
    "topic_scores.shape"
   ]
  },
  {
   "cell_type": "code",
   "execution_count": 78,
   "metadata": {},
   "outputs": [],
   "source": [
    "#Now let's average out those scores over the surrounding 1000 articles scores to see how average scores change over time\n",
    "d,n = topic_scores.shape\n",
    "averages = []\n",
    "i=0\n",
    "start = 2008\n",
    "end = 2016\n",
    "dates = []\n",
    "while(i<n):\n",
    "    running_sum = topic_scores[:,i:i+1]\n",
    "    i+=1\n",
    "    count = 0\n",
    "    while (i)%500 != 0:\n",
    "        running_sum = running_sum + topic_scores[:,i:i+1]\n",
    "        i+=1\n",
    "        count+=1\n",
    "    averages.append(running_sum/count)\n",
    "    dates.append(start + (end-start)*i/n)"
   ]
  },
  {
   "cell_type": "code",
   "execution_count": 79,
   "metadata": {},
   "outputs": [
    {
     "data": {
      "text/plain": [
       "(10, 6)"
      ]
     },
     "execution_count": 79,
     "metadata": {},
     "output_type": "execute_result"
    }
   ],
   "source": [
    "averages = np.hstack(average for average in averages)\n",
    "averages.shape"
   ]
  },
  {
   "cell_type": "code",
   "execution_count": 80,
   "metadata": {},
   "outputs": [
    {
     "data": {
      "text/plain": [
       "<matplotlib.legend.Legend at 0x17da5d2cc88>"
      ]
     },
     "execution_count": 80,
     "metadata": {},
     "output_type": "execute_result"
    },
    {
     "data": {
      "image/png": "[encoded data removed]",
      "text/plain": [
       "<matplotlib.figure.Figure at 0x17da5f91518>"
      ]
     },
     "metadata": {},
     "output_type": "display_data"
    }
   ],
   "source": [
    "import matplotlib.pyplot as plt\n",
    "plt.plot(dates[:-1],averages[:4,:].T)\n",
    "plt.legend([\"Topic \"+str(i) for i in range(averages.shape[0])])"
   ]
  },
  {
   "cell_type": "code",
   "execution_count": null,
   "metadata": {},
   "outputs": [],
   "source": []
  },
  {
   "cell_type": "code",
   "execution_count": null,
   "metadata": {},
   "outputs": [],
   "source": []
  }
 ],
 "metadata": {
  "kernelspec": {
   "display_name": "Python 3",
   "language": "python",
   "name": "python3"
  },
  "language_info": {
   "codemirror_mode": {
    "name": "ipython",
    "version": 3
   },
   "file_extension": ".py",
   "mimetype": "text/x-python",
   "name": "python",
   "nbconvert_exporter": "python",
   "pygments_lexer": "ipython3",
   "version": "3.6.0"
  }
 },
 "nbformat": 4,
 "nbformat_minor": 2
}
