{
 "cells": [
  {
   "cell_type": "code",
   "execution_count": 1,
   "metadata": {},
   "outputs": [],
   "source": [
    "import numpy as np\n",
    "import pandas as pd\n",
    "import matplotlib.pyplot as plt\n",
    "import seaborn as sns\n",
    "pd.set_option(\"display.max_colwidth\", 200)"
   ]
  },
  {
   "cell_type": "code",
   "execution_count": 93,
   "metadata": {},
   "outputs": [],
   "source": [
    "df = pd.read_csv('data_elonmusk.csv',encoding = \"ISO-8859-1\")"
   ]
  },
  {
   "cell_type": "code",
   "execution_count": 2,
   "metadata": {},
   "outputs": [],
   "source": [
    "df = pd.read_csv('Combined_News_DJIA.csv')"
   ]
  },
  {
   "cell_type": "code",
   "execution_count": 3,
   "metadata": {},
   "outputs": [
    {
     "data": {
      "text/html": [
       "<div>\n",
       "<style scoped>\n",
       "    .dataframe tbody tr th:only-of-type {\n",
       "        vertical-align: middle;\n",
       "    }\n",
       "\n",
       "    .dataframe tbody tr th {\n",
       "        vertical-align: top;\n",
       "    }\n",
       "\n",
       "    .dataframe thead th {\n",
       "        text-align: right;\n",
       "    }\n",
       "</style>\n",
       "<table border=\"1\" class=\"dataframe\">\n",
       "  <thead>\n",
       "    <tr style=\"text-align: right;\">\n",
       "      <th></th>\n",
       "      <th>Date</th>\n",
       "      <th>Label</th>\n",
       "      <th>Top1</th>\n",
       "      <th>Top2</th>\n",
       "      <th>Top3</th>\n",
       "      <th>Top4</th>\n",
       "      <th>Top5</th>\n",
       "      <th>Top6</th>\n",
       "      <th>Top7</th>\n",
       "      <th>Top8</th>\n",
       "      <th>...</th>\n",
       "      <th>Top16</th>\n",
       "      <th>Top17</th>\n",
       "      <th>Top18</th>\n",
       "      <th>Top19</th>\n",
       "      <th>Top20</th>\n",
       "      <th>Top21</th>\n",
       "      <th>Top22</th>\n",
       "      <th>Top23</th>\n",
       "      <th>Top24</th>\n",
       "      <th>Top25</th>\n",
       "    </tr>\n",
       "  </thead>\n",
       "  <tbody>\n",
       "    <tr>\n",
       "      <th>1984</th>\n",
       "      <td>2016-06-27</td>\n",
       "      <td>0</td>\n",
       "      <td>Barclays and RBS shares suspended from trading after tanking more than 8%</td>\n",
       "      <td>Pope says Church should ask forgiveness from gays for past treatment</td>\n",
       "      <td>Poland 'shocked' by xenophobic abuse of Poles in UK</td>\n",
       "      <td>There will be no second referendum, cabinet agrees</td>\n",
       "      <td>Scotland welcome to join EU, Merkel ally says</td>\n",
       "      <td>Sterling dips below Friday's 31-year low amid Brexit uncertainty</td>\n",
       "      <td>No negative news about South African President allowed on state broadcaster.</td>\n",
       "      <td>Surge in Hate Crimes in the U.K. Following U.K.s Brexit Vote</td>\n",
       "      <td>...</td>\n",
       "      <td>German lawyers to probe Erdogan over alleged war crimes</td>\n",
       "      <td>Boris Johnson says the UK will continue to \"intensify\" cooperation with the EU and tells his fellow Leave supporters they must accept the 52-48 referendum win was \"not entirely overwhelming\".</td>\n",
       "      <td>Richard Branson is calling on the UK government to hold a second EU referendum to prevent 'irreversible damage' to the country.</td>\n",
       "      <td>Turkey 'sorry for downing Russian jet'</td>\n",
       "      <td>Edward Snowden lawyer vows new push for pardon from Obama</td>\n",
       "      <td>Brexit opinion poll reveals majority don't want second EU referendum: \"half (48%) of British adults say that they are happy with the result, with two in five (43%) saying they are unhappy with the...</td>\n",
       "      <td>Conservative MP Leave Campaigner: \"The leave campaign don't have a post-Brexit plan...\"</td>\n",
       "      <td>Economists predict UK recession, further weakening of Pound following Brexit.</td>\n",
       "      <td>New EU 'superstate plan by France, Germany: Creating a European superstate limiting the powers of individual members following Britains referendum decision to leave the EU</td>\n",
       "      <td>Pakistani clerics declare transgender marriages legal under Islamic law</td>\n",
       "    </tr>\n",
       "    <tr>\n",
       "      <th>1985</th>\n",
       "      <td>2016-06-28</td>\n",
       "      <td>1</td>\n",
       "      <td>2,500 Scientists To Australia: If You Want To Save The Great Barrier Reef, Stop Supporting Coal</td>\n",
       "      <td>The personal details of 112,000 French police officers have been uploaded to Google Drive in a security breach just a fortnight after two officers were murdered at their home by a jihadist.</td>\n",
       "      <td>S&amp;amp;P cuts United Kingdom sovereign credit rating to 'AA' from 'AAA'</td>\n",
       "      <td>Huge helium deposit found in Africa</td>\n",
       "      <td>CEO of the South African state broadcaster quits shortly after negative news about president is banned.</td>\n",
       "      <td>Brexit cost investors $2 trillion, the worst one day drop ever</td>\n",
       "      <td>Hong Kong democracy activists call for return to British rule as first step to independence</td>\n",
       "      <td>Brexit: Iceland president says UK can join 'triangle' of non-EU countries</td>\n",
       "      <td>...</td>\n",
       "      <td>US, Canada and Mexico pledge 50% of power from clean energy by 2025</td>\n",
       "      <td>There is increasing evidence that Australia is torturing refugees, medical experts claim</td>\n",
       "      <td>Richard Branson, the founder of Virgin Group, said Tuesday that the company has lost about a third of its value since the U.K. voted to leave the European Union last week.</td>\n",
       "      <td>37,000-yr-old skull from Borneo reveals surprise for scientists - Study of the \"Deep Skull\" - oldest modern human discovered in SE Asia - reveals this ancient person was not related to Indigenous ...</td>\n",
       "      <td>Palestinians stone Western Wall worshipers; police shut Temple Mount to non-Muslims</td>\n",
       "      <td>Jean-Claude Juncker asks Farage: Why are you here?</td>\n",
       "      <td>\"Romanians for Remainians\" offering a new home to the 48% of Britons who voted to stay in the EU | Bucharest newspaper's app connects loving Romanian families with needy Brits, allowing people to ...</td>\n",
       "      <td>Brexit: Gibraltar in talks with Scotland to stay in EU</td>\n",
       "      <td>8 Suicide Bombers Strike Lebanon</td>\n",
       "      <td>Mexico's security forces routinely use 'sexual torture' against women: Rights group Amnesty International has compiled testimonies of sexual violence used as torture by Mexican security forces. De...</td>\n",
       "    </tr>\n",
       "    <tr>\n",
       "      <th>1986</th>\n",
       "      <td>2016-06-29</td>\n",
       "      <td>1</td>\n",
       "      <td>Explosion At Airport In Istanbul</td>\n",
       "      <td>Yemeni former president: Terrorism is the offspring of Wahhabism of Al Saud regime</td>\n",
       "      <td>UK must accept freedom of movement to access EU Market</td>\n",
       "      <td>Devastated: scientists too late to captive breed mammal lost to climate change - Australian conservationists spent 5 months obtaining permissions &amp;amp; planning for a captive breeding program. But...</td>\n",
       "      <td>British Labor Party leader Jeremy Corbyn loses a no-confidence vote but refuses to resign</td>\n",
       "      <td>A Muslim Shop in the UK Was Just Firebombed While People Were Inside</td>\n",
       "      <td>Mexican Authorities Sexually Torture Women in Prison</td>\n",
       "      <td>UK shares and pound continue to recover</td>\n",
       "      <td>...</td>\n",
       "      <td>Escape Tunnel, Dug by Hand, Is Found at Holocaust Massacre Site</td>\n",
       "      <td>The land under Beijing is sinking by as much as four inches per year because of the overconsumption of groundwater, according to new research.</td>\n",
       "      <td>Car bomb and Anti-Islamic attack on Mosque in Perth, Australia</td>\n",
       "      <td>Emaciated lions in Taiz Zoo are trapped in blood-soaked cages and left to starve for months due to the Yemeni civil war</td>\n",
       "      <td>Rupert Murdoch describes Brexit as 'wonderful'. The media mogul likened leaving the EU to a prison break and shared his view of Donald Trump as a very able man.</td>\n",
       "      <td>More than 40 killed in Yemen suicide attacks</td>\n",
       "      <td>Google Found Disastrous Symantec and Norton Vulnerabilities That Are 'As Bad As It Gets</td>\n",
       "      <td>Extremist violence on the rise in Germany: Domestic intelligence agency says far-right, far-left and Islamist radical groups gaining membership in country</td>\n",
       "      <td>BBC News: Labour MPs pass Corbyn no-confidence motion</td>\n",
       "      <td>Tiny New Zealand town with 'too many jobs' launches drive to recruit outsiders</td>\n",
       "    </tr>\n",
       "    <tr>\n",
       "      <th>1987</th>\n",
       "      <td>2016-06-30</td>\n",
       "      <td>1</td>\n",
       "      <td>Jamaica proposes marijuana dispensers for tourists at airports following legalisation: The kiosks and desks would give people a license to purchase up to 2 ounces of the drug to use during their stay</td>\n",
       "      <td>Stephen Hawking says pollution and 'stupidity' still biggest threats to mankind: we have certainly not become less greedy or less stupid in our treatment of the environment over the past decade</td>\n",
       "      <td>Boris Johnson says he will not run for Tory party leadership</td>\n",
       "      <td>Six gay men in Ivory Coast were abused and forced to flee their homes after they were pictured signing a condolence book for victims of the recent attack on a gay nightclub in Florida</td>\n",
       "      <td>Switzerland denies citizenship to Muslim immigrant girls who refused to swim with boys: report</td>\n",
       "      <td>Palestinian terrorist stabs israeli teen girl to death in her bedroom</td>\n",
       "      <td>Puerto Rico will default on $1 billion of debt on Friday</td>\n",
       "      <td>Republic of Ireland fans to be awarded medal for sportsmanship by Paris mayor.</td>\n",
       "      <td>...</td>\n",
       "      <td>Googles free wifi at Indian railway stations is better than most of the countrys paid services</td>\n",
       "      <td>Mounting evidence suggests 'hobbits' were wiped out by modern humans' ancestors 50,000 years ago.</td>\n",
       "      <td>The men who carried out Tuesday's terror attack at Istanbul's Ataturk Airport were from Russia, Uzbekistan and Kyrgyzstan, a Turkish offical said.</td>\n",
       "      <td>Calls to suspend Saudi Arabia from UN Human Rights Council because of military aggresion in Yemen</td>\n",
       "      <td>More Than 100 Nobel Laureates Call Out Greenpeace For Anti-GMO Obstruction In Developing World</td>\n",
       "      <td>British pedophile sentenced to 85 years in US for trafficking child abuse images: Domminich Shaw, a kingpin of sexual violence against children, sent dozens of images online and discussed plans to...</td>\n",
       "      <td>US permitted 1,200 offshore fracks in Gulf of Mexico between 2010 and 2014 and allowed 72 billion gallons of chemical discharge in 2014.</td>\n",
       "      <td>We will be swimming in ridicule - French beach police to carry guns while in swimming trunks: Police lifeguards on Frances busiest beaches will carry guns and bullet-proof vests for the first time...</td>\n",
       "      <td>UEFA says no minutes of silence for Istanbul victims at Euro 2016 because 'Turkey have already been eliminated'</td>\n",
       "      <td>Law Enforcement Sources: Gun Used in Paris Terrorist Attacks Came from Phoenix</td>\n",
       "    </tr>\n",
       "    <tr>\n",
       "      <th>1988</th>\n",
       "      <td>2016-07-01</td>\n",
       "      <td>1</td>\n",
       "      <td>A 117-year-old woman in Mexico City finally received her birth certificate, and died a few hours later. Trinidad Alvarez Lira had waited years for proof that she had been born in 1898.</td>\n",
       "      <td>IMF chief backs Athens as permanent Olympic host</td>\n",
       "      <td>The president of France says if Brexit won, so can Donald Trump</td>\n",
       "      <td>British Man Who Must Give Police 24 Hours' Notice of Sex Threatens Hunger Strike: The man is the subject of a sexual risk order despite having never been convicted of a crime.</td>\n",
       "      <td>100+ Nobel laureates urge Greenpeace to stop opposing GMOs</td>\n",
       "      <td>Brazil: Huge spike in number of police killings in Rio ahead of Olympics</td>\n",
       "      <td>Austria's highest court annuls presidential election narrowly lost by right-wing candidate.</td>\n",
       "      <td>Facebook wins privacy case, can track any Belgian it wants: Doesn't matter if Internet users are logged into Facebook or not</td>\n",
       "      <td>...</td>\n",
       "      <td>The United States has placed Myanmar, Uzbekistan, Sudan and Haiti on its list of worst human trafficking offenders.</td>\n",
       "      <td>S&amp;amp;P revises European Union credit rating to 'AA' from 'AA+'</td>\n",
       "      <td>India gets $1 billion loan from World Bank for solar mission</td>\n",
       "      <td>U.S. sailors detained by Iran spoke too much under interrogation: Navy</td>\n",
       "      <td>Mass fish kill in Vietnam solved as Taiwan steelmaker accepts responsibility for pollution</td>\n",
       "      <td>Philippines president Rodrigo Duterte urges people to kill drug addicts | Duterte, 71, won power in a landslide after a campaign dominated by threats to kill tens of thousands in a war on crime</td>\n",
       "      <td>Spain arrests three Pakistanis accused of promoting militancy</td>\n",
       "      <td>Venezuela, where anger over food shortages is still mounting, continued to be roiled this week by angry protests and break-ins of grocery stores and businesses that have left five dead, at least 3...</td>\n",
       "      <td>A Hindu temple worker has been killed by three men on a motorcycle, local police have said. More than 40 people have been killed in attacks blamed on Islamist militants in Bangladesh since Februar...</td>\n",
       "      <td>Ozone layer hole seems to be healing - US &amp;amp; UK team shows it's shrunk &amp;amp; may slowly recover. \"If you had to have an ozone hole anywhere in the world, it'd be Antarctica because its not teem...</td>\n",
       "    </tr>\n",
       "  </tbody>\n",
       "</table>\n",
       "<p>5 rows × 27 columns</p>\n",
       "</div>"
      ],
      "text/plain": [
       "            Date  Label  \\\n",
       "1984  2016-06-27      0   \n",
       "1985  2016-06-28      1   \n",
       "1986  2016-06-29      1   \n",
       "1987  2016-06-30      1   \n",
       "1988  2016-07-01      1   \n",
       "\n",
       "                                                                                                                                                                                                         Top1  \\\n",
       "1984                                                                                                                                Barclays and RBS shares suspended from trading after tanking more than 8%   \n",
       "1985                                                                                                          2,500 Scientists To Australia: If You Want To Save The Great Barrier Reef, Stop Supporting Coal   \n",
       "1986                                                                                                                                                                         Explosion At Airport In Istanbul   \n",
       "1987  Jamaica proposes marijuana dispensers for tourists at airports following legalisation: The kiosks and desks would give people a license to purchase up to 2 ounces of the drug to use during their stay   \n",
       "1988                 A 117-year-old woman in Mexico City finally received her birth certificate, and died a few hours later. Trinidad Alvarez Lira had waited years for proof that she had been born in 1898.   \n",
       "\n",
       "                                                                                                                                                                                                   Top2  \\\n",
       "1984                                                                                                                               Pope says Church should ask forgiveness from gays for past treatment   \n",
       "1985      The personal details of 112,000 French police officers have been uploaded to Google Drive in a security breach just a fortnight after two officers were murdered at their home by a jihadist.   \n",
       "1986                                                                                                                 Yemeni former president: Terrorism is the offspring of Wahhabism of Al Saud regime   \n",
       "1987  Stephen Hawking says pollution and 'stupidity' still biggest threats to mankind: we have certainly not become less greedy or less stupid in our treatment of the environment over the past decade   \n",
       "1988                                                                                                                                                   IMF chief backs Athens as permanent Olympic host   \n",
       "\n",
       "                                                                        Top3  \\\n",
       "1984                     Poland 'shocked' by xenophobic abuse of Poles in UK   \n",
       "1985  S&amp;P cuts United Kingdom sovereign credit rating to 'AA' from 'AAA'   \n",
       "1986                  UK must accept freedom of movement to access EU Market   \n",
       "1987            Boris Johnson says he will not run for Tory party leadership   \n",
       "1988         The president of France says if Brexit won, so can Donald Trump   \n",
       "\n",
       "                                                                                                                                                                                                         Top4  \\\n",
       "1984                                                                                                                                                       There will be no second referendum, cabinet agrees   \n",
       "1985                                                                                                                                                                      Huge helium deposit found in Africa   \n",
       "1986  Devastated: scientists too late to captive breed mammal lost to climate change - Australian conservationists spent 5 months obtaining permissions &amp; planning for a captive breeding program. But...   \n",
       "1987                  Six gay men in Ivory Coast were abused and forced to flee their homes after they were pictured signing a condolence book for victims of the recent attack on a gay nightclub in Florida   \n",
       "1988                          British Man Who Must Give Police 24 Hours' Notice of Sex Threatens Hunger Strike: The man is the subject of a sexual risk order despite having never been convicted of a crime.   \n",
       "\n",
       "                                                                                                         Top5  \\\n",
       "1984                                                            Scotland welcome to join EU, Merkel ally says   \n",
       "1985  CEO of the South African state broadcaster quits shortly after negative news about president is banned.   \n",
       "1986                British Labor Party leader Jeremy Corbyn loses a no-confidence vote but refuses to resign   \n",
       "1987           Switzerland denies citizenship to Muslim immigrant girls who refused to swim with boys: report   \n",
       "1988                                               100+ Nobel laureates urge Greenpeace to stop opposing GMOs   \n",
       "\n",
       "                                                                          Top6  \\\n",
       "1984          Sterling dips below Friday's 31-year low amid Brexit uncertainty   \n",
       "1985            Brexit cost investors $2 trillion, the worst one day drop ever   \n",
       "1986      A Muslim Shop in the UK Was Just Firebombed While People Were Inside   \n",
       "1987     Palestinian terrorist stabs israeli teen girl to death in her bedroom   \n",
       "1988  Brazil: Huge spike in number of police killings in Rio ahead of Olympics   \n",
       "\n",
       "                                                                                             Top7  \\\n",
       "1984                 No negative news about South African President allowed on state broadcaster.   \n",
       "1985  Hong Kong democracy activists call for return to British rule as first step to independence   \n",
       "1986                                         Mexican Authorities Sexually Torture Women in Prison   \n",
       "1987                                     Puerto Rico will default on $1 billion of debt on Friday   \n",
       "1988  Austria's highest court annuls presidential election narrowly lost by right-wing candidate.   \n",
       "\n",
       "                                                                                                                              Top8  \\\n",
       "1984                                                                  Surge in Hate Crimes in the U.K. Following U.K.s Brexit Vote   \n",
       "1985                                                     Brexit: Iceland president says UK can join 'triangle' of non-EU countries   \n",
       "1986                                                                                       UK shares and pound continue to recover   \n",
       "1987                                                Republic of Ireland fans to be awarded medal for sportsmanship by Paris mayor.   \n",
       "1988  Facebook wins privacy case, can track any Belgian it wants: Doesn't matter if Internet users are logged into Facebook or not   \n",
       "\n",
       "                                                                                                       ...                                                                                                     \\\n",
       "1984                                                                                                   ...                                                                                                      \n",
       "1985                                                                                                   ...                                                                                                      \n",
       "1986                                                                                                   ...                                                                                                      \n",
       "1987                                                                                                   ...                                                                                                      \n",
       "1988                                                                                                   ...                                                                                                      \n",
       "\n",
       "                                                                                                                    Top16  \\\n",
       "1984                                                              German lawyers to probe Erdogan over alleged war crimes   \n",
       "1985                                                  US, Canada and Mexico pledge 50% of power from clean energy by 2025   \n",
       "1986                                                      Escape Tunnel, Dug by Hand, Is Found at Holocaust Massacre Site   \n",
       "1987                       Googles free wifi at Indian railway stations is better than most of the countrys paid services   \n",
       "1988  The United States has placed Myanmar, Uzbekistan, Sudan and Haiti on its list of worst human trafficking offenders.   \n",
       "\n",
       "                                                                                                                                                                                                Top17  \\\n",
       "1984  Boris Johnson says the UK will continue to \"intensify\" cooperation with the EU and tells his fellow Leave supporters they must accept the 52-48 referendum win was \"not entirely overwhelming\".   \n",
       "1985                                                                                                         There is increasing evidence that Australia is torturing refugees, medical experts claim   \n",
       "1986                                                   The land under Beijing is sinking by as much as four inches per year because of the overconsumption of groundwater, according to new research.   \n",
       "1987                                                                                                Mounting evidence suggests 'hobbits' were wiped out by modern humans' ancestors 50,000 years ago.   \n",
       "1988                                                                                                                                  S&amp;P revises European Union credit rating to 'AA' from 'AA+'   \n",
       "\n",
       "                                                                                                                                                                            Top18  \\\n",
       "1984                                              Richard Branson is calling on the UK government to hold a second EU referendum to prevent 'irreversible damage' to the country.   \n",
       "1985  Richard Branson, the founder of Virgin Group, said Tuesday that the company has lost about a third of its value since the U.K. voted to leave the European Union last week.   \n",
       "1986                                                                                                               Car bomb and Anti-Islamic attack on Mosque in Perth, Australia   \n",
       "1987                           The men who carried out Tuesday's terror attack at Istanbul's Ataturk Airport were from Russia, Uzbekistan and Kyrgyzstan, a Turkish offical said.   \n",
       "1988                                                                                                                 India gets $1 billion loan from World Bank for solar mission   \n",
       "\n",
       "                                                                                                                                                                                                        Top19  \\\n",
       "1984                                                                                                                                                                   Turkey 'sorry for downing Russian jet'   \n",
       "1985  37,000-yr-old skull from Borneo reveals surprise for scientists - Study of the \"Deep Skull\" - oldest modern human discovered in SE Asia - reveals this ancient person was not related to Indigenous ...   \n",
       "1986                                                                                  Emaciated lions in Taiz Zoo are trapped in blood-soaked cages and left to starve for months due to the Yemeni civil war   \n",
       "1987                                                                                                        Calls to suspend Saudi Arabia from UN Human Rights Council because of military aggresion in Yemen   \n",
       "1988                                                                                                                                   U.S. sailors detained by Iran spoke too much under interrogation: Navy   \n",
       "\n",
       "                                                                                                                                                                 Top20  \\\n",
       "1984                                                                                                         Edward Snowden lawyer vows new push for pardon from Obama   \n",
       "1985                                                                               Palestinians stone Western Wall worshipers; police shut Temple Mount to non-Muslims   \n",
       "1986  Rupert Murdoch describes Brexit as 'wonderful'. The media mogul likened leaving the EU to a prison break and shared his view of Donald Trump as a very able man.   \n",
       "1987                                                                    More Than 100 Nobel Laureates Call Out Greenpeace For Anti-GMO Obstruction In Developing World   \n",
       "1988                                                                        Mass fish kill in Vietnam solved as Taiwan steelmaker accepts responsibility for pollution   \n",
       "\n",
       "                                                                                                                                                                                                        Top21  \\\n",
       "1984  Brexit opinion poll reveals majority don't want second EU referendum: \"half (48%) of British adults say that they are happy with the result, with two in five (43%) saying they are unhappy with the...   \n",
       "1985                                                                                                                                                       Jean-Claude Juncker asks Farage: Why are you here?   \n",
       "1986                                                                                                                                                             More than 40 killed in Yemen suicide attacks   \n",
       "1987  British pedophile sentenced to 85 years in US for trafficking child abuse images: Domminich Shaw, a kingpin of sexual violence against children, sent dozens of images online and discussed plans to...   \n",
       "1988        Philippines president Rodrigo Duterte urges people to kill drug addicts | Duterte, 71, won power in a landslide after a campaign dominated by threats to kill tens of thousands in a war on crime   \n",
       "\n",
       "                                                                                                                                                                                                        Top22  \\\n",
       "1984                                                                                                                  Conservative MP Leave Campaigner: \"The leave campaign don't have a post-Brexit plan...\"   \n",
       "1985  \"Romanians for Remainians\" offering a new home to the 48% of Britons who voted to stay in the EU | Bucharest newspaper's app connects loving Romanian families with needy Brits, allowing people to ...   \n",
       "1986                                                                                                                  Google Found Disastrous Symantec and Norton Vulnerabilities That Are 'As Bad As It Gets   \n",
       "1987                                                                 US permitted 1,200 offshore fracks in Gulf of Mexico between 2010 and 2014 and allowed 72 billion gallons of chemical discharge in 2014.   \n",
       "1988                                                                                                                                            Spain arrests three Pakistanis accused of promoting militancy   \n",
       "\n",
       "                                                                                                                                                                                                        Top23  \\\n",
       "1984                                                                                                                            Economists predict UK recession, further weakening of Pound following Brexit.   \n",
       "1985                                                                                                                                                   Brexit: Gibraltar in talks with Scotland to stay in EU   \n",
       "1986                                               Extremist violence on the rise in Germany: Domestic intelligence agency says far-right, far-left and Islamist radical groups gaining membership in country   \n",
       "1987  We will be swimming in ridicule - French beach police to carry guns while in swimming trunks: Police lifeguards on Frances busiest beaches will carry guns and bullet-proof vests for the first time...   \n",
       "1988  Venezuela, where anger over food shortages is still mounting, continued to be roiled this week by angry protests and break-ins of grocery stores and businesses that have left five dead, at least 3...   \n",
       "\n",
       "                                                                                                                                                                                                        Top24  \\\n",
       "1984                              New EU 'superstate plan by France, Germany: Creating a European superstate limiting the powers of individual members following Britains referendum decision to leave the EU   \n",
       "1985                                                                                                                                                                         8 Suicide Bombers Strike Lebanon   \n",
       "1986                                                                                                                                                    BBC News: Labour MPs pass Corbyn no-confidence motion   \n",
       "1987                                                                                          UEFA says no minutes of silence for Istanbul victims at Euro 2016 because 'Turkey have already been eliminated'   \n",
       "1988  A Hindu temple worker has been killed by three men on a motorcycle, local police have said. More than 40 people have been killed in attacks blamed on Islamist militants in Bangladesh since Februar...   \n",
       "\n",
       "                                                                                                                                                                                                        Top25  \n",
       "1984                                                                                                                                  Pakistani clerics declare transgender marriages legal under Islamic law  \n",
       "1985  Mexico's security forces routinely use 'sexual torture' against women: Rights group Amnesty International has compiled testimonies of sexual violence used as torture by Mexican security forces. De...  \n",
       "1986                                                                                                                           Tiny New Zealand town with 'too many jobs' launches drive to recruit outsiders  \n",
       "1987                                                                                                                           Law Enforcement Sources: Gun Used in Paris Terrorist Attacks Came from Phoenix  \n",
       "1988  Ozone layer hole seems to be healing - US &amp; UK team shows it's shrunk &amp; may slowly recover. \"If you had to have an ozone hole anywhere in the world, it'd be Antarctica because its not teem...  \n",
       "\n",
       "[5 rows x 27 columns]"
      ]
     },
     "execution_count": 3,
     "metadata": {},
     "output_type": "execute_result"
    }
   ],
   "source": [
    "df.tail()"
   ]
  },
  {
   "cell_type": "code",
   "execution_count": 4,
   "metadata": {},
   "outputs": [
    {
     "data": {
      "text/plain": [
       "(1989, 27)"
      ]
     },
     "execution_count": 4,
     "metadata": {},
     "output_type": "execute_result"
    }
   ],
   "source": [
    "df.shape"
   ]
  },
  {
   "cell_type": "code",
   "execution_count": 5,
   "metadata": {},
   "outputs": [
    {
     "name": "stdout",
     "output_type": "stream",
     "text": [
      "nan\n",
      "nan\n",
      "nan\n",
      "nan\n",
      "nan\n",
      "nan\n",
      "nan\n"
     ]
    },
    {
     "data": {
      "text/plain": [
       "49725"
      ]
     },
     "execution_count": 5,
     "metadata": {},
     "output_type": "execute_result"
    }
   ],
   "source": [
    "#fix nans\n",
    "documents = []\n",
    "for row in range(df.shape[0]):\n",
    "    for col in range(2,27):\n",
    "        if type(df.iloc[row,col])!=str:\n",
    "            print(df.iloc[row,col])\n",
    "            documents.append(\" \")\n",
    "        else:\n",
    "            documents.append(df.iloc[row,col])\n",
    "len(documents)"
   ]
  },
  {
   "cell_type": "code",
   "execution_count": 6,
   "metadata": {},
   "outputs": [],
   "source": [
    "news_df = pd.DataFrame({'document':documents})\n",
    "\n",
    "# removing everything except alphabets`\n",
    "news_df['clean_doc'] = news_df['document'].str.replace(\"[^a-zA-Z#]\", \" \")\n",
    "\n",
    "\n",
    "# removing short words\n",
    "news_df['clean_doc'] = news_df['clean_doc'].apply(lambda x: ' '.join([w for w in x.split() if len(w)>3]))\n",
    "\n",
    "# make all text lowercase\n",
    "news_df['headline_text'] = news_df['clean_doc'].apply(lambda x: x.lower())\n",
    "news_df[\"index\"] = [i for i in range(len(documents))]\n",
    "del news_df['document']\n",
    "del news_df['clean_doc']\n",
    "documents = news_df"
   ]
  },
  {
   "cell_type": "code",
   "execution_count": 7,
   "metadata": {},
   "outputs": [
    {
     "data": {
      "text/html": [
       "<div>\n",
       "<style scoped>\n",
       "    .dataframe tbody tr th:only-of-type {\n",
       "        vertical-align: middle;\n",
       "    }\n",
       "\n",
       "    .dataframe tbody tr th {\n",
       "        vertical-align: top;\n",
       "    }\n",
       "\n",
       "    .dataframe thead th {\n",
       "        text-align: right;\n",
       "    }\n",
       "</style>\n",
       "<table border=\"1\" class=\"dataframe\">\n",
       "  <thead>\n",
       "    <tr style=\"text-align: right;\">\n",
       "      <th></th>\n",
       "      <th>headline_text</th>\n",
       "      <th>index</th>\n",
       "    </tr>\n",
       "  </thead>\n",
       "  <tbody>\n",
       "    <tr>\n",
       "      <th>0</th>\n",
       "      <td>georgia downs russian warplanes countries move brink</td>\n",
       "      <td>0</td>\n",
       "    </tr>\n",
       "    <tr>\n",
       "      <th>1</th>\n",
       "      <td>breaking musharraf impeached</td>\n",
       "      <td>1</td>\n",
       "    </tr>\n",
       "    <tr>\n",
       "      <th>2</th>\n",
       "      <td>russia today columns troops roll into south ossetia footage from fighting youtube</td>\n",
       "      <td>2</td>\n",
       "    </tr>\n",
       "    <tr>\n",
       "      <th>3</th>\n",
       "      <td>russian tanks moving towards capital south ossetia which reportedly been completely destroyed georgian artillery fire</td>\n",
       "      <td>3</td>\n",
       "    </tr>\n",
       "    <tr>\n",
       "      <th>4</th>\n",
       "      <td>afghan children raped with impunity official says this sick three year raped they nothing</td>\n",
       "      <td>4</td>\n",
       "    </tr>\n",
       "  </tbody>\n",
       "</table>\n",
       "</div>"
      ],
      "text/plain": [
       "                                                                                                           headline_text  \\\n",
       "0                                                                   georgia downs russian warplanes countries move brink   \n",
       "1                                                                                           breaking musharraf impeached   \n",
       "2                                      russia today columns troops roll into south ossetia footage from fighting youtube   \n",
       "3  russian tanks moving towards capital south ossetia which reportedly been completely destroyed georgian artillery fire   \n",
       "4                              afghan children raped with impunity official says this sick three year raped they nothing   \n",
       "\n",
       "   index  \n",
       "0      0  \n",
       "1      1  \n",
       "2      2  \n",
       "3      3  \n",
       "4      4  "
      ]
     },
     "execution_count": 7,
     "metadata": {},
     "output_type": "execute_result"
    }
   ],
   "source": [
    "documents[0:5]"
   ]
  },
  {
   "cell_type": "code",
   "execution_count": 98,
   "metadata": {},
   "outputs": [
    {
     "name": "stdout",
     "output_type": "stream",
     "text": [
      "[nltk_data] Downloading package wordnet to\n",
      "[nltk_data]     C:\\Users\\caboonie\\AppData\\Roaming\\nltk_data...\n",
      "[nltk_data]   Package wordnet is already up-to-date!\n"
     ]
    },
    {
     "data": {
      "text/plain": [
       "True"
      ]
     },
     "execution_count": 98,
     "metadata": {},
     "output_type": "execute_result"
    }
   ],
   "source": [
    "import gensim\n",
    "from gensim.utils import simple_preprocess\n",
    "from gensim.parsing.preprocessing import STOPWORDS\n",
    "from nltk.stem import WordNetLemmatizer, SnowballStemmer\n",
    "from nltk.stem.porter import *\n",
    "from nltk import PorterStemmer\n",
    "#from nltk.stem.porter import stemmer\n",
    "import numpy as np\n",
    "np.random.seed(2018)\n",
    "import nltk\n",
    "nltk.download('wordnet')"
   ]
  },
  {
   "cell_type": "code",
   "execution_count": 99,
   "metadata": {},
   "outputs": [],
   "source": [
    "def lemmatize_stemming(text):\n",
    "    return PorterStemmer().stem(WordNetLemmatizer().lemmatize(text, pos='v'))\n",
    "def preprocess(text):\n",
    "    result = []\n",
    "    for token in gensim.utils.simple_preprocess(text):\n",
    "        if token not in gensim.parsing.preprocessing.STOPWORDS and len(token) > 3:\n",
    "            result.append(lemmatize_stemming(token))\n",
    "    return result"
   ]
  },
  {
   "cell_type": "code",
   "execution_count": 100,
   "metadata": {},
   "outputs": [
    {
     "name": "stdout",
     "output_type": "stream",
     "text": [
      "original document: \n",
      "['heart', 'goes', 'people', 'central', 'texas', 'home', 'spacex', 'resources', 'disposal', 'help']\n",
      "\n",
      "\n",
      " tokenized and lemmatized document: \n",
      "['heart', 'go', 'peopl', 'central', 'texa', 'home', 'spacex', 'resourc', 'dispos', 'help']\n"
     ]
    }
   ],
   "source": [
    "doc_sample = documents[documents['index'] == 3000].values[0][0]\n",
    "print('original document: ')\n",
    "words = []\n",
    "for word in doc_sample.split(' '):\n",
    "    words.append(word)\n",
    "print(words)\n",
    "print('\\n\\n tokenized and lemmatized document: ')\n",
    "print(preprocess(doc_sample))"
   ]
  },
  {
   "cell_type": "code",
   "execution_count": 101,
   "metadata": {},
   "outputs": [
    {
     "data": {
      "text/plain": [
       "0                    [meltingic, assum, acceler, comfort, direct, feel, like, mild, moder, http, fpjmegrhfc]\n",
       "1          [spacex, capabl, transport, satellit, orbit, crew, cargo, space, station, complet, mission, moon]\n",
       "2                                                                                                   [bigajm]\n",
       "3                                                                                               [http, muhm]\n",
       "4                                                          [place, earth, min, cost, seat, http, dgyddgttyd]\n",
       "5    [spacex, support, creation, perman, self, sustain, human, presenc, mar, http, kctblpbsg, http, hksrocg]\n",
       "6                                                                                         [earth, min, http]\n",
       "7                                       [mar, citi, opposit, earth, dawn, dusk, blue, mar, http, xhczidgqnb]\n",
       "8                                                                                  [moon, base, alpha, http]\n",
       "9                                                             [announc, special, today, talk, http, plxtbji]\n",
       "Name: headline_text, dtype: object"
      ]
     },
     "execution_count": 101,
     "metadata": {},
     "output_type": "execute_result"
    }
   ],
   "source": [
    "processed_docs = documents['headline_text'].map(preprocess)\n",
    "processed_docs[:10]"
   ]
  },
  {
   "cell_type": "code",
   "execution_count": 102,
   "metadata": {},
   "outputs": [
    {
     "name": "stdout",
     "output_type": "stream",
     "text": [
      "0 acceler\n",
      "1 assum\n",
      "2 comfort\n",
      "3 direct\n",
      "4 feel\n",
      "5 fpjmegrhfc\n",
      "6 http\n",
      "7 like\n",
      "8 meltingic\n",
      "9 mild\n",
      "10 moder\n"
     ]
    }
   ],
   "source": [
    "dictionary = gensim.corpora.Dictionary(processed_docs)\n",
    "count = 0\n",
    "for k, v in dictionary.iteritems():\n",
    "    print(k, v)\n",
    "    count += 1\n",
    "    if count > 10:\n",
    "        break"
   ]
  },
  {
   "cell_type": "code",
   "execution_count": 103,
   "metadata": {},
   "outputs": [],
   "source": [
    "dictionary.filter_extremes(no_below=15, no_above=0.5, keep_n=100000)"
   ]
  },
  {
   "cell_type": "code",
   "execution_count": 104,
   "metadata": {},
   "outputs": [
    {
     "data": {
      "text/plain": [
       "[(11, 1), (53, 1), (111, 1), (226, 1), (250, 1)]"
      ]
     },
     "execution_count": 104,
     "metadata": {},
     "output_type": "execute_result"
    }
   ],
   "source": [
    "bow_corpus = [dictionary.doc2bow(doc) for doc in processed_docs]\n",
    "bow_corpus[3000]"
   ]
  },
  {
   "cell_type": "code",
   "execution_count": 105,
   "metadata": {},
   "outputs": [
    {
     "name": "stdout",
     "output_type": "stream",
     "text": [
      "Word 11 (\"spacex\") appears 1 time.\n",
      "Word 53 (\"peopl\") appears 1 time.\n",
      "Word 111 (\"go\") appears 1 time.\n",
      "Word 226 (\"help\") appears 1 time.\n",
      "Word 250 (\"home\") appears 1 time.\n"
     ]
    }
   ],
   "source": [
    "bow_doc_4310 = bow_corpus[3000]\n",
    "for i in range(len(bow_doc_4310)):\n",
    "    print(\"Word {} (\\\"{}\\\") appears {} time.\".format(bow_doc_4310[i][0], \n",
    "                                               dictionary[bow_doc_4310[i][0]], \n",
    "bow_doc_4310[i][1]))"
   ]
  },
  {
   "cell_type": "code",
   "execution_count": 106,
   "metadata": {},
   "outputs": [
    {
     "name": "stdout",
     "output_type": "stream",
     "text": [
      "[(0, 0.6547866057704743),\n",
      " (1, 0.6402459154717929),\n",
      " (2, 0.11654199638516236),\n",
      " (3, 0.3843925489702265)]\n"
     ]
    }
   ],
   "source": [
    "from gensim import corpora, models\n",
    "tfidf = models.TfidfModel(bow_corpus)\n",
    "corpus_tfidf = tfidf[bow_corpus]\n",
    "from pprint import pprint\n",
    "for doc in corpus_tfidf:\n",
    "    pprint(doc)\n",
    "    break"
   ]
  },
  {
   "cell_type": "code",
   "execution_count": 107,
   "metadata": {},
   "outputs": [],
   "source": [
    "#LSA?\n",
    "lda_model = gensim.models.LsiModel(bow_corpus, num_topics=10, id2word=dictionary)"
   ]
  },
  {
   "cell_type": "code",
   "execution_count": 108,
   "metadata": {},
   "outputs": [],
   "source": [
    "lda_model = gensim.models.LdaMulticore(bow_corpus, num_topics=10, id2word=dictionary, passes=2, workers=2)"
   ]
  },
  {
   "cell_type": "code",
   "execution_count": 109,
   "metadata": {},
   "outputs": [
    {
     "name": "stdout",
     "output_type": "stream",
     "text": [
      "Topic: 0 \n",
      "Words: 0.165*\"http\" + 0.033*\"tesla\" + 0.030*\"like\" + 0.022*\"spacex\" + 0.018*\"dragon\" + 0.017*\"articl\" + 0.017*\"look\" + 0.017*\"space\" + 0.016*\"model\" + 0.016*\"station\"\n",
      "Topic: 1 \n",
      "Words: 0.231*\"http\" + 0.059*\"spacex\" + 0.035*\"launch\" + 0.024*\"rocket\" + 0.021*\"falcon\" + 0.021*\"land\" + 0.017*\"right\" + 0.016*\"tesla\" + 0.015*\"space\" + 0.013*\"watch\"\n",
      "Topic: 2 \n",
      "Words: 0.063*\"http\" + 0.036*\"work\" + 0.030*\"yeah\" + 0.028*\"hyperloop\" + 0.025*\"tesla\" + 0.024*\"teslamotor\" + 0.022*\"exactli\" + 0.020*\"falcon\" + 0.018*\"bore\" + 0.017*\"thank\"\n",
      "Topic: 3 \n",
      "Words: 0.061*\"time\" + 0.060*\"http\" + 0.025*\"mayb\" + 0.023*\"great\" + 0.021*\"like\" + 0.020*\"tunnel\" + 0.020*\"go\" + 0.018*\"land\" + 0.018*\"cours\" + 0.017*\"long\"\n",
      "Topic: 4 \n",
      "Words: 0.092*\"http\" + 0.050*\"tesla\" + 0.040*\"spacex\" + 0.035*\"love\" + 0.022*\"falcon\" + 0.020*\"high\" + 0.017*\"test\" + 0.016*\"sure\" + 0.016*\"autopilot\" + 0.015*\"month\"\n",
      "Topic: 5 \n",
      "Words: 0.143*\"http\" + 0.054*\"good\" + 0.048*\"launch\" + 0.021*\"chang\" + 0.018*\"falcon\" + 0.018*\"mar\" + 0.017*\"tesla\" + 0.017*\"dragon\" + 0.016*\"climat\" + 0.014*\"like\"\n",
      "Topic: 6 \n",
      "Words: 0.040*\"good\" + 0.029*\"point\" + 0.026*\"http\" + 0.025*\"soon\" + 0.024*\"come\" + 0.024*\"tesla\" + 0.019*\"softwar\" + 0.019*\"improv\" + 0.018*\"best\" + 0.018*\"autopilot\"\n",
      "Topic: 7 \n",
      "Words: 0.099*\"http\" + 0.071*\"model\" + 0.043*\"tesla\" + 0.034*\"teslamotor\" + 0.032*\"rocket\" + 0.030*\"thank\" + 0.026*\"test\" + 0.021*\"elonmusk\" + 0.017*\"order\" + 0.017*\"peopl\"\n",
      "Topic: 8 \n",
      "Words: 0.096*\"tesla\" + 0.035*\"year\" + 0.032*\"model\" + 0.031*\"http\" + 0.022*\"probabl\" + 0.021*\"plan\" + 0.020*\"better\" + 0.016*\"product\" + 0.016*\"need\" + 0.014*\"servic\"\n",
      "Topic: 9 \n",
      "Words: 0.097*\"http\" + 0.049*\"teslamotor\" + 0.039*\"week\" + 0.035*\"car\" + 0.029*\"like\" + 0.027*\"tesla\" + 0.026*\"year\" + 0.023*\"say\" + 0.018*\"true\" + 0.017*\"model\"\n"
     ]
    }
   ],
   "source": [
    "for idx, topic in lda_model.print_topics(-1):\n",
    "    print('Topic: {} \\nWords: {}'.format(idx, topic))"
   ]
  },
  {
   "cell_type": "code",
   "execution_count": 110,
   "metadata": {},
   "outputs": [
    {
     "data": {
      "text/plain": [
       "(3218,)"
      ]
     },
     "execution_count": 110,
     "metadata": {},
     "output_type": "execute_result"
    }
   ],
   "source": [
    "#number of documents\n",
    "lda_model[bow_corpus[354]]\n",
    "processed_docs.shape"
   ]
  },
  {
   "cell_type": "code",
   "execution_count": 116,
   "metadata": {},
   "outputs": [],
   "source": [
    "#Now let's average out those scores over the surrounding 1000 articles scores to see how average scores change over time\n",
    "n = processed_docs.shape[0]\n",
    "averages = []\n",
    "i=0\n",
    "start = 2012\n",
    "end = 2017\n",
    "dates = []\n",
    "while(i<n):\n",
    "    array = np.zeros((10,1))\n",
    "    k=0\n",
    "    pred = lda_model[bow_corpus[i]]\n",
    "    for j in range(10):\n",
    "        if j in [tup[0] for tup in pred]:\n",
    "            array[j,:] = pred[k][1]\n",
    "            k+=1\n",
    "            \n",
    "    running_sum = array\n",
    "    i+=1\n",
    "    count = 0\n",
    "    while (i)%200 != 0 and i<n:\n",
    "        #print(i)\n",
    "        array = np.zeros((10,1))\n",
    "        k=0\n",
    "        pred = lda_model[bow_corpus[i]]\n",
    "        for j in range(10):\n",
    "            if j in [tup[0] for tup in pred]:\n",
    "                try:\n",
    "                    array[j,:] = pred[k][1]\n",
    "                    k+=1\n",
    "                except:\n",
    "                    print(i,array,j,k,pred)\n",
    "\n",
    "        running_sum = running_sum + array\n",
    "        i+=1\n",
    "        count+=1\n",
    "    averages.append(running_sum/count)\n",
    "    dates.append(start + (end-start)*i/n)"
   ]
  },
  {
   "cell_type": "code",
   "execution_count": 117,
   "metadata": {},
   "outputs": [
    {
     "data": {
      "text/plain": [
       "(10, 17)"
      ]
     },
     "execution_count": 117,
     "metadata": {},
     "output_type": "execute_result"
    }
   ],
   "source": [
    "averages = np.hstack(average for average in averages)\n",
    "averages.shape"
   ]
  },
  {
   "cell_type": "code",
   "execution_count": 118,
   "metadata": {},
   "outputs": [
    {
     "data": {
      "text/plain": [
       "<matplotlib.legend.Legend at 0x1f81ca59f60>"
      ]
     },
     "execution_count": 118,
     "metadata": {},
     "output_type": "execute_result"
    },
    {
     "data": {
      "image/png": "[encoded data removed]",
      "text/plain": [
       "<matplotlib.figure.Figure at 0x1f81c790278>"
      ]
     },
     "metadata": {},
     "output_type": "display_data"
    }
   ],
   "source": [
    "import matplotlib.pyplot as plt\n",
    "plt.plot(dates,averages[9:10,:].T)\n",
    "plt.legend([\"Topic \"+str(i) for i in range(averages.shape[0])])"
   ]
  },
  {
   "cell_type": "code",
   "execution_count": 114,
   "metadata": {},
   "outputs": [
    {
     "data": {
      "text/plain": [
       "[<matplotlib.lines.Line2D at 0x1f81c738da0>,\n",
       " <matplotlib.lines.Line2D at 0x1f81c738f28>,\n",
       " <matplotlib.lines.Line2D at 0x1f81c72a0b8>,\n",
       " <matplotlib.lines.Line2D at 0x1f81c72a208>,\n",
       " <matplotlib.lines.Line2D at 0x1f81c72a358>,\n",
       " <matplotlib.lines.Line2D at 0x1f81c72a4a8>,\n",
       " <matplotlib.lines.Line2D at 0x1f81c72a5f8>,\n",
       " <matplotlib.lines.Line2D at 0x1f81c72a748>,\n",
       " <matplotlib.lines.Line2D at 0x1f81c72a898>,\n",
       " <matplotlib.lines.Line2D at 0x1f81c72a9e8>]"
      ]
     },
     "execution_count": 114,
     "metadata": {},
     "output_type": "execute_result"
    },
    {
     "data": {
      "image/png": "[encoded data removed]",
      "text/plain": [
       "<matplotlib.figure.Figure at 0x1f81841c5f8>"
      ]
     },
     "metadata": {},
     "output_type": "display_data"
    }
   ],
   "source": [
    "import matplotlib.pyplot as plt\n",
    "plt.plot(dates,averages.T)"
   ]
  },
  {
   "cell_type": "code",
   "execution_count": null,
   "metadata": {},
   "outputs": [],
   "source": []
  }
 ],
 "metadata": {
  "kernelspec": {
   "display_name": "Python 3",
   "language": "python",
   "name": "python3"
  },
  "language_info": {
   "codemirror_mode": {
    "name": "ipython",
    "version": 3
   },
   "file_extension": ".py",
   "mimetype": "text/x-python",
   "name": "python",
   "nbconvert_exporter": "python",
   "pygments_lexer": "ipython3",
   "version": "3.6.0"
  }
 },
 "nbformat": 4,
 "nbformat_minor": 2
}
